{
 "cells": [
  {
   "cell_type": "markdown",
   "metadata": {
    "toc": true
   },
   "source": [
    "<h1>Содержание<span class=\"tocSkip\"></span></h1>\n",
    "<div class=\"toc\"><ul class=\"toc-item\"><li><ul class=\"toc-item\"><li><span><a href=\"#Общее-впечатление\" data-toc-modified-id=\"Общее-впечатление-0.1\"><span class=\"toc-item-num\">0.1&nbsp;&nbsp;</span><font color=\"orange\">Общее впечатление</font></a></span></li><li><span><a href=\"#Общее-впечатление-(ревью-2)\" data-toc-modified-id=\"Общее-впечатление-(ревью-2)-0.2\"><span class=\"toc-item-num\">0.2&nbsp;&nbsp;</span><font color=\"orange\">Общее впечатление (ревью 2)</font></a></span></li></ul></li><li><span><a href=\"#Подготовка-данных\" data-toc-modified-id=\"Подготовка-данных-1\"><span class=\"toc-item-num\">1&nbsp;&nbsp;</span>Подготовка данных</a></span><ul class=\"toc-item\"><li><span><a href=\"#Первичное-знакомство-с-данными\" data-toc-modified-id=\"Первичное-знакомство-с-данными-1.1\"><span class=\"toc-item-num\">1.1&nbsp;&nbsp;</span>Первичное знакомство с данными</a></span><ul class=\"toc-item\"><li><span><a href=\"#Вывод-по-первичному-знакомству-с-данными\" data-toc-modified-id=\"Вывод-по-первичному-знакомству-с-данными-1.1.1\"><span class=\"toc-item-num\">1.1.1&nbsp;&nbsp;</span>Вывод по первичному знакомству с данными</a></span></li></ul></li><li><span><a href=\"#Предобработка-данных\" data-toc-modified-id=\"Предобработка-данных-1.2\"><span class=\"toc-item-num\">1.2&nbsp;&nbsp;</span>Предобработка данных</a></span><ul class=\"toc-item\"><li><span><a href=\"#Обработка-пропусков\" data-toc-modified-id=\"Обработка-пропусков-1.2.1\"><span class=\"toc-item-num\">1.2.1&nbsp;&nbsp;</span>Обработка пропусков</a></span></li><li><span><a href=\"#Обработка-дубликатов\" data-toc-modified-id=\"Обработка-дубликатов-1.2.2\"><span class=\"toc-item-num\">1.2.2&nbsp;&nbsp;</span>Обработка дубликатов</a></span></li><li><span><a href=\"#OHE\" data-toc-modified-id=\"OHE-1.2.3\"><span class=\"toc-item-num\">1.2.3&nbsp;&nbsp;</span>OHE</a></span></li><li><span><a href=\"#train_test_split\" data-toc-modified-id=\"train_test_split-1.2.4\"><span class=\"toc-item-num\">1.2.4&nbsp;&nbsp;</span>train_test_split</a></span></li><li><span><a href=\"#Масштабирование\" data-toc-modified-id=\"Масштабирование-1.2.5\"><span class=\"toc-item-num\">1.2.5&nbsp;&nbsp;</span>Масштабирование</a></span></li></ul></li></ul></li><li><span><a href=\"#Исследование-задачи\" data-toc-modified-id=\"Исследование-задачи-2\"><span class=\"toc-item-num\">2&nbsp;&nbsp;</span>Исследование задачи</a></span><ul class=\"toc-item\"><li><span><a href=\"#Проверка-баланса-классов\" data-toc-modified-id=\"Проверка-баланса-классов-2.1\"><span class=\"toc-item-num\">2.1&nbsp;&nbsp;</span>Проверка баланса классов</a></span><ul class=\"toc-item\"><li><span><a href=\"#Логистическая-регрессия\" data-toc-modified-id=\"Логистическая-регрессия-2.1.1\"><span class=\"toc-item-num\">2.1.1&nbsp;&nbsp;</span>Логистическая регрессия</a></span></li><li><span><a href=\"#Дерево-решений\" data-toc-modified-id=\"Дерево-решений-2.1.2\"><span class=\"toc-item-num\">2.1.2&nbsp;&nbsp;</span>Дерево решений</a></span></li><li><span><a href=\"#Случаный-лес\" data-toc-modified-id=\"Случаный-лес-2.1.3\"><span class=\"toc-item-num\">2.1.3&nbsp;&nbsp;</span>Случаный лес</a></span></li><li><span><a href=\"#Вывод\" data-toc-modified-id=\"Вывод-2.1.4\"><span class=\"toc-item-num\">2.1.4&nbsp;&nbsp;</span>Вывод</a></span></li></ul></li></ul></li><li><span><a href=\"#Борьба-с-дисбалансом\" data-toc-modified-id=\"Борьба-с-дисбалансом-3\"><span class=\"toc-item-num\">3&nbsp;&nbsp;</span>Борьба с дисбалансом</a></span><ul class=\"toc-item\"><li><span><a href=\"#Пробуем-взвешивание-классов\" data-toc-modified-id=\"Пробуем-взвешивание-классов-3.1\"><span class=\"toc-item-num\">3.1&nbsp;&nbsp;</span>Пробуем взвешивание классов</a></span><ul class=\"toc-item\"><li><span><a href=\"#Логистическая-регрессия\" data-toc-modified-id=\"Логистическая-регрессия-3.1.1\"><span class=\"toc-item-num\">3.1.1&nbsp;&nbsp;</span>Логистическая регрессия</a></span></li><li><span><a href=\"#Дерево-решений\" data-toc-modified-id=\"Дерево-решений-3.1.2\"><span class=\"toc-item-num\">3.1.2&nbsp;&nbsp;</span>Дерево решений</a></span></li><li><span><a href=\"#Случаный-лес\" data-toc-modified-id=\"Случаный-лес-3.1.3\"><span class=\"toc-item-num\">3.1.3&nbsp;&nbsp;</span>Случаный лес</a></span></li></ul></li><li><span><a href=\"#Пробуем-upsampling\" data-toc-modified-id=\"Пробуем-upsampling-3.2\"><span class=\"toc-item-num\">3.2&nbsp;&nbsp;</span>Пробуем upsampling</a></span><ul class=\"toc-item\"><li><span><a href=\"#Подготовка-данных-для-обучения\" data-toc-modified-id=\"Подготовка-данных-для-обучения-3.2.1\"><span class=\"toc-item-num\">3.2.1&nbsp;&nbsp;</span>Подготовка данных для обучения</a></span></li><li><span><a href=\"#Логистическая-регрессия\" data-toc-modified-id=\"Логистическая-регрессия-3.2.2\"><span class=\"toc-item-num\">3.2.2&nbsp;&nbsp;</span>Логистическая регрессия</a></span></li><li><span><a href=\"#Дерево-решений\" data-toc-modified-id=\"Дерево-решений-3.2.3\"><span class=\"toc-item-num\">3.2.3&nbsp;&nbsp;</span>Дерево решений</a></span></li><li><span><a href=\"#Случайный-лес\" data-toc-modified-id=\"Случайный-лес-3.2.4\"><span class=\"toc-item-num\">3.2.4&nbsp;&nbsp;</span>Случайный лес</a></span></li></ul></li><li><span><a href=\"#Вывод-по-выбору-моделей\" data-toc-modified-id=\"Вывод-по-выбору-моделей-3.3\"><span class=\"toc-item-num\">3.3&nbsp;&nbsp;</span>Вывод по выбору моделей</a></span></li></ul></li><li><span><a href=\"#Тестирование-модели\" data-toc-modified-id=\"Тестирование-модели-4\"><span class=\"toc-item-num\">4&nbsp;&nbsp;</span>Тестирование модели</a></span><ul class=\"toc-item\"><li><span><a href=\"#Тестирование\" data-toc-modified-id=\"Тестирование-4.1\"><span class=\"toc-item-num\">4.1&nbsp;&nbsp;</span>Тестирование</a></span></li><li><span><a href=\"#Вывод-по-тесту\" data-toc-modified-id=\"Вывод-по-тесту-4.2\"><span class=\"toc-item-num\">4.2&nbsp;&nbsp;</span>Вывод по тесту</a></span></li></ul></li><li><span><a href=\"#Чек-лист-готовности-проекта\" data-toc-modified-id=\"Чек-лист-готовности-проекта-5\"><span class=\"toc-item-num\">5&nbsp;&nbsp;</span>Чек-лист готовности проекта</a></span></li></ul></div>"
   ]
  },
  {
   "cell_type": "markdown",
   "metadata": {},
   "source": [
    "# Отток клиентов"
   ]
  },
  {
   "cell_type": "markdown",
   "metadata": {},
   "source": [
    "Из «Бета-Банка» стали уходить клиенты. Каждый месяц. Немного, но заметно. Банковские маркетологи посчитали: сохранять текущих клиентов дешевле, чем привлекать новых.\n",
    "\n",
    "Нужно спрогнозировать, уйдёт клиент из банка в ближайшее время или нет. Вам предоставлены исторические данные о поведении клиентов и расторжении договоров с банком. \n",
    "\n",
    "Постройте модель с предельно большим значением *F1*-меры. Чтобы сдать проект успешно, нужно довести метрику до 0.59. Проверьте *F1*-меру на тестовой выборке самостоятельно.\n",
    "\n",
    "Дополнительно измеряйте *AUC-ROC*, сравнивайте её значение с *F1*-мерой.\n",
    "\n",
    "Источник данных: [https://www.kaggle.com/barelydedicated/bank-customer-churn-modeling](https://www.kaggle.com/barelydedicated/bank-customer-churn-modeling)"
   ]
  },
  {
   "cell_type": "markdown",
   "metadata": {},
   "source": [
    "## Подготовка данных"
   ]
  },
  {
   "cell_type": "markdown",
   "metadata": {},
   "source": [
    "### Первичное знакомство с данными"
   ]
  },
  {
   "cell_type": "code",
   "execution_count": 1,
   "metadata": {
    "scrolled": true
   },
   "outputs": [
    {
     "name": "stdout",
     "output_type": "stream",
     "text": [
      "Requirement already satisfied: scikit-learn in /Users/alex/opt/anaconda3/lib/python3.8/site-packages (0.24.2)\n",
      "Collecting scikit-learn\n",
      "  Downloading scikit_learn-1.0.2-cp38-cp38-macosx_10_13_x86_64.whl (7.9 MB)\n",
      "\u001b[K     |████████████████████████████████| 7.9 MB 1.2 MB/s eta 0:00:01\n",
      "\u001b[?25hRequirement already satisfied: numpy>=1.14.6 in /Users/alex/opt/anaconda3/lib/python3.8/site-packages (from scikit-learn) (1.20.3)\n",
      "Requirement already satisfied: joblib>=0.11 in /Users/alex/opt/anaconda3/lib/python3.8/site-packages (from scikit-learn) (1.0.1)\n",
      "Requirement already satisfied: threadpoolctl>=2.0.0 in /Users/alex/opt/anaconda3/lib/python3.8/site-packages (from scikit-learn) (2.2.0)\n",
      "Requirement already satisfied: scipy>=1.1.0 in /Users/alex/opt/anaconda3/lib/python3.8/site-packages (from scikit-learn) (1.6.2)\n",
      "Installing collected packages: scikit-learn\n",
      "  Attempting uninstall: scikit-learn\n",
      "    Found existing installation: scikit-learn 0.24.2\n",
      "    Uninstalling scikit-learn-0.24.2:\n",
      "      Successfully uninstalled scikit-learn-0.24.2\n",
      "Successfully installed scikit-learn-1.0.2\n"
     ]
    }
   ],
   "source": [
    "!pip install -U scikit-learn\n"
   ]
  },
  {
   "cell_type": "code",
   "execution_count": 2,
   "metadata": {},
   "outputs": [],
   "source": [
    "DATA_PATH = './Churn.csv'\n",
    "USE_SAVE_DATA = True #чтобы ревьвер зря не томися в ожидании, так как нет tkinter\n",
    "import numpy as np\n",
    "import pandas as pd\n",
    "from sklearn.impute import KNNImputer\n",
    "data = pd.read_csv(DATA_PATH)\n",
    "from sklearn.model_selection import train_test_split\n",
    "from sklearn.preprocessing import StandardScaler\n",
    "from sklearn.linear_model import LogisticRegression\n",
    "from sklearn.metrics import f1_score\n",
    "from sklearn.tree import DecisionTreeClassifier\n",
    "from sklearn.model_selection import GridSearchCV\n",
    "from sklearn.ensemble import RandomForestClassifier\n",
    "from sklearn.utils import shuffle\n",
    "from sklearn.metrics import roc_auc_score\n",
    "from sklearn.metrics import roc_curve\n",
    "import matplotlib.pyplot as plt"
   ]
  },
  {
   "cell_type": "code",
   "execution_count": 3,
   "metadata": {},
   "outputs": [
    {
     "data": {
      "text/html": [
       "<div>\n",
       "<style scoped>\n",
       "    .dataframe tbody tr th:only-of-type {\n",
       "        vertical-align: middle;\n",
       "    }\n",
       "\n",
       "    .dataframe tbody tr th {\n",
       "        vertical-align: top;\n",
       "    }\n",
       "\n",
       "    .dataframe thead th {\n",
       "        text-align: right;\n",
       "    }\n",
       "</style>\n",
       "<table border=\"1\" class=\"dataframe\">\n",
       "  <thead>\n",
       "    <tr style=\"text-align: right;\">\n",
       "      <th></th>\n",
       "      <th>RowNumber</th>\n",
       "      <th>CustomerId</th>\n",
       "      <th>Surname</th>\n",
       "      <th>CreditScore</th>\n",
       "      <th>Geography</th>\n",
       "      <th>Gender</th>\n",
       "      <th>Age</th>\n",
       "      <th>Tenure</th>\n",
       "      <th>Balance</th>\n",
       "      <th>NumOfProducts</th>\n",
       "      <th>HasCrCard</th>\n",
       "      <th>IsActiveMember</th>\n",
       "      <th>EstimatedSalary</th>\n",
       "      <th>Exited</th>\n",
       "    </tr>\n",
       "  </thead>\n",
       "  <tbody>\n",
       "    <tr>\n",
       "      <th>0</th>\n",
       "      <td>1</td>\n",
       "      <td>15634602</td>\n",
       "      <td>Hargrave</td>\n",
       "      <td>619</td>\n",
       "      <td>France</td>\n",
       "      <td>Female</td>\n",
       "      <td>42</td>\n",
       "      <td>2.0</td>\n",
       "      <td>0.00</td>\n",
       "      <td>1</td>\n",
       "      <td>1</td>\n",
       "      <td>1</td>\n",
       "      <td>101348.88</td>\n",
       "      <td>1</td>\n",
       "    </tr>\n",
       "    <tr>\n",
       "      <th>1</th>\n",
       "      <td>2</td>\n",
       "      <td>15647311</td>\n",
       "      <td>Hill</td>\n",
       "      <td>608</td>\n",
       "      <td>Spain</td>\n",
       "      <td>Female</td>\n",
       "      <td>41</td>\n",
       "      <td>1.0</td>\n",
       "      <td>83807.86</td>\n",
       "      <td>1</td>\n",
       "      <td>0</td>\n",
       "      <td>1</td>\n",
       "      <td>112542.58</td>\n",
       "      <td>0</td>\n",
       "    </tr>\n",
       "    <tr>\n",
       "      <th>2</th>\n",
       "      <td>3</td>\n",
       "      <td>15619304</td>\n",
       "      <td>Onio</td>\n",
       "      <td>502</td>\n",
       "      <td>France</td>\n",
       "      <td>Female</td>\n",
       "      <td>42</td>\n",
       "      <td>8.0</td>\n",
       "      <td>159660.80</td>\n",
       "      <td>3</td>\n",
       "      <td>1</td>\n",
       "      <td>0</td>\n",
       "      <td>113931.57</td>\n",
       "      <td>1</td>\n",
       "    </tr>\n",
       "    <tr>\n",
       "      <th>3</th>\n",
       "      <td>4</td>\n",
       "      <td>15701354</td>\n",
       "      <td>Boni</td>\n",
       "      <td>699</td>\n",
       "      <td>France</td>\n",
       "      <td>Female</td>\n",
       "      <td>39</td>\n",
       "      <td>1.0</td>\n",
       "      <td>0.00</td>\n",
       "      <td>2</td>\n",
       "      <td>0</td>\n",
       "      <td>0</td>\n",
       "      <td>93826.63</td>\n",
       "      <td>0</td>\n",
       "    </tr>\n",
       "    <tr>\n",
       "      <th>4</th>\n",
       "      <td>5</td>\n",
       "      <td>15737888</td>\n",
       "      <td>Mitchell</td>\n",
       "      <td>850</td>\n",
       "      <td>Spain</td>\n",
       "      <td>Female</td>\n",
       "      <td>43</td>\n",
       "      <td>2.0</td>\n",
       "      <td>125510.82</td>\n",
       "      <td>1</td>\n",
       "      <td>1</td>\n",
       "      <td>1</td>\n",
       "      <td>79084.10</td>\n",
       "      <td>0</td>\n",
       "    </tr>\n",
       "  </tbody>\n",
       "</table>\n",
       "</div>"
      ],
      "text/plain": [
       "   RowNumber  CustomerId   Surname  CreditScore Geography  Gender  Age  \\\n",
       "0          1    15634602  Hargrave          619    France  Female   42   \n",
       "1          2    15647311      Hill          608     Spain  Female   41   \n",
       "2          3    15619304      Onio          502    France  Female   42   \n",
       "3          4    15701354      Boni          699    France  Female   39   \n",
       "4          5    15737888  Mitchell          850     Spain  Female   43   \n",
       "\n",
       "   Tenure    Balance  NumOfProducts  HasCrCard  IsActiveMember  \\\n",
       "0     2.0       0.00              1          1               1   \n",
       "1     1.0   83807.86              1          0               1   \n",
       "2     8.0  159660.80              3          1               0   \n",
       "3     1.0       0.00              2          0               0   \n",
       "4     2.0  125510.82              1          1               1   \n",
       "\n",
       "   EstimatedSalary  Exited  \n",
       "0        101348.88       1  \n",
       "1        112542.58       0  \n",
       "2        113931.57       1  \n",
       "3         93826.63       0  \n",
       "4         79084.10       0  "
      ]
     },
     "metadata": {},
     "output_type": "display_data"
    },
    {
     "name": "stdout",
     "output_type": "stream",
     "text": [
      "<class 'pandas.core.frame.DataFrame'>\n",
      "RangeIndex: 10000 entries, 0 to 9999\n",
      "Data columns (total 14 columns):\n",
      " #   Column           Non-Null Count  Dtype  \n",
      "---  ------           --------------  -----  \n",
      " 0   RowNumber        10000 non-null  int64  \n",
      " 1   CustomerId       10000 non-null  int64  \n",
      " 2   Surname          10000 non-null  object \n",
      " 3   CreditScore      10000 non-null  int64  \n",
      " 4   Geography        10000 non-null  object \n",
      " 5   Gender           10000 non-null  object \n",
      " 6   Age              10000 non-null  int64  \n",
      " 7   Tenure           9091 non-null   float64\n",
      " 8   Balance          10000 non-null  float64\n",
      " 9   NumOfProducts    10000 non-null  int64  \n",
      " 10  HasCrCard        10000 non-null  int64  \n",
      " 11  IsActiveMember   10000 non-null  int64  \n",
      " 12  EstimatedSalary  10000 non-null  float64\n",
      " 13  Exited           10000 non-null  int64  \n",
      "dtypes: float64(3), int64(8), object(3)\n",
      "memory usage: 1.1+ MB\n"
     ]
    },
    {
     "data": {
      "text/plain": [
       "None"
      ]
     },
     "metadata": {},
     "output_type": "display_data"
    }
   ],
   "source": [
    "display(data.head())\n",
    "display(data.info())"
   ]
  },
  {
   "cell_type": "markdown",
   "metadata": {},
   "source": [
    "#### Вывод по первичному знакомству с данными"
   ]
  },
  {
   "cell_type": "markdown",
   "metadata": {},
   "source": [
    "Данные удалось прочитать, в столбце Tenure есть пропуски"
   ]
  },
  {
   "cell_type": "markdown",
   "metadata": {},
   "source": [
    "### Предобработка данных"
   ]
  },
  {
   "cell_type": "markdown",
   "metadata": {},
   "source": [
    "#### Обработка пропусков"
   ]
  },
  {
   "cell_type": "code",
   "execution_count": 4,
   "metadata": {
    "scrolled": true
   },
   "outputs": [],
   "source": [
    "describe_before_knn = data['Tenure'].describe()\n",
    "describe_before_knn.name='describe_before_knn'"
   ]
  },
  {
   "cell_type": "code",
   "execution_count": 5,
   "metadata": {},
   "outputs": [],
   "source": [
    "digit_col = ['RowNumber', 'CustomerId', 'CreditScore',\n",
    "        'Age', 'Tenure', 'Balance', 'NumOfProducts', 'HasCrCard',\n",
    "       'IsActiveMember', 'EstimatedSalary', 'Exited']"
   ]
  },
  {
   "cell_type": "code",
   "execution_count": 6,
   "metadata": {},
   "outputs": [],
   "source": [
    "imp_mean = KNNImputer(missing_values=np.nan, n_neighbors=2)"
   ]
  },
  {
   "cell_type": "code",
   "execution_count": 7,
   "metadata": {},
   "outputs": [
    {
     "data": {
      "text/plain": [
       "KNNImputer(n_neighbors=2)"
      ]
     },
     "execution_count": 7,
     "metadata": {},
     "output_type": "execute_result"
    }
   ],
   "source": [
    "imp_mean.fit(data[digit_col])"
   ]
  },
  {
   "cell_type": "code",
   "execution_count": 8,
   "metadata": {},
   "outputs": [],
   "source": [
    "data_na = data['Tenure'].isna()"
   ]
  },
  {
   "cell_type": "code",
   "execution_count": 9,
   "metadata": {},
   "outputs": [],
   "source": [
    "data['Tenure'] = pd.DataFrame(imp_mean.transform(data[digit_col]))[4]"
   ]
  },
  {
   "cell_type": "code",
   "execution_count": 10,
   "metadata": {},
   "outputs": [],
   "source": [
    "describe_after_knn = data['Tenure'].describe()\n",
    "describe_after_knn.name = 'describe_after_knn'"
   ]
  },
  {
   "cell_type": "code",
   "execution_count": 11,
   "metadata": {},
   "outputs": [],
   "source": [
    "delta_describe = data.loc[data_na, 'Tenure'].describe()\n",
    "delta_describe.name = 'delta_describe'"
   ]
  },
  {
   "cell_type": "code",
   "execution_count": 12,
   "metadata": {},
   "outputs": [
    {
     "data": {
      "text/html": [
       "<div>\n",
       "<style scoped>\n",
       "    .dataframe tbody tr th:only-of-type {\n",
       "        vertical-align: middle;\n",
       "    }\n",
       "\n",
       "    .dataframe tbody tr th {\n",
       "        vertical-align: top;\n",
       "    }\n",
       "\n",
       "    .dataframe thead th {\n",
       "        text-align: right;\n",
       "    }\n",
       "</style>\n",
       "<table border=\"1\" class=\"dataframe\">\n",
       "  <thead>\n",
       "    <tr style=\"text-align: right;\">\n",
       "      <th></th>\n",
       "      <th>check_describe</th>\n",
       "      <th>describe_before_knn</th>\n",
       "      <th>delta_describe</th>\n",
       "      <th>describe_after_knn</th>\n",
       "    </tr>\n",
       "  </thead>\n",
       "  <tbody>\n",
       "    <tr>\n",
       "      <td>count</td>\n",
       "      <td>9091.000000</td>\n",
       "      <td>9091.000000</td>\n",
       "      <td>909.000000</td>\n",
       "      <td>10000.000000</td>\n",
       "    </tr>\n",
       "    <tr>\n",
       "      <td>mean</td>\n",
       "      <td>4.997690</td>\n",
       "      <td>4.997690</td>\n",
       "      <td>4.944994</td>\n",
       "      <td>4.992900</td>\n",
       "    </tr>\n",
       "    <tr>\n",
       "      <td>std</td>\n",
       "      <td>2.894723</td>\n",
       "      <td>2.894723</td>\n",
       "      <td>2.030806</td>\n",
       "      <td>2.827083</td>\n",
       "    </tr>\n",
       "    <tr>\n",
       "      <td>min</td>\n",
       "      <td>0.000000</td>\n",
       "      <td>0.000000</td>\n",
       "      <td>0.000000</td>\n",
       "      <td>0.000000</td>\n",
       "    </tr>\n",
       "    <tr>\n",
       "      <td>25%</td>\n",
       "      <td>2.000000</td>\n",
       "      <td>2.000000</td>\n",
       "      <td>3.500000</td>\n",
       "      <td>3.000000</td>\n",
       "    </tr>\n",
       "    <tr>\n",
       "      <td>50%</td>\n",
       "      <td>5.000000</td>\n",
       "      <td>5.000000</td>\n",
       "      <td>5.000000</td>\n",
       "      <td>5.000000</td>\n",
       "    </tr>\n",
       "    <tr>\n",
       "      <td>75%</td>\n",
       "      <td>7.000000</td>\n",
       "      <td>7.000000</td>\n",
       "      <td>6.500000</td>\n",
       "      <td>7.000000</td>\n",
       "    </tr>\n",
       "    <tr>\n",
       "      <td>max</td>\n",
       "      <td>10.000000</td>\n",
       "      <td>10.000000</td>\n",
       "      <td>10.000000</td>\n",
       "      <td>10.000000</td>\n",
       "    </tr>\n",
       "  </tbody>\n",
       "</table>\n",
       "</div>"
      ],
      "text/plain": [
       "       check_describe  describe_before_knn  delta_describe  describe_after_knn\n",
       "count     9091.000000          9091.000000      909.000000        10000.000000\n",
       "mean         4.997690             4.997690        4.944994            4.992900\n",
       "std          2.894723             2.894723        2.030806            2.827083\n",
       "min          0.000000             0.000000        0.000000            0.000000\n",
       "25%          2.000000             2.000000        3.500000            3.000000\n",
       "50%          5.000000             5.000000        5.000000            5.000000\n",
       "75%          7.000000             7.000000        6.500000            7.000000\n",
       "max         10.000000            10.000000       10.000000           10.000000"
      ]
     },
     "execution_count": 12,
     "metadata": {},
     "output_type": "execute_result"
    }
   ],
   "source": [
    "check_describe = data.loc[~data_na, 'Tenure'].describe()\n",
    "check_describe.name = 'check_describe'\n",
    "(check_describe.to_frame().join(describe_before_knn.to_frame()).\n",
    " join(delta_describe).join(describe_after_knn))\n"
   ]
  },
  {
   "cell_type": "markdown",
   "metadata": {},
   "source": [
    "#### Обработка дубликатов"
   ]
  },
  {
   "cell_type": "code",
   "execution_count": 13,
   "metadata": {},
   "outputs": [
    {
     "data": {
      "text/html": [
       "<div>\n",
       "<style scoped>\n",
       "    .dataframe tbody tr th:only-of-type {\n",
       "        vertical-align: middle;\n",
       "    }\n",
       "\n",
       "    .dataframe tbody tr th {\n",
       "        vertical-align: top;\n",
       "    }\n",
       "\n",
       "    .dataframe thead th {\n",
       "        text-align: right;\n",
       "    }\n",
       "</style>\n",
       "<table border=\"1\" class=\"dataframe\">\n",
       "  <thead>\n",
       "    <tr style=\"text-align: right;\">\n",
       "      <th></th>\n",
       "      <th>RowNumber</th>\n",
       "      <th>CustomerId</th>\n",
       "      <th>Surname</th>\n",
       "      <th>CreditScore</th>\n",
       "      <th>Geography</th>\n",
       "      <th>Gender</th>\n",
       "      <th>Age</th>\n",
       "      <th>Tenure</th>\n",
       "      <th>Balance</th>\n",
       "      <th>NumOfProducts</th>\n",
       "      <th>HasCrCard</th>\n",
       "      <th>IsActiveMember</th>\n",
       "      <th>EstimatedSalary</th>\n",
       "      <th>Exited</th>\n",
       "    </tr>\n",
       "  </thead>\n",
       "  <tbody>\n",
       "  </tbody>\n",
       "</table>\n",
       "</div>"
      ],
      "text/plain": [
       "Empty DataFrame\n",
       "Columns: [RowNumber, CustomerId, Surname, CreditScore, Geography, Gender, Age, Tenure, Balance, NumOfProducts, HasCrCard, IsActiveMember, EstimatedSalary, Exited]\n",
       "Index: []"
      ]
     },
     "execution_count": 13,
     "metadata": {},
     "output_type": "execute_result"
    }
   ],
   "source": [
    "data[data.duplicated()]"
   ]
  },
  {
   "cell_type": "code",
   "execution_count": 14,
   "metadata": {},
   "outputs": [
    {
     "data": {
      "text/plain": [
       "Index(['RowNumber', 'CustomerId', 'Surname', 'CreditScore', 'Geography',\n",
       "       'Gender', 'Age', 'Tenure', 'Balance', 'NumOfProducts', 'HasCrCard',\n",
       "       'IsActiveMember', 'EstimatedSalary', 'Exited'],\n",
       "      dtype='object')"
      ]
     },
     "execution_count": 14,
     "metadata": {},
     "output_type": "execute_result"
    }
   ],
   "source": [
    "data.columns"
   ]
  },
  {
   "cell_type": "code",
   "execution_count": 15,
   "metadata": {},
   "outputs": [
    {
     "data": {
      "text/plain": [
       "France     5014\n",
       "Germany    2509\n",
       "Spain      2477\n",
       "Name: Geography, dtype: int64"
      ]
     },
     "execution_count": 15,
     "metadata": {},
     "output_type": "execute_result"
    }
   ],
   "source": [
    "data['Geography'].value_counts()"
   ]
  },
  {
   "cell_type": "code",
   "execution_count": 16,
   "metadata": {},
   "outputs": [
    {
     "data": {
      "text/html": [
       "<div>\n",
       "<style scoped>\n",
       "    .dataframe tbody tr th:only-of-type {\n",
       "        vertical-align: middle;\n",
       "    }\n",
       "\n",
       "    .dataframe tbody tr th {\n",
       "        vertical-align: top;\n",
       "    }\n",
       "\n",
       "    .dataframe thead th {\n",
       "        text-align: right;\n",
       "    }\n",
       "</style>\n",
       "<table border=\"1\" class=\"dataframe\">\n",
       "  <thead>\n",
       "    <tr style=\"text-align: right;\">\n",
       "      <th></th>\n",
       "      <th>RowNumber</th>\n",
       "      <th>CustomerId</th>\n",
       "      <th>Surname</th>\n",
       "      <th>CreditScore</th>\n",
       "      <th>Geography</th>\n",
       "      <th>Gender</th>\n",
       "      <th>Age</th>\n",
       "      <th>Tenure</th>\n",
       "      <th>Balance</th>\n",
       "      <th>NumOfProducts</th>\n",
       "      <th>HasCrCard</th>\n",
       "      <th>IsActiveMember</th>\n",
       "      <th>EstimatedSalary</th>\n",
       "      <th>Exited</th>\n",
       "    </tr>\n",
       "  </thead>\n",
       "  <tbody>\n",
       "  </tbody>\n",
       "</table>\n",
       "</div>"
      ],
      "text/plain": [
       "Empty DataFrame\n",
       "Columns: [RowNumber, CustomerId, Surname, CreditScore, Geography, Gender, Age, Tenure, Balance, NumOfProducts, HasCrCard, IsActiveMember, EstimatedSalary, Exited]\n",
       "Index: []"
      ]
     },
     "execution_count": 16,
     "metadata": {},
     "output_type": "execute_result"
    }
   ],
   "source": [
    "data[data['CustomerId'].duplicated()]"
   ]
  },
  {
   "cell_type": "code",
   "execution_count": 17,
   "metadata": {},
   "outputs": [
    {
     "data": {
      "text/plain": [
       "Male      5457\n",
       "Female    4543\n",
       "Name: Gender, dtype: int64"
      ]
     },
     "execution_count": 17,
     "metadata": {},
     "output_type": "execute_result"
    }
   ],
   "source": [
    "data['Gender'].value_counts()"
   ]
  },
  {
   "cell_type": "markdown",
   "metadata": {},
   "source": [
    "#### OHE"
   ]
  },
  {
   "cell_type": "code",
   "execution_count": 18,
   "metadata": {},
   "outputs": [
    {
     "data": {
      "text/html": [
       "<div>\n",
       "<style scoped>\n",
       "    .dataframe tbody tr th:only-of-type {\n",
       "        vertical-align: middle;\n",
       "    }\n",
       "\n",
       "    .dataframe tbody tr th {\n",
       "        vertical-align: top;\n",
       "    }\n",
       "\n",
       "    .dataframe thead th {\n",
       "        text-align: right;\n",
       "    }\n",
       "</style>\n",
       "<table border=\"1\" class=\"dataframe\">\n",
       "  <thead>\n",
       "    <tr style=\"text-align: right;\">\n",
       "      <th></th>\n",
       "      <th>RowNumber</th>\n",
       "      <th>CustomerId</th>\n",
       "      <th>Surname</th>\n",
       "      <th>CreditScore</th>\n",
       "      <th>Geography</th>\n",
       "      <th>Gender</th>\n",
       "      <th>Age</th>\n",
       "      <th>Tenure</th>\n",
       "      <th>Balance</th>\n",
       "      <th>NumOfProducts</th>\n",
       "      <th>HasCrCard</th>\n",
       "      <th>IsActiveMember</th>\n",
       "      <th>EstimatedSalary</th>\n",
       "      <th>Exited</th>\n",
       "    </tr>\n",
       "  </thead>\n",
       "  <tbody>\n",
       "    <tr>\n",
       "      <td>0</td>\n",
       "      <td>1</td>\n",
       "      <td>15634602</td>\n",
       "      <td>Hargrave</td>\n",
       "      <td>619</td>\n",
       "      <td>France</td>\n",
       "      <td>Female</td>\n",
       "      <td>42</td>\n",
       "      <td>2.0</td>\n",
       "      <td>0.00</td>\n",
       "      <td>1</td>\n",
       "      <td>1</td>\n",
       "      <td>1</td>\n",
       "      <td>101348.88</td>\n",
       "      <td>1</td>\n",
       "    </tr>\n",
       "    <tr>\n",
       "      <td>1</td>\n",
       "      <td>2</td>\n",
       "      <td>15647311</td>\n",
       "      <td>Hill</td>\n",
       "      <td>608</td>\n",
       "      <td>Spain</td>\n",
       "      <td>Female</td>\n",
       "      <td>41</td>\n",
       "      <td>1.0</td>\n",
       "      <td>83807.86</td>\n",
       "      <td>1</td>\n",
       "      <td>0</td>\n",
       "      <td>1</td>\n",
       "      <td>112542.58</td>\n",
       "      <td>0</td>\n",
       "    </tr>\n",
       "    <tr>\n",
       "      <td>2</td>\n",
       "      <td>3</td>\n",
       "      <td>15619304</td>\n",
       "      <td>Onio</td>\n",
       "      <td>502</td>\n",
       "      <td>France</td>\n",
       "      <td>Female</td>\n",
       "      <td>42</td>\n",
       "      <td>8.0</td>\n",
       "      <td>159660.80</td>\n",
       "      <td>3</td>\n",
       "      <td>1</td>\n",
       "      <td>0</td>\n",
       "      <td>113931.57</td>\n",
       "      <td>1</td>\n",
       "    </tr>\n",
       "    <tr>\n",
       "      <td>3</td>\n",
       "      <td>4</td>\n",
       "      <td>15701354</td>\n",
       "      <td>Boni</td>\n",
       "      <td>699</td>\n",
       "      <td>France</td>\n",
       "      <td>Female</td>\n",
       "      <td>39</td>\n",
       "      <td>1.0</td>\n",
       "      <td>0.00</td>\n",
       "      <td>2</td>\n",
       "      <td>0</td>\n",
       "      <td>0</td>\n",
       "      <td>93826.63</td>\n",
       "      <td>0</td>\n",
       "    </tr>\n",
       "    <tr>\n",
       "      <td>4</td>\n",
       "      <td>5</td>\n",
       "      <td>15737888</td>\n",
       "      <td>Mitchell</td>\n",
       "      <td>850</td>\n",
       "      <td>Spain</td>\n",
       "      <td>Female</td>\n",
       "      <td>43</td>\n",
       "      <td>2.0</td>\n",
       "      <td>125510.82</td>\n",
       "      <td>1</td>\n",
       "      <td>1</td>\n",
       "      <td>1</td>\n",
       "      <td>79084.10</td>\n",
       "      <td>0</td>\n",
       "    </tr>\n",
       "  </tbody>\n",
       "</table>\n",
       "</div>"
      ],
      "text/plain": [
       "   RowNumber  CustomerId   Surname  CreditScore Geography  Gender  Age  \\\n",
       "0          1    15634602  Hargrave          619    France  Female   42   \n",
       "1          2    15647311      Hill          608     Spain  Female   41   \n",
       "2          3    15619304      Onio          502    France  Female   42   \n",
       "3          4    15701354      Boni          699    France  Female   39   \n",
       "4          5    15737888  Mitchell          850     Spain  Female   43   \n",
       "\n",
       "   Tenure    Balance  NumOfProducts  HasCrCard  IsActiveMember  \\\n",
       "0     2.0       0.00              1          1               1   \n",
       "1     1.0   83807.86              1          0               1   \n",
       "2     8.0  159660.80              3          1               0   \n",
       "3     1.0       0.00              2          0               0   \n",
       "4     2.0  125510.82              1          1               1   \n",
       "\n",
       "   EstimatedSalary  Exited  \n",
       "0        101348.88       1  \n",
       "1        112542.58       0  \n",
       "2        113931.57       1  \n",
       "3         93826.63       0  \n",
       "4         79084.10       0  "
      ]
     },
     "execution_count": 18,
     "metadata": {},
     "output_type": "execute_result"
    }
   ],
   "source": [
    "data.head()"
   ]
  },
  {
   "cell_type": "code",
   "execution_count": 19,
   "metadata": {},
   "outputs": [],
   "source": [
    "data = pd.get_dummies(data.drop(['RowNumber', 'CustomerId', 'CustomerId'], axis=1))"
   ]
  },
  {
   "cell_type": "code",
   "execution_count": 20,
   "metadata": {},
   "outputs": [
    {
     "data": {
      "text/html": [
       "<div>\n",
       "<style scoped>\n",
       "    .dataframe tbody tr th:only-of-type {\n",
       "        vertical-align: middle;\n",
       "    }\n",
       "\n",
       "    .dataframe tbody tr th {\n",
       "        vertical-align: top;\n",
       "    }\n",
       "\n",
       "    .dataframe thead th {\n",
       "        text-align: right;\n",
       "    }\n",
       "</style>\n",
       "<table border=\"1\" class=\"dataframe\">\n",
       "  <thead>\n",
       "    <tr style=\"text-align: right;\">\n",
       "      <th></th>\n",
       "      <th>CreditScore</th>\n",
       "      <th>Age</th>\n",
       "      <th>Tenure</th>\n",
       "      <th>Balance</th>\n",
       "      <th>NumOfProducts</th>\n",
       "      <th>HasCrCard</th>\n",
       "      <th>IsActiveMember</th>\n",
       "      <th>EstimatedSalary</th>\n",
       "      <th>Exited</th>\n",
       "      <th>Surname_Abazu</th>\n",
       "      <th>...</th>\n",
       "      <th>Surname_Zubarev</th>\n",
       "      <th>Surname_Zubareva</th>\n",
       "      <th>Surname_Zuev</th>\n",
       "      <th>Surname_Zuyev</th>\n",
       "      <th>Surname_Zuyeva</th>\n",
       "      <th>Geography_France</th>\n",
       "      <th>Geography_Germany</th>\n",
       "      <th>Geography_Spain</th>\n",
       "      <th>Gender_Female</th>\n",
       "      <th>Gender_Male</th>\n",
       "    </tr>\n",
       "  </thead>\n",
       "  <tbody>\n",
       "    <tr>\n",
       "      <td>0</td>\n",
       "      <td>619</td>\n",
       "      <td>42</td>\n",
       "      <td>2.0</td>\n",
       "      <td>0.00</td>\n",
       "      <td>1</td>\n",
       "      <td>1</td>\n",
       "      <td>1</td>\n",
       "      <td>101348.88</td>\n",
       "      <td>1</td>\n",
       "      <td>0</td>\n",
       "      <td>...</td>\n",
       "      <td>0</td>\n",
       "      <td>0</td>\n",
       "      <td>0</td>\n",
       "      <td>0</td>\n",
       "      <td>0</td>\n",
       "      <td>1</td>\n",
       "      <td>0</td>\n",
       "      <td>0</td>\n",
       "      <td>1</td>\n",
       "      <td>0</td>\n",
       "    </tr>\n",
       "    <tr>\n",
       "      <td>1</td>\n",
       "      <td>608</td>\n",
       "      <td>41</td>\n",
       "      <td>1.0</td>\n",
       "      <td>83807.86</td>\n",
       "      <td>1</td>\n",
       "      <td>0</td>\n",
       "      <td>1</td>\n",
       "      <td>112542.58</td>\n",
       "      <td>0</td>\n",
       "      <td>0</td>\n",
       "      <td>...</td>\n",
       "      <td>0</td>\n",
       "      <td>0</td>\n",
       "      <td>0</td>\n",
       "      <td>0</td>\n",
       "      <td>0</td>\n",
       "      <td>0</td>\n",
       "      <td>0</td>\n",
       "      <td>1</td>\n",
       "      <td>1</td>\n",
       "      <td>0</td>\n",
       "    </tr>\n",
       "    <tr>\n",
       "      <td>2</td>\n",
       "      <td>502</td>\n",
       "      <td>42</td>\n",
       "      <td>8.0</td>\n",
       "      <td>159660.80</td>\n",
       "      <td>3</td>\n",
       "      <td>1</td>\n",
       "      <td>0</td>\n",
       "      <td>113931.57</td>\n",
       "      <td>1</td>\n",
       "      <td>0</td>\n",
       "      <td>...</td>\n",
       "      <td>0</td>\n",
       "      <td>0</td>\n",
       "      <td>0</td>\n",
       "      <td>0</td>\n",
       "      <td>0</td>\n",
       "      <td>1</td>\n",
       "      <td>0</td>\n",
       "      <td>0</td>\n",
       "      <td>1</td>\n",
       "      <td>0</td>\n",
       "    </tr>\n",
       "    <tr>\n",
       "      <td>3</td>\n",
       "      <td>699</td>\n",
       "      <td>39</td>\n",
       "      <td>1.0</td>\n",
       "      <td>0.00</td>\n",
       "      <td>2</td>\n",
       "      <td>0</td>\n",
       "      <td>0</td>\n",
       "      <td>93826.63</td>\n",
       "      <td>0</td>\n",
       "      <td>0</td>\n",
       "      <td>...</td>\n",
       "      <td>0</td>\n",
       "      <td>0</td>\n",
       "      <td>0</td>\n",
       "      <td>0</td>\n",
       "      <td>0</td>\n",
       "      <td>1</td>\n",
       "      <td>0</td>\n",
       "      <td>0</td>\n",
       "      <td>1</td>\n",
       "      <td>0</td>\n",
       "    </tr>\n",
       "    <tr>\n",
       "      <td>4</td>\n",
       "      <td>850</td>\n",
       "      <td>43</td>\n",
       "      <td>2.0</td>\n",
       "      <td>125510.82</td>\n",
       "      <td>1</td>\n",
       "      <td>1</td>\n",
       "      <td>1</td>\n",
       "      <td>79084.10</td>\n",
       "      <td>0</td>\n",
       "      <td>0</td>\n",
       "      <td>...</td>\n",
       "      <td>0</td>\n",
       "      <td>0</td>\n",
       "      <td>0</td>\n",
       "      <td>0</td>\n",
       "      <td>0</td>\n",
       "      <td>0</td>\n",
       "      <td>0</td>\n",
       "      <td>1</td>\n",
       "      <td>1</td>\n",
       "      <td>0</td>\n",
       "    </tr>\n",
       "  </tbody>\n",
       "</table>\n",
       "<p>5 rows × 2946 columns</p>\n",
       "</div>"
      ],
      "text/plain": [
       "   CreditScore  Age  Tenure    Balance  NumOfProducts  HasCrCard  \\\n",
       "0          619   42     2.0       0.00              1          1   \n",
       "1          608   41     1.0   83807.86              1          0   \n",
       "2          502   42     8.0  159660.80              3          1   \n",
       "3          699   39     1.0       0.00              2          0   \n",
       "4          850   43     2.0  125510.82              1          1   \n",
       "\n",
       "   IsActiveMember  EstimatedSalary  Exited  Surname_Abazu  ...  \\\n",
       "0               1        101348.88       1              0  ...   \n",
       "1               1        112542.58       0              0  ...   \n",
       "2               0        113931.57       1              0  ...   \n",
       "3               0         93826.63       0              0  ...   \n",
       "4               1         79084.10       0              0  ...   \n",
       "\n",
       "   Surname_Zubarev  Surname_Zubareva  Surname_Zuev  Surname_Zuyev  \\\n",
       "0                0                 0             0              0   \n",
       "1                0                 0             0              0   \n",
       "2                0                 0             0              0   \n",
       "3                0                 0             0              0   \n",
       "4                0                 0             0              0   \n",
       "\n",
       "   Surname_Zuyeva  Geography_France  Geography_Germany  Geography_Spain  \\\n",
       "0               0                 1                  0                0   \n",
       "1               0                 0                  0                1   \n",
       "2               0                 1                  0                0   \n",
       "3               0                 1                  0                0   \n",
       "4               0                 0                  0                1   \n",
       "\n",
       "   Gender_Female  Gender_Male  \n",
       "0              1            0  \n",
       "1              1            0  \n",
       "2              1            0  \n",
       "3              1            0  \n",
       "4              1            0  \n",
       "\n",
       "[5 rows x 2946 columns]"
      ]
     },
     "execution_count": 20,
     "metadata": {},
     "output_type": "execute_result"
    }
   ],
   "source": [
    "data.head()"
   ]
  },
  {
   "cell_type": "markdown",
   "metadata": {},
   "source": [
    "#### train_test_split"
   ]
  },
  {
   "cell_type": "code",
   "execution_count": 21,
   "metadata": {},
   "outputs": [],
   "source": [
    "features = data.drop('Exited', axis=1)\n",
    "target = data['Exited']"
   ]
  },
  {
   "cell_type": "code",
   "execution_count": 22,
   "metadata": {},
   "outputs": [],
   "source": [
    "features_train, features_valid, target_train, target_valid = train_test_split(features, target, test_size=.25, random_state=12345)"
   ]
  },
  {
   "cell_type": "code",
   "execution_count": 23,
   "metadata": {},
   "outputs": [
    {
     "name": "stdout",
     "output_type": "stream",
     "text": [
      "7500 2500 7500 2500\n"
     ]
    }
   ],
   "source": [
    "print(features_train.shape[0], features_valid.shape[0], target_train.shape[0], target_valid.shape[0])"
   ]
  },
  {
   "cell_type": "code",
   "execution_count": 24,
   "metadata": {},
   "outputs": [],
   "source": [
    "features_valid, features_test, target_valid, target_test = train_test_split(features_valid, target_valid, test_size=.5, random_state=12345)"
   ]
  },
  {
   "cell_type": "code",
   "execution_count": 25,
   "metadata": {},
   "outputs": [
    {
     "name": "stdout",
     "output_type": "stream",
     "text": [
      "1250 1250 1250 1250\n"
     ]
    }
   ],
   "source": [
    "print(features_valid.shape[0], features_test.shape[0], target_valid.shape[0], target_test.shape[0]\n",
    ")"
   ]
  },
  {
   "cell_type": "markdown",
   "metadata": {},
   "source": [
    "#### Масштабирование"
   ]
  },
  {
   "cell_type": "code",
   "execution_count": 26,
   "metadata": {},
   "outputs": [],
   "source": [
    "scaler = StandardScaler()"
   ]
  },
  {
   "cell_type": "code",
   "execution_count": 27,
   "metadata": {},
   "outputs": [
    {
     "data": {
      "text/plain": [
       "StandardScaler()"
      ]
     },
     "execution_count": 27,
     "metadata": {},
     "output_type": "execute_result"
    }
   ],
   "source": [
    "scaler.fit(features_train)"
   ]
  },
  {
   "cell_type": "code",
   "execution_count": 28,
   "metadata": {},
   "outputs": [],
   "source": [
    "features_train_scaled = scaler.transform(features_train)\n",
    "features_valid_scaled = scaler.transform(features_valid)\n",
    "features_test_scaled = scaler.transform(features_test)"
   ]
  },
  {
   "cell_type": "markdown",
   "metadata": {},
   "source": [
    "## Исследование задачи"
   ]
  },
  {
   "cell_type": "markdown",
   "metadata": {},
   "source": [
    "### Проверка баланса классов"
   ]
  },
  {
   "cell_type": "markdown",
   "metadata": {},
   "source": [
    "Проверим, есть сбалансированы ли классы в нашем датасете"
   ]
  },
  {
   "cell_type": "code",
   "execution_count": 29,
   "metadata": {},
   "outputs": [
    {
     "data": {
      "text/plain": [
       "Exited\n",
       "0    0.7963\n",
       "1    0.2037\n",
       "Name: Exited, dtype: float64"
      ]
     },
     "execution_count": 29,
     "metadata": {},
     "output_type": "execute_result"
    }
   ],
   "source": [
    "data.groupby('Exited')['Exited'].count() / data.shape[0]"
   ]
  },
  {
   "cell_type": "markdown",
   "metadata": {},
   "source": [
    "Очевидно, что нет, класса 0 представлен в 4 раза чаще чем класс 1"
   ]
  },
  {
   "cell_type": "markdown",
   "metadata": {},
   "source": [
    "#### Логистическая регрессия"
   ]
  },
  {
   "cell_type": "code",
   "execution_count": 30,
   "metadata": {},
   "outputs": [],
   "source": [
    "log_reg = LogisticRegression(random_state=12345)"
   ]
  },
  {
   "cell_type": "code",
   "execution_count": 31,
   "metadata": {},
   "outputs": [
    {
     "data": {
      "text/plain": [
       "LogisticRegression(random_state=12345)"
      ]
     },
     "execution_count": 31,
     "metadata": {},
     "output_type": "execute_result"
    }
   ],
   "source": [
    "log_reg.fit(features_train_scaled, target_train)"
   ]
  },
  {
   "cell_type": "code",
   "execution_count": 32,
   "metadata": {},
   "outputs": [],
   "source": [
    "prediction = log_reg.predict(features_valid_scaled)"
   ]
  },
  {
   "cell_type": "code",
   "execution_count": 33,
   "metadata": {
    "scrolled": true
   },
   "outputs": [
    {
     "data": {
      "text/plain": [
       "0.25806451612903225"
      ]
     },
     "execution_count": 33,
     "metadata": {},
     "output_type": "execute_result"
    }
   ],
   "source": [
    "f1_score(target_valid, prediction)"
   ]
  },
  {
   "cell_type": "code",
   "execution_count": 34,
   "metadata": {},
   "outputs": [],
   "source": [
    "best_model_list = [] #сделаем список моделей"
   ]
  },
  {
   "cell_type": "code",
   "execution_count": 35,
   "metadata": {},
   "outputs": [],
   "source": [
    "best_model_list.append(log_reg)"
   ]
  },
  {
   "cell_type": "code",
   "execution_count": 36,
   "metadata": {},
   "outputs": [],
   "source": [
    "best_model_list.append('Логистическая регрессия с дисбалансом')"
   ]
  },
  {
   "cell_type": "markdown",
   "metadata": {},
   "source": [
    "#### Дерево решений"
   ]
  },
  {
   "cell_type": "code",
   "execution_count": 37,
   "metadata": {},
   "outputs": [
    {
     "name": "stdout",
     "output_type": "stream",
     "text": [
      "Fitting 5 folds for each of 1 candidates, totalling 5 fits\n",
      "[CV 1/5] END criterion=entropy, max_depth=14, min_samples_leaf=11, random_state=12345;, score=0.548 total time=   1.5s\n",
      "[CV 2/5] END criterion=entropy, max_depth=14, min_samples_leaf=11, random_state=12345;, score=0.550 total time=   1.4s\n",
      "[CV 3/5] END criterion=entropy, max_depth=14, min_samples_leaf=11, random_state=12345;, score=0.591 total time=   1.5s\n",
      "[CV 4/5] END criterion=entropy, max_depth=14, min_samples_leaf=11, random_state=12345;, score=0.545 total time=   1.5s\n",
      "[CV 5/5] END criterion=entropy, max_depth=14, min_samples_leaf=11, random_state=12345;, score=0.575 total time=   1.4s\n",
      "best_score 0.5616913221106946\n",
      "f1_score 0.5751072961373391\n"
     ]
    }
   ],
   "source": [
    "if USE_SAVE_DATA:\n",
    "    best_tree_param_save = {'criterion': ['entropy'],\n",
    "    'max_depth': [14],\n",
    "    'min_samples_leaf': [11],\n",
    "    'random_state': [12345]}\n",
    "    grid = GridSearchCV(DecisionTreeClassifier(), \n",
    "                    best_tree_param_save, refit=True, cv=10, scoring='f1',verbose=3)\n",
    "    grid.fit(features_train_scaled, target_train)\n",
    "    print('best_score',grid.best_score_)\n",
    "    best_tree = grid.best_estimator_\n",
    "    #best_tree.fit(features_train, target_train)\n",
    "    prediction = best_tree.predict(features_valid_scaled)\n",
    "    print('f1_score',f1_score(target_valid, prediction))\n"
   ]
  },
  {
   "cell_type": "code",
   "execution_count": 38,
   "metadata": {},
   "outputs": [],
   "source": [
    "if  USE_SAVE_DATA == False:\n",
    "    param_grid = {'criterion': ['gini','entropy'] , \n",
    "              'max_depth': range(1,50), 'min_samples_leaf':range(1,20),\n",
    "             'random_state': [12345]}\n",
    "    \n",
    "    grid = GridSearchCV(DecisionTreeClassifier(), \n",
    "                    param_grid, refit=True, cv=5, scoring='f1',verbose=3)\n",
    "    grid.fit(features_train_scaled, target_train)\n",
    "    print('best_params',grid.best_params_)\n",
    "    print('best_score',grid.best_score_)\n",
    "    best_tree = grid.best_estimator_\n",
    "    best_tree.fit(features_train, target_train)\n",
    "    prediction = best_tree.predict(features_valid)\n",
    "    f1_score(target_valid, prediction)"
   ]
  },
  {
   "cell_type": "code",
   "execution_count": 39,
   "metadata": {},
   "outputs": [],
   "source": [
    "best_model_list.append(best_tree)\n",
    "best_model_list.append(\"Дерево решений с дисбалансом\")\n"
   ]
  },
  {
   "cell_type": "markdown",
   "metadata": {},
   "source": [
    "#### Случаный лес"
   ]
  },
  {
   "cell_type": "code",
   "execution_count": 40,
   "metadata": {
    "scrolled": true
   },
   "outputs": [
    {
     "name": "stdout",
     "output_type": "stream",
     "text": [
      "Fitting 3 folds for each of 1 candidates, totalling 3 fits\n",
      "[CV 1/3] END max_depth=190, min_samples_leaf=1, n_estimators=160, n_jobs=4, random_state=12345;, score=0.509 total time=  40.4s\n",
      "[CV 2/3] END max_depth=190, min_samples_leaf=1, n_estimators=160, n_jobs=4, random_state=12345;, score=0.482 total time=  41.4s\n",
      "[CV 3/3] END max_depth=190, min_samples_leaf=1, n_estimators=160, n_jobs=4, random_state=12345;, score=0.500 total time=  35.8s\n",
      "0.49707011878863555\n",
      "{'max_depth': 190, 'min_samples_leaf': 1, 'n_estimators': 160, 'n_jobs': 4, 'random_state': 12345}\n",
      "0.5279999999999999\n"
     ]
    }
   ],
   "source": [
    "if USE_SAVE_DATA:\n",
    "    forest_param = {'n_estimators': [160],'max_depth':[190],'min_samples_leaf':[1], 'random_state':[12345], 'n_jobs':[4]}\n",
    "    forest_grid = GridSearchCV(RandomForestClassifier(), forest_param, refit=True, cv=3, verbose=3, scoring='f1')\n",
    "    forest_grid.fit(features_train_scaled, target_train)\n",
    "    print(forest_grid.best_score_)\n",
    "    print(forest_grid.best_params_)\n",
    "    prediction = forest_grid.best_estimator_.predict(features_valid_scaled)\n",
    "    print(f1_score(target_valid, prediction))"
   ]
  },
  {
   "cell_type": "code",
   "execution_count": 41,
   "metadata": {},
   "outputs": [],
   "source": [
    "if USE_SAVE_DATA == False:\n",
    "    forest_param = {'n_estimators': range(1,200),'max_depth':range(1,200),'min_samples_leaf':range(1,50), 'random_state':[12345], 'n_jobs':[4]}\n",
    "    forest_grid = GridSearchCV(RandomForestClassifier(), forest_param, refit=True, cv=3, verbose=3, scoring='f1')\n",
    "    forest_grid.fit(features_train_scaled, target_train)\n",
    "    print(forest_grid.best_score_)\n",
    "    print(forest_grid.best_params_)\n",
    "    prediction = forest_grid.best_estimator_.predict(features_valid_scaled)\n",
    "    print(f1_score(target_valid, prediction))"
   ]
  },
  {
   "cell_type": "code",
   "execution_count": 42,
   "metadata": {},
   "outputs": [],
   "source": [
    "best_model_list.append(forest_grid.best_estimator_)\n",
    "best_model_list.append('Случайный лес с дисбалансом')\n"
   ]
  },
  {
   "cell_type": "markdown",
   "metadata": {},
   "source": [
    "#### Вывод"
   ]
  },
  {
   "cell_type": "markdown",
   "metadata": {},
   "source": [
    "Без учета дисбаланса не удается достич требуемых значений метрики F1."
   ]
  },
  {
   "cell_type": "markdown",
   "metadata": {},
   "source": [
    "## Борьба с дисбалансом"
   ]
  },
  {
   "cell_type": "markdown",
   "metadata": {},
   "source": [
    "### Пробуем взвешивание классов"
   ]
  },
  {
   "cell_type": "markdown",
   "metadata": {},
   "source": [
    "#### Логистическая регрессия"
   ]
  },
  {
   "cell_type": "code",
   "execution_count": 43,
   "metadata": {},
   "outputs": [
    {
     "data": {
      "text/plain": [
       "0.35714285714285715"
      ]
     },
     "execution_count": 43,
     "metadata": {},
     "output_type": "execute_result"
    }
   ],
   "source": [
    "log_reg_bal = LogisticRegression(class_weight='balanced',random_state=12345)\n",
    "log_reg_bal.fit(features_train_scaled, target_train)\n",
    "prediction = log_reg_bal.predict(features_valid_scaled)\n",
    "f1_score(target_valid, prediction)"
   ]
  },
  {
   "cell_type": "code",
   "execution_count": 44,
   "metadata": {},
   "outputs": [],
   "source": [
    "best_model_list.append(log_reg_bal)\n",
    "best_model_list.append('Логистическая регрессия взвешенные классы')"
   ]
  },
  {
   "cell_type": "markdown",
   "metadata": {},
   "source": [
    "#### Дерево решений"
   ]
  },
  {
   "cell_type": "markdown",
   "metadata": {},
   "source": [
    "Попробуем гиперпараметры для дерева  с прошлого раза"
   ]
  },
  {
   "cell_type": "code",
   "execution_count": 45,
   "metadata": {},
   "outputs": [
    {
     "data": {
      "text/plain": [
       "0.534711964549483"
      ]
     },
     "execution_count": 45,
     "metadata": {},
     "output_type": "execute_result"
    }
   ],
   "source": [
    "tree_bal = DecisionTreeClassifier(class_weight='balanced', random_state=12345, criterion='entropy',\n",
    "                                 max_depth=14, min_samples_leaf=12)\n",
    "tree_bal.fit(features_train_scaled,target_train)\n",
    "\n",
    "prediction = tree_bal.predict(features_valid_scaled)\n",
    "\n",
    "f1_score(target_valid,prediction)\n"
   ]
  },
  {
   "cell_type": "markdown",
   "metadata": {},
   "source": [
    "Произведем поиск гиперпараметров заново"
   ]
  },
  {
   "cell_type": "code",
   "execution_count": 46,
   "metadata": {},
   "outputs": [
    {
     "name": "stdout",
     "output_type": "stream",
     "text": [
      "Fitting 3 folds for each of 1 candidates, totalling 3 fits\n",
      "[CV 1/3] END class_weight=balanced, max_depth=6, min_samples_leaf=9, random_state=12345;, score=0.563 total time=   1.1s\n",
      "[CV 2/3] END class_weight=balanced, max_depth=6, min_samples_leaf=9, random_state=12345;, score=0.545 total time=   1.1s\n",
      "[CV 3/3] END class_weight=balanced, max_depth=6, min_samples_leaf=9, random_state=12345;, score=0.577 total time=   1.2s\n",
      "DecisionTreeClassifier(class_weight='balanced', max_depth=6, min_samples_leaf=9,\n",
      "                       random_state=12345)\n",
      "0.5615225007357817\n",
      "f1_score 0.5882352941176471\n"
     ]
    }
   ],
   "source": [
    "if USE_SAVE_DATA:\n",
    "    param_grid = { \n",
    "              'max_depth':[6], 'min_samples_leaf':[9],\n",
    "             'random_state': [12345] , 'class_weight':['balanced']}\n",
    "    grid_bal = GridSearchCV(DecisionTreeClassifier(), param_grid, cv=3, refit=True, scoring='f1',verbose=3)\n",
    "    grid_bal.fit(features_train_scaled,target_train)\n",
    "    print(grid_bal.best_estimator_)\n",
    "    print(grid_bal.best_score_)\n",
    "    prediction = grid_bal.best_estimator_.predict(features_valid_scaled)\n",
    "    print('f1_score',f1_score(target_valid, prediction))\n"
   ]
  },
  {
   "cell_type": "code",
   "execution_count": 47,
   "metadata": {},
   "outputs": [],
   "source": [
    "if USE_SAVE_DATA == False:\n",
    "    param_grid = { \n",
    "              'max_depth':range(1,50), 'min_samples_leaf':range(1,20),\n",
    "             'random_state': [12345] , 'class_weight':['balanced']}\n",
    "    grid_bal = GridSearchCV(DecisionTreeClassifier(), param_grid, cv=3, refit=True, scoring='f1',verbose=3)\n",
    "    grid_bal.fit(features_train_scaled,target_train)\n",
    "    print(grid_bal.best_estimator_)\n",
    "    print(grid_bal.best_score_)\n",
    "    prediction = grid_bal.best_estimator_.predict(features_valid_scaled)\n",
    "    print('f1_score',f1_score(target_valid, prediction))\n",
    "    "
   ]
  },
  {
   "cell_type": "code",
   "execution_count": 48,
   "metadata": {},
   "outputs": [],
   "source": [
    "best_model_list.append(grid_bal.best_estimator_)\n",
    "best_model_list.append('Дерево решениий взвешенные классы')\n"
   ]
  },
  {
   "cell_type": "markdown",
   "metadata": {},
   "source": [
    "#### Случаный лес"
   ]
  },
  {
   "cell_type": "code",
   "execution_count": 49,
   "metadata": {
    "scrolled": true
   },
   "outputs": [
    {
     "name": "stdout",
     "output_type": "stream",
     "text": [
      "Fitting 3 folds for each of 1 candidates, totalling 3 fits\n",
      "RandomForestClassifier(class_weight='balanced', max_depth=36, n_estimators=165,\n",
      "                       random_state=12345)\n",
      "0.5830058521797451\n",
      "0.63003663003663\n"
     ]
    }
   ],
   "source": [
    "if USE_SAVE_DATA:\n",
    "    param_forest = {\n",
    "              'max_depth': [36], 'min_samples_leaf':[1], 'n_estimators':[165],\n",
    "             'random_state': [12345] , 'class_weight':['balanced']}\n",
    "    forest_bal = GridSearchCV(RandomForestClassifier(), param_forest, cv=3, refit=True, scoring='f1',verbose=3, n_jobs=4)\n",
    "    forest_bal.fit(features_train_scaled, target_train)\n",
    "    print(forest_bal.best_estimator_)\n",
    "    print(forest_bal.best_score_)\n",
    "    prediction = forest_bal.best_estimator_.predict(features_valid_scaled)\n",
    "    print(f1_score(target_valid, prediction))"
   ]
  },
  {
   "cell_type": "code",
   "execution_count": 50,
   "metadata": {},
   "outputs": [],
   "source": [
    "if USE_SAVE_DATA == False:\n",
    "    param_forest = {\n",
    "              'max_depth': range(1,40), 'min_samples_leaf':range(1,20), 'n_estimators':range(100,200),\n",
    "             'random_state': [12345] , 'class_weight':['balanced']}\n",
    "    forest_bal = GridSearchCV(RandomForestClassifier(), param_forest, cv=3, refit=True, scoring='f1',verbose=3, n_jobs=4)\n",
    "    forest_bal.fit(features_train_scaled, target_train)\n",
    "    print(forest_bal.best_estimator_)\n",
    "    print(forest_bal.best_score_)\n",
    "    prediction = forest_bal.best_estimator_.predict(features_valid_scaled)\n",
    "    print(f1_score(target_valid, prediction))\n",
    "    "
   ]
  },
  {
   "cell_type": "code",
   "execution_count": 51,
   "metadata": {},
   "outputs": [],
   "source": [
    "best_model_list.append(forest_bal.best_estimator_)\n",
    "best_model_list.append('Случайный лес взвешенные классы')\n"
   ]
  },
  {
   "cell_type": "markdown",
   "metadata": {},
   "source": [
    "### Пробуем upsampling"
   ]
  },
  {
   "cell_type": "markdown",
   "metadata": {},
   "source": [
    "#### Подготовка данных для обучения"
   ]
  },
  {
   "cell_type": "code",
   "execution_count": 52,
   "metadata": {},
   "outputs": [],
   "source": [
    "feature_train_zeros = features_train[target_train == 0]\n",
    "\n",
    "feature_train_ones = features_train[target_train == 1]\n",
    "\n",
    "target_train_zeros = target_train[target_train == 0]\n",
    "\n",
    "target_train_ones = target_train[target_train ==1]"
   ]
  },
  {
   "cell_type": "code",
   "execution_count": 53,
   "metadata": {},
   "outputs": [],
   "source": [
    "feature_train_upsampled = pd.concat([feature_train_zeros] + [feature_train_ones] * 4)\n",
    "target_train_upsampled = pd.concat([target_train_zeros] + [target_train_ones] * 4)"
   ]
  },
  {
   "cell_type": "code",
   "execution_count": 54,
   "metadata": {},
   "outputs": [],
   "source": [
    "feature_train_upsampled ,  target_train_upsampled = shuffle(feature_train_upsampled, \n",
    "target_train_upsampled, random_state=12345)"
   ]
  },
  {
   "cell_type": "code",
   "execution_count": 55,
   "metadata": {},
   "outputs": [],
   "source": [
    "feature_train_upsampled_scaled = scaler.transform(feature_train_upsampled)"
   ]
  },
  {
   "cell_type": "markdown",
   "metadata": {},
   "source": [
    "#### Логистическая регрессия"
   ]
  },
  {
   "cell_type": "code",
   "execution_count": 56,
   "metadata": {},
   "outputs": [
    {
     "data": {
      "text/plain": [
       "0.35179153094462545"
      ]
     },
     "execution_count": 56,
     "metadata": {},
     "output_type": "execute_result"
    }
   ],
   "source": [
    "log_reg_upsample = LogisticRegression(random_state=12345)\n",
    "\n",
    "log_reg_upsample.fit(feature_train_upsampled_scaled, target_train_upsampled)\n",
    "\n",
    "prediction = log_reg_upsample.predict(features_valid_scaled)\n",
    "\n",
    "f1_score(target_valid, prediction)"
   ]
  },
  {
   "cell_type": "code",
   "execution_count": 57,
   "metadata": {},
   "outputs": [],
   "source": [
    "best_model_list.append(log_reg_upsample)\n",
    "\n",
    "best_model_list.append('Логистическая регрессия апсемплинг')\n"
   ]
  },
  {
   "cell_type": "markdown",
   "metadata": {},
   "source": [
    "#### Дерево решений"
   ]
  },
  {
   "cell_type": "code",
   "execution_count": 58,
   "metadata": {},
   "outputs": [],
   "source": [
    "# if USE_SAVE_DATA:\n",
    "#     param_grid = { \n",
    "#               'max_depth':[45],'min_samples_leaf':[1],\n",
    "#              'random_state': [12345] }\n",
    "#     grid_tree_upsample = GridSearchCV(DecisionTreeClassifier(), param_grid, cv=2, refit=True, scoring='f1',verbose=3)\n",
    "#     grid_tree_upsample.fit(feature_train_upsampled_scaled, target_train_upsampled)\n",
    "#     print(grid_tree_upsample.best_estimator_)\n",
    "#     print(grid_tree_upsample.best_params_)\n",
    "#     prediction = grid_tree_upsample.best_estimator_.predict(features_valid_scaled)\n",
    "#     print(f1_score(target_valid, prediction))"
   ]
  },
  {
   "cell_type": "code",
   "execution_count": 59,
   "metadata": {},
   "outputs": [],
   "source": [
    "# if USE_SAVE_DATA == False:\n",
    "#     param_grid = { \n",
    "#               'max_depth':range(1,50),'min_samples_leaf':range(1,50),\n",
    "#              'random_state': [12345] }\n",
    "#     grid_tree_upsample = GridSearchCV(DecisionTreeClassifier(), param_grid, cv=2, refit=True, scoring='f1',verbose=3)\n",
    "#     grid_tree_upsample.fit(feature_train_upsampled_scaled, target_train_upsampled)\n",
    "#     print(grid_tree_upsample.best_estimator_)\n",
    "#     print(grid_tree_upsample.best_params_)\n",
    "#     prediction = grid_tree_upsample.best_estimator_.predict(features_valid_scaled)\n",
    "#     print(f1_score(target_valid, prediction))\n"
   ]
  },
  {
   "cell_type": "code",
   "execution_count": 60,
   "metadata": {},
   "outputs": [
    {
     "name": "stdout",
     "output_type": "stream",
     "text": [
      "F1 0.4864 max_depth 1 min-samples_leaf 70\n",
      "F1 0.5314900153609832 max_depth 2 min-samples_leaf 70\n",
      "F1 0.5359999999999999 max_depth 4 min-samples_leaf 70\n",
      "F1 0.6026058631921826 max_depth 5 min-samples_leaf 70\n",
      "F1 0.6038291605301915 max_depth 6 min-samples_leaf 70\n",
      "F1 0.6043613707165109 max_depth 9 min-samples_leaf 79\n",
      "Best model DecisionTreeClassifier(max_depth=9, min_samples_leaf=79, random_state=12345)\n"
     ]
    }
   ],
   "source": [
    "best_tree_score_ups = 0\n",
    "best_model_tree_ups = None\n",
    "best_tree_depth_ups = 1\n",
    "best_tree_min_samples_leaf_ups = 1\n",
    "for i in range(1,10):\n",
    "    for j in range(70,80):\n",
    "        model = DecisionTreeClassifier(max_depth=i, min_samples_leaf=j,random_state=12345)\n",
    "        model.fit(feature_train_upsampled_scaled, target_train_upsampled)\n",
    "        prediction = model.predict(features_valid_scaled)\n",
    "        if f1_score(target_valid, prediction) > best_tree_score_ups:\n",
    "            best_tree_score_ups = f1_score(target_valid, prediction)\n",
    "            best_model_tree_ups = model\n",
    "            best_tree_depth_ups = i\n",
    "            best_tree_min_samples_leaf_ups = j\n",
    "            print('F1',best_tree_score_ups, 'max_depth', \n",
    "                  best_tree_depth_ups, 'min-samples_leaf',best_tree_min_samples_leaf_ups)\n",
    "print('Best model', best_model_tree_ups)\n",
    "    "
   ]
  },
  {
   "cell_type": "code",
   "execution_count": 61,
   "metadata": {},
   "outputs": [],
   "source": [
    "best_model_list.append(best_model_tree_ups)\n",
    "best_model_list.append('Дерево решений апсемплинг без кросс-валидации')\n"
   ]
  },
  {
   "cell_type": "markdown",
   "metadata": {},
   "source": [
    "#### Случайный лес"
   ]
  },
  {
   "cell_type": "markdown",
   "metadata": {},
   "source": [
    "Найдем гиперпараметры для случайного леса без кросс-валидации"
   ]
  },
  {
   "cell_type": "markdown",
   "metadata": {},
   "source": [
    "Найдем подходящий max_depth"
   ]
  },
  {
   "cell_type": "code",
   "execution_count": 62,
   "metadata": {},
   "outputs": [
    {
     "name": "stdout",
     "output_type": "stream",
     "text": [
      "42 42 0.6358974358974359\n"
     ]
    }
   ],
   "source": [
    "best_depth = 0\n",
    "best_model = None\n",
    "best_score = 0\n",
    "\n",
    "for i in [42]:\n",
    "    model = RandomForestClassifier(max_depth=i,random_state=12345)\n",
    "    model.fit(feature_train_upsampled_scaled, target_train_upsampled)\n",
    "    prediction = model.predict(features_valid_scaled)\n",
    "    \n",
    "    if f1_score(target_valid, prediction) > best_score:\n",
    "        best_depth = i\n",
    "        best_model = model\n",
    "        best_score = f1_score(target_valid, prediction)\n",
    "        print(i, best_depth, best_score)\n",
    "    "
   ]
  },
  {
   "cell_type": "code",
   "execution_count": 63,
   "metadata": {},
   "outputs": [
    {
     "data": {
      "text/plain": [
       "42"
      ]
     },
     "execution_count": 63,
     "metadata": {},
     "output_type": "execute_result"
    }
   ],
   "source": [
    "best_depth"
   ]
  },
  {
   "cell_type": "code",
   "execution_count": 64,
   "metadata": {},
   "outputs": [
    {
     "data": {
      "text/plain": [
       "0.6358974358974359"
      ]
     },
     "execution_count": 64,
     "metadata": {},
     "output_type": "execute_result"
    }
   ],
   "source": [
    "best_score"
   ]
  },
  {
   "cell_type": "code",
   "execution_count": 65,
   "metadata": {},
   "outputs": [],
   "source": [
    "best_n_estimator = 100\n",
    "for i in range(100,110, 5):\n",
    "    model = RandomForestClassifier(max_depth=best_depth,n_estimators=i, random_state=12345)\n",
    "    model.fit(feature_train_upsampled_scaled, target_train_upsampled)\n",
    "    prediction = model.predict(features_valid_scaled)\n",
    "    \n",
    "    if f1_score(target_valid, prediction) > best_score:\n",
    "        #best_depth = i\n",
    "        best_n_estimator = i\n",
    "        best_model = model\n",
    "        best_score = f1_score(target_valid, prediction)\n",
    "        print(i, best_n_estimator, best_score)\n"
   ]
  },
  {
   "cell_type": "code",
   "execution_count": 66,
   "metadata": {},
   "outputs": [
    {
     "name": "stdout",
     "output_type": "stream",
     "text": [
      "RandomForestClassifier(max_depth=42, random_state=12345)\n",
      "0.6358974358974359\n"
     ]
    }
   ],
   "source": [
    "print(best_model)\n",
    "print(best_score)"
   ]
  },
  {
   "cell_type": "code",
   "execution_count": 67,
   "metadata": {},
   "outputs": [],
   "source": [
    "best_model_list.append(best_model)\n",
    "best_model_list.append(\"Случайный лес апсемплинг без кросс-валидации\")\n",
    "\n"
   ]
  },
  {
   "cell_type": "markdown",
   "metadata": {},
   "source": [
    "### Вывод по выбору моделей"
   ]
  },
  {
   "cell_type": "markdown",
   "metadata": {},
   "source": [
    "Выведем метрики по валидации для наглядности все вместе"
   ]
  },
  {
   "cell_type": "code",
   "execution_count": 68,
   "metadata": {},
   "outputs": [],
   "source": [
    "def compare_models(models_list, features_test_for_func, target_test):\n",
    "    f1_list = []\n",
    "    name_list = []\n",
    "    auc_roc_list = []\n",
    "    col = [ 'F1', 'AUC-ROC']\n",
    "    for i in range(0,len(models_list),2):\n",
    "    #for i in range(0,4,2):\n",
    "\n",
    "        name_list.append(models_list[i+1])\n",
    "        f1_list.append(f1_score(target_test, models_list[i].predict(features_test_for_func)))\n",
    "        prob_test = models_list[i].predict_proba(features_test_for_func)\n",
    "        auc_roc_list.append(roc_auc_score(target_test, prob_test[:,1]))\n",
    "\n",
    "        \n",
    "    return pd.DataFrame(list(zip(f1_list, auc_roc_list)),index=name_list, columns=col)"
   ]
  },
  {
   "cell_type": "code",
   "execution_count": 69,
   "metadata": {},
   "outputs": [
    {
     "data": {
      "text/html": [
       "<div>\n",
       "<style scoped>\n",
       "    .dataframe tbody tr th:only-of-type {\n",
       "        vertical-align: middle;\n",
       "    }\n",
       "\n",
       "    .dataframe tbody tr th {\n",
       "        vertical-align: top;\n",
       "    }\n",
       "\n",
       "    .dataframe thead th {\n",
       "        text-align: right;\n",
       "    }\n",
       "</style>\n",
       "<table border=\"1\" class=\"dataframe\">\n",
       "  <thead>\n",
       "    <tr style=\"text-align: right;\">\n",
       "      <th></th>\n",
       "      <th>F1</th>\n",
       "      <th>AUC-ROC</th>\n",
       "    </tr>\n",
       "  </thead>\n",
       "  <tbody>\n",
       "    <tr>\n",
       "      <td>Случайный лес апсемплинг без кросс-валидации</td>\n",
       "      <td>0.635897</td>\n",
       "      <td>0.852878</td>\n",
       "    </tr>\n",
       "    <tr>\n",
       "      <td>Случайный лес взвешенные классы</td>\n",
       "      <td>0.630037</td>\n",
       "      <td>0.849411</td>\n",
       "    </tr>\n",
       "    <tr>\n",
       "      <td>Дерево решений апсемплинг без кросс-валидации</td>\n",
       "      <td>0.604361</td>\n",
       "      <td>0.853504</td>\n",
       "    </tr>\n",
       "    <tr>\n",
       "      <td>Дерево решениий взвешенные классы</td>\n",
       "      <td>0.588235</td>\n",
       "      <td>0.849105</td>\n",
       "    </tr>\n",
       "    <tr>\n",
       "      <td>Дерево решений с дисбалансом</td>\n",
       "      <td>0.575107</td>\n",
       "      <td>0.805885</td>\n",
       "    </tr>\n",
       "    <tr>\n",
       "      <td>Случайный лес с дисбалансом</td>\n",
       "      <td>0.528000</td>\n",
       "      <td>0.847941</td>\n",
       "    </tr>\n",
       "    <tr>\n",
       "      <td>Логистическая регрессия взвешенные классы</td>\n",
       "      <td>0.357143</td>\n",
       "      <td>0.592436</td>\n",
       "    </tr>\n",
       "    <tr>\n",
       "      <td>Логистическая регрессия апсемплинг</td>\n",
       "      <td>0.351792</td>\n",
       "      <td>0.590297</td>\n",
       "    </tr>\n",
       "    <tr>\n",
       "      <td>Логистическая регрессия с дисбалансом</td>\n",
       "      <td>0.258065</td>\n",
       "      <td>0.594358</td>\n",
       "    </tr>\n",
       "  </tbody>\n",
       "</table>\n",
       "</div>"
      ],
      "text/plain": [
       "                                                     F1   AUC-ROC\n",
       "Случайный лес апсемплинг без кросс-валидации   0.635897  0.852878\n",
       "Случайный лес взвешенные классы                0.630037  0.849411\n",
       "Дерево решений апсемплинг без кросс-валидации  0.604361  0.853504\n",
       "Дерево решениий взвешенные классы              0.588235  0.849105\n",
       "Дерево решений с дисбалансом                   0.575107  0.805885\n",
       "Случайный лес с дисбалансом                    0.528000  0.847941\n",
       "Логистическая регрессия взвешенные классы      0.357143  0.592436\n",
       "Логистическая регрессия апсемплинг             0.351792  0.590297\n",
       "Логистическая регрессия с дисбалансом          0.258065  0.594358"
      ]
     },
     "execution_count": 69,
     "metadata": {},
     "output_type": "execute_result"
    }
   ],
   "source": [
    "compare_models(best_model_list, features_valid_scaled, target_valid).sort_values(by='F1',ascending=False)"
   ]
  },
  {
   "cell_type": "markdown",
   "metadata": {},
   "source": [
    "По результатам до теста, на валидационной выборке лучшей моделью является модель на случайном лесе, с апсемплингом без кросс-валидации. В целом можно сделатть вывод, что логистическая регрессия дает наихудший результат, случайный лес и деревья решений дают хорошие метрике по задаче. "
   ]
  },
  {
   "cell_type": "markdown",
   "metadata": {},
   "source": [
    "## Тестирование модели"
   ]
  },
  {
   "cell_type": "markdown",
   "metadata": {},
   "source": [
    "### Тестирование"
   ]
  },
  {
   "cell_type": "markdown",
   "metadata": {},
   "source": [
    "Проверим наши модели на тестовых данных"
   ]
  },
  {
   "cell_type": "code",
   "execution_count": 70,
   "metadata": {},
   "outputs": [
    {
     "data": {
      "text/html": [
       "<div>\n",
       "<style scoped>\n",
       "    .dataframe tbody tr th:only-of-type {\n",
       "        vertical-align: middle;\n",
       "    }\n",
       "\n",
       "    .dataframe tbody tr th {\n",
       "        vertical-align: top;\n",
       "    }\n",
       "\n",
       "    .dataframe thead th {\n",
       "        text-align: right;\n",
       "    }\n",
       "</style>\n",
       "<table border=\"1\" class=\"dataframe\">\n",
       "  <thead>\n",
       "    <tr style=\"text-align: right;\">\n",
       "      <th></th>\n",
       "      <th>F1</th>\n",
       "      <th>AUC-ROC</th>\n",
       "    </tr>\n",
       "  </thead>\n",
       "  <tbody>\n",
       "    <tr>\n",
       "      <td>Дерево решений апсемплинг без кросс-валидации</td>\n",
       "      <td>0.610272</td>\n",
       "      <td>0.844117</td>\n",
       "    </tr>\n",
       "    <tr>\n",
       "      <td>Дерево решениий взвешенные классы</td>\n",
       "      <td>0.603933</td>\n",
       "      <td>0.849039</td>\n",
       "    </tr>\n",
       "    <tr>\n",
       "      <td>Случайный лес апсемплинг без кросс-валидации</td>\n",
       "      <td>0.593698</td>\n",
       "      <td>0.832920</td>\n",
       "    </tr>\n",
       "    <tr>\n",
       "      <td>Случайный лес взвешенные классы</td>\n",
       "      <td>0.588028</td>\n",
       "      <td>0.828255</td>\n",
       "    </tr>\n",
       "    <tr>\n",
       "      <td>Дерево решений с дисбалансом</td>\n",
       "      <td>0.557377</td>\n",
       "      <td>0.808248</td>\n",
       "    </tr>\n",
       "    <tr>\n",
       "      <td>Случайный лес с дисбалансом</td>\n",
       "      <td>0.463542</td>\n",
       "      <td>0.842611</td>\n",
       "    </tr>\n",
       "    <tr>\n",
       "      <td>Логистическая регрессия взвешенные классы</td>\n",
       "      <td>0.352941</td>\n",
       "      <td>0.581164</td>\n",
       "    </tr>\n",
       "    <tr>\n",
       "      <td>Логистическая регрессия апсемплинг</td>\n",
       "      <td>0.343537</td>\n",
       "      <td>0.578495</td>\n",
       "    </tr>\n",
       "    <tr>\n",
       "      <td>Логистическая регрессия с дисбалансом</td>\n",
       "      <td>0.262376</td>\n",
       "      <td>0.581352</td>\n",
       "    </tr>\n",
       "  </tbody>\n",
       "</table>\n",
       "</div>"
      ],
      "text/plain": [
       "                                                     F1   AUC-ROC\n",
       "Дерево решений апсемплинг без кросс-валидации  0.610272  0.844117\n",
       "Дерево решениий взвешенные классы              0.603933  0.849039\n",
       "Случайный лес апсемплинг без кросс-валидации   0.593698  0.832920\n",
       "Случайный лес взвешенные классы                0.588028  0.828255\n",
       "Дерево решений с дисбалансом                   0.557377  0.808248\n",
       "Случайный лес с дисбалансом                    0.463542  0.842611\n",
       "Логистическая регрессия взвешенные классы      0.352941  0.581164\n",
       "Логистическая регрессия апсемплинг             0.343537  0.578495\n",
       "Логистическая регрессия с дисбалансом          0.262376  0.581352"
      ]
     },
     "execution_count": 70,
     "metadata": {},
     "output_type": "execute_result"
    }
   ],
   "source": [
    "compare_models(best_model_list, features_test_scaled, target_test).sort_values(by='F1',ascending=False)"
   ]
  },
  {
   "cell_type": "code",
   "execution_count": 71,
   "metadata": {},
   "outputs": [],
   "source": [
    "def draw_roc_curve(models_list, features_test_for_func, target_test):\n",
    "    for i in range(0,len(models_list),2):\n",
    "        prob_test = models_list[i].predict_proba(features_test_for_func)\n",
    "        fpr, tpr, thresholds = roc_curve( target_test, prob_test[:,1])\n",
    "        plt.figure(figsize=(9,9))\n",
    "        plt.plot(fpr, tpr, linestyle='--')\n",
    "        plt.xlim([0.0, 1.0])\n",
    "        plt.ylim([0.0,1.0])\n",
    "        plt.xlabel('False Positive Rate')\n",
    "        plt.ylabel('True Positive Rate')\n",
    "        plt.title('ROC-кривая '+ models_list[i+1]) \n",
    "        plt.show()\n"
   ]
  },
  {
   "cell_type": "markdown",
   "metadata": {},
   "source": [
    "Отобразим ROC-кривые:"
   ]
  },
  {
   "cell_type": "code",
   "execution_count": 72,
   "metadata": {},
   "outputs": [
    {
     "data": {
      "image/png": "[encoded data removed]",
      "text/plain": [
       "<Figure size 648x648 with 1 Axes>"
      ]
     },
     "metadata": {
      "needs_background": "light"
     },
     "output_type": "display_data"
    },
    {
     "data": {
      "image/png": "[encoded data removed]",
      "text/plain": [
       "<Figure size 648x648 with 1 Axes>"
      ]
     },
     "metadata": {
      "needs_background": "light"
     },
     "output_type": "display_data"
    },
    {
     "data": {
      "image/png": "[encoded data removed]",
      "text/plain": [
       "<Figure size 648x648 with 1 Axes>"
      ]
     },
     "metadata": {
      "needs_background": "light"
     },
     "output_type": "display_data"
    },
    {
     "data": {
      "image/png": "[encoded data removed]",
      "text/plain": [
       "<Figure size 648x648 with 1 Axes>"
      ]
     },
     "metadata": {
      "needs_background": "light"
     },
     "output_type": "display_data"
    },
    {
     "data": {
      "image/png": "[encoded data removed]",
      "text/plain": [
       "<Figure size 648x648 with 1 Axes>"
      ]
     },
     "metadata": {
      "needs_background": "light"
     },
     "output_type": "display_data"
    },
    {
     "data": {
      "image/png": "[encoded data removed]",
      "text/plain": [
       "<Figure size 648x648 with 1 Axes>"
      ]
     },
     "metadata": {
      "needs_background": "light"
     },
     "output_type": "display_data"
    },
    {
     "data": {
      "image/png": "[encoded data removed]",
      "text/plain": [
       "<Figure size 648x648 with 1 Axes>"
      ]
     },
     "metadata": {
      "needs_background": "light"
     },
     "output_type": "display_data"
    },
    {
     "data": {
      "image/png": "[encoded data removed]",
      "text/plain": [
       "<Figure size 648x648 with 1 Axes>"
      ]
     },
     "metadata": {
      "needs_background": "light"
     },
     "output_type": "display_data"
    },
    {
     "data": {
      "image/png": "[encoded data removed]",
      "text/plain": [
       "<Figure size 648x648 with 1 Axes>"
      ]
     },
     "metadata": {
      "needs_background": "light"
     },
     "output_type": "display_data"
    }
   ],
   "source": [
    "draw_roc_curve(best_model_list, features_test_scaled, target_test) #Рисуем ROC-кривую"
   ]
  },
  {
   "cell_type": "markdown",
   "metadata": {},
   "source": [
    "На тесте мы получаем другой результат, дерево решениий со взвешенными классами дает наилучшее значений метрики F1, при этом значение AUC-ROC одно из самых высоких."
   ]
  },
  {
   "cell_type": "markdown",
   "metadata": {},
   "source": [
    "### Вывод по тесту"
   ]
  },
  {
   "cell_type": "markdown",
   "metadata": {},
   "source": [
    "По результатам теста можно сказать, что в данной задаче лучше всего рабоют алгоритмы, основанные на деревьях и ансамблях деревьев. Достигнуть значения F1 =0,59 удалось. В целом, можно взять модели с наиболее качественными метриками и работать по ним совместно."
   ]
  },
  {
   "cell_type": "markdown",
   "metadata": {},
   "source": [
    "## Чек-лист готовности проекта"
   ]
  },
  {
   "cell_type": "markdown",
   "metadata": {},
   "source": [
    "Поставьте 'x' в выполненных пунктах. Далее нажмите Shift+Enter."
   ]
  },
  {
   "cell_type": "markdown",
   "metadata": {},
   "source": [
    "- [x]  Jupyter Notebook открыт\n",
    "- [X]  Весь код выполняется без ошибок\n",
    "- [X]  Ячейки с кодом расположены в порядке исполнения\n",
    "- [X]  Выполнен шаг 1: данные подготовлены\n",
    "- [X]  Выполнен шаг 2: задача исследована\n",
    "    - [X]  Исследован баланс классов\n",
    "    - [X]  Изучены модели без учёта дисбаланса\n",
    "    - [X]  Написаны выводы по результатам исследования\n",
    "- [X]  Выполнен шаг 3: учтён дисбаланс\n",
    "    - [X]  Применено несколько способов борьбы с дисбалансом\n",
    "    - [X]  Написаны выводы по результатам исследования\n",
    "- [X]  Выполнен шаг 4: проведено тестирование\n",
    "- [X]  Удалось достичь *F1*-меры не менее 0.59\n",
    "- [X]  Исследована метрика *AUC-ROC*"
   ]
  },
  {
   "cell_type": "code",
   "execution_count": null,
   "metadata": {},
   "outputs": [],
   "source": []
  },
  {
   "cell_type": "markdown",
   "metadata": {},
   "source": [
    "Плюс еще одна ячейка"
   ]
  },
  {
   "cell_type": "code",
   "execution_count": null,
   "metadata": {},
   "outputs": [],
   "source": []
  }
 ],
 "metadata": {
  "ExecuteTimeLog": [
   {
    "duration": 3,
    "start_time": "2021-11-30T19:19:49.409Z"
   },
   {
    "duration": 617,
    "start_time": "2021-11-30T19:20:03.929Z"
   },
   {
    "duration": 29,
    "start_time": "2021-11-30T19:20:38.433Z"
   },
   {
    "duration": 18,
    "start_time": "2021-11-30T19:20:45.115Z"
   },
   {
    "duration": 17,
    "start_time": "2021-11-30T19:21:13.465Z"
   },
   {
    "duration": 5,
    "start_time": "2021-11-30T19:32:01.940Z"
   },
   {
    "duration": 8,
    "start_time": "2021-11-30T19:32:21.998Z"
   },
   {
    "duration": 594,
    "start_time": "2021-11-30T19:47:51.012Z"
   },
   {
    "duration": 420,
    "start_time": "2021-11-30T19:47:57.761Z"
   },
   {
    "duration": 309,
    "start_time": "2021-11-30T19:49:06.870Z"
   },
   {
    "duration": 30,
    "start_time": "2021-11-30T19:49:21.701Z"
   },
   {
    "duration": 3,
    "start_time": "2021-11-30T19:49:27.594Z"
   },
   {
    "duration": 373,
    "start_time": "2021-11-30T19:50:04.344Z"
   },
   {
    "duration": 273,
    "start_time": "2021-11-30T19:50:29.067Z"
   },
   {
    "duration": 269,
    "start_time": "2021-11-30T19:50:54.124Z"
   },
   {
    "duration": 347,
    "start_time": "2021-11-30T19:51:06.081Z"
   },
   {
    "duration": 4,
    "start_time": "2021-11-30T19:53:30.983Z"
   },
   {
    "duration": 94,
    "start_time": "2021-11-30T19:54:03.240Z"
   },
   {
    "duration": 271,
    "start_time": "2021-11-30T19:54:31.701Z"
   },
   {
    "duration": 277,
    "start_time": "2021-11-30T19:54:58.096Z"
   },
   {
    "duration": 3,
    "start_time": "2021-11-30T19:55:14.721Z"
   },
   {
    "duration": 5,
    "start_time": "2021-11-30T19:55:19.716Z"
   },
   {
    "duration": 267,
    "start_time": "2021-11-30T19:55:27.459Z"
   },
   {
    "duration": 3,
    "start_time": "2021-11-30T19:55:53.780Z"
   },
   {
    "duration": 4,
    "start_time": "2021-11-30T19:55:54.520Z"
   },
   {
    "duration": 354,
    "start_time": "2021-11-30T19:55:58.928Z"
   },
   {
    "duration": 6,
    "start_time": "2021-11-30T19:57:10.410Z"
   },
   {
    "duration": 3,
    "start_time": "2021-11-30T19:57:11.405Z"
   },
   {
    "duration": 275,
    "start_time": "2021-11-30T19:57:14.829Z"
   },
   {
    "duration": 3,
    "start_time": "2021-11-30T19:57:36.317Z"
   },
   {
    "duration": 3,
    "start_time": "2021-11-30T19:57:37.139Z"
   },
   {
    "duration": 260,
    "start_time": "2021-11-30T19:57:40.686Z"
   },
   {
    "duration": 3,
    "start_time": "2021-11-30T19:57:58.956Z"
   },
   {
    "duration": 5,
    "start_time": "2021-11-30T19:57:59.696Z"
   },
   {
    "duration": 278,
    "start_time": "2021-11-30T19:58:02.114Z"
   },
   {
    "duration": 4,
    "start_time": "2021-11-30T19:58:26.710Z"
   },
   {
    "duration": 8,
    "start_time": "2021-11-30T19:58:27.494Z"
   },
   {
    "duration": 9,
    "start_time": "2021-11-30T19:58:31.807Z"
   },
   {
    "duration": 3,
    "start_time": "2021-11-30T19:58:58.744Z"
   },
   {
    "duration": 8,
    "start_time": "2021-11-30T19:58:59.776Z"
   },
   {
    "duration": 6,
    "start_time": "2021-11-30T19:59:05.838Z"
   },
   {
    "duration": 309,
    "start_time": "2021-11-30T20:00:22.818Z"
   },
   {
    "duration": 4,
    "start_time": "2021-11-30T20:00:35.116Z"
   },
   {
    "duration": 7,
    "start_time": "2021-11-30T20:00:40.552Z"
   },
   {
    "duration": 253,
    "start_time": "2021-11-30T20:12:03.519Z"
   },
   {
    "duration": 523,
    "start_time": "2021-11-30T20:12:16.384Z"
   },
   {
    "duration": 496,
    "start_time": "2021-11-30T20:12:22.725Z"
   },
   {
    "duration": 332,
    "start_time": "2021-11-30T20:13:00.473Z"
   },
   {
    "duration": 257,
    "start_time": "2021-11-30T20:16:28.991Z"
   },
   {
    "duration": 307,
    "start_time": "2021-11-30T20:16:34.766Z"
   },
   {
    "duration": 30,
    "start_time": "2021-11-30T20:16:39.850Z"
   },
   {
    "duration": 3292,
    "start_time": "2021-11-30T20:55:44.016Z"
   },
   {
    "duration": 7995,
    "start_time": "2021-12-02T11:44:27.317Z"
   },
   {
    "duration": 1061,
    "start_time": "2021-12-02T11:45:06.978Z"
   },
   {
    "duration": 119,
    "start_time": "2021-12-02T11:45:15.365Z"
   },
   {
    "duration": 263,
    "start_time": "2021-12-02T11:47:26.184Z"
   },
   {
    "duration": 232397,
    "start_time": "2021-12-02T11:48:06.237Z"
   },
   {
    "duration": 21,
    "start_time": "2021-12-02T11:55:48.490Z"
   },
   {
    "duration": 8,
    "start_time": "2021-12-02T11:55:55.674Z"
   },
   {
    "duration": 6,
    "start_time": "2021-12-02T12:00:17.653Z"
   },
   {
    "duration": 239741,
    "start_time": "2021-12-02T12:00:29.882Z"
   },
   {
    "duration": 233516,
    "start_time": "2021-12-02T12:09:30.827Z"
   },
   {
    "duration": 14,
    "start_time": "2021-12-02T12:17:04.800Z"
   },
   {
    "duration": 6476,
    "start_time": "2021-12-02T14:28:49.958Z"
   },
   {
    "duration": 1078,
    "start_time": "2021-12-02T14:29:00.863Z"
   },
   {
    "duration": 23,
    "start_time": "2021-12-02T14:29:05.062Z"
   },
   {
    "duration": 9,
    "start_time": "2021-12-02T14:29:39.848Z"
   },
   {
    "duration": 4,
    "start_time": "2021-12-02T14:29:43.733Z"
   },
   {
    "duration": 2,
    "start_time": "2021-12-02T14:31:02.273Z"
   },
   {
    "duration": 3,
    "start_time": "2021-12-02T14:31:09.914Z"
   },
   {
    "duration": 4,
    "start_time": "2021-12-02T14:31:52.318Z"
   },
   {
    "duration": 3,
    "start_time": "2021-12-02T14:31:55.046Z"
   },
   {
    "duration": 3,
    "start_time": "2021-12-02T14:31:57.809Z"
   },
   {
    "duration": 9,
    "start_time": "2021-12-02T14:32:01.219Z"
   },
   {
    "duration": 315,
    "start_time": "2021-12-02T14:33:11.147Z"
   },
   {
    "duration": 264,
    "start_time": "2021-12-02T14:33:26.801Z"
   },
   {
    "duration": 243,
    "start_time": "2021-12-02T14:33:51.483Z"
   },
   {
    "duration": 244,
    "start_time": "2021-12-02T14:34:14.522Z"
   },
   {
    "duration": 266,
    "start_time": "2021-12-02T14:34:19.445Z"
   },
   {
    "duration": 236,
    "start_time": "2021-12-02T14:34:38.480Z"
   },
   {
    "duration": 259,
    "start_time": "2021-12-02T14:34:45.665Z"
   },
   {
    "duration": 9,
    "start_time": "2021-12-02T14:34:59.134Z"
   },
   {
    "duration": 12,
    "start_time": "2021-12-02T14:35:58.705Z"
   },
   {
    "duration": 7,
    "start_time": "2021-12-02T14:37:19.184Z"
   },
   {
    "duration": 7,
    "start_time": "2021-12-02T14:37:35.193Z"
   },
   {
    "duration": 244,
    "start_time": "2021-12-02T14:37:45.016Z"
   },
   {
    "duration": 15,
    "start_time": "2021-12-02T14:38:15.094Z"
   },
   {
    "duration": 8,
    "start_time": "2021-12-02T14:38:28.243Z"
   },
   {
    "duration": 77,
    "start_time": "2021-12-02T14:39:23.365Z"
   },
   {
    "duration": 1148,
    "start_time": "2021-12-02T14:39:40.988Z"
   },
   {
    "duration": 5,
    "start_time": "2021-12-02T14:41:24.849Z"
   },
   {
    "duration": 1565,
    "start_time": "2021-12-02T14:41:45.085Z"
   },
   {
    "duration": 1196,
    "start_time": "2021-12-02T14:42:17.839Z"
   },
   {
    "duration": 1163,
    "start_time": "2021-12-02T14:43:59.776Z"
   },
   {
    "duration": 7,
    "start_time": "2021-12-02T14:44:09.866Z"
   },
   {
    "duration": 7,
    "start_time": "2021-12-02T14:44:23.448Z"
   },
   {
    "duration": 1189,
    "start_time": "2021-12-02T14:44:27.043Z"
   },
   {
    "duration": 1269,
    "start_time": "2021-12-02T14:45:05.430Z"
   },
   {
    "duration": 1271,
    "start_time": "2021-12-02T14:45:16.437Z"
   },
   {
    "duration": 1036,
    "start_time": "2021-12-02T14:45:51.339Z"
   },
   {
    "duration": 5,
    "start_time": "2021-12-02T14:45:55.600Z"
   },
   {
    "duration": 252,
    "start_time": "2021-12-02T14:46:00.487Z"
   },
   {
    "duration": 1036,
    "start_time": "2021-12-02T14:46:18.948Z"
   },
   {
    "duration": 5,
    "start_time": "2021-12-02T14:46:23.792Z"
   },
   {
    "duration": 15,
    "start_time": "2021-12-02T14:46:41.652Z"
   },
   {
    "duration": 310,
    "start_time": "2021-12-02T14:49:00.122Z"
   },
   {
    "duration": 241,
    "start_time": "2021-12-02T14:49:05.543Z"
   },
   {
    "duration": 1086,
    "start_time": "2021-12-02T14:49:12.390Z"
   },
   {
    "duration": 11,
    "start_time": "2021-12-02T14:49:13.478Z"
   },
   {
    "duration": 7,
    "start_time": "2021-12-02T14:49:37.512Z"
   },
   {
    "duration": 1070,
    "start_time": "2021-12-02T14:50:01.911Z"
   },
   {
    "duration": 8,
    "start_time": "2021-12-02T14:50:04.337Z"
   },
   {
    "duration": 240,
    "start_time": "2021-12-02T14:50:10.425Z"
   },
   {
    "duration": 8,
    "start_time": "2021-12-02T14:50:13.113Z"
   },
   {
    "duration": 8,
    "start_time": "2021-12-02T14:50:47.554Z"
   },
   {
    "duration": 3,
    "start_time": "2021-12-02T14:52:08.991Z"
   },
   {
    "duration": 8,
    "start_time": "2021-12-02T14:52:10.424Z"
   },
   {
    "duration": 11,
    "start_time": "2021-12-02T14:52:12.565Z"
   },
   {
    "duration": 7,
    "start_time": "2021-12-02T14:52:15.571Z"
   },
   {
    "duration": 8,
    "start_time": "2021-12-02T14:52:16.999Z"
   },
   {
    "duration": 3,
    "start_time": "2021-12-02T20:22:22.555Z"
   },
   {
    "duration": 7,
    "start_time": "2021-12-02T20:22:22.656Z"
   },
   {
    "duration": 7,
    "start_time": "2021-12-02T20:22:26.939Z"
   },
   {
    "duration": 2542,
    "start_time": "2021-12-02T20:22:33.748Z"
   },
   {
    "duration": 1026,
    "start_time": "2021-12-02T20:22:36.293Z"
   },
   {
    "duration": 24,
    "start_time": "2021-12-02T20:22:37.323Z"
   },
   {
    "duration": 8,
    "start_time": "2021-12-02T20:22:37.349Z"
   },
   {
    "duration": 5,
    "start_time": "2021-12-02T20:22:37.358Z"
   },
   {
    "duration": 7,
    "start_time": "2021-12-02T20:22:37.364Z"
   },
   {
    "duration": 18,
    "start_time": "2021-12-02T20:22:37.373Z"
   },
   {
    "duration": 3,
    "start_time": "2021-12-02T20:22:37.393Z"
   },
   {
    "duration": 1488,
    "start_time": "2021-12-02T20:22:37.398Z"
   },
   {
    "duration": 7,
    "start_time": "2021-12-02T20:22:38.887Z"
   },
   {
    "duration": 8,
    "start_time": "2021-12-02T20:22:38.896Z"
   },
   {
    "duration": 302,
    "start_time": "2021-12-02T20:22:38.905Z"
   },
   {
    "duration": 205,
    "start_time": "2021-12-02T20:22:39.003Z"
   },
   {
    "duration": 7,
    "start_time": "2021-12-02T20:23:26.936Z"
   },
   {
    "duration": 8,
    "start_time": "2021-12-02T20:23:45.266Z"
   },
   {
    "duration": 9,
    "start_time": "2021-12-02T20:25:35.400Z"
   },
   {
    "duration": 6,
    "start_time": "2021-12-02T20:26:44.855Z"
   },
   {
    "duration": 7,
    "start_time": "2021-12-02T20:26:59.651Z"
   },
   {
    "duration": 9,
    "start_time": "2021-12-02T20:27:20.277Z"
   },
   {
    "duration": 12,
    "start_time": "2021-12-02T20:27:37.934Z"
   },
   {
    "duration": 237,
    "start_time": "2021-12-02T20:28:08.882Z"
   },
   {
    "duration": 237,
    "start_time": "2021-12-02T20:28:13.429Z"
   },
   {
    "duration": 616,
    "start_time": "2021-12-02T20:29:45.283Z"
   },
   {
    "duration": 10,
    "start_time": "2021-12-02T20:30:08.090Z"
   },
   {
    "duration": 12,
    "start_time": "2021-12-02T20:30:14.542Z"
   },
   {
    "duration": 2376,
    "start_time": "2021-12-02T20:30:49.983Z"
   },
   {
    "duration": 1273,
    "start_time": "2021-12-02T20:30:52.361Z"
   },
   {
    "duration": 21,
    "start_time": "2021-12-02T20:30:53.636Z"
   },
   {
    "duration": 6,
    "start_time": "2021-12-02T20:30:53.659Z"
   },
   {
    "duration": 22,
    "start_time": "2021-12-02T20:30:53.666Z"
   },
   {
    "duration": 6,
    "start_time": "2021-12-02T20:30:53.690Z"
   },
   {
    "duration": 11,
    "start_time": "2021-12-02T20:30:53.697Z"
   },
   {
    "duration": 2,
    "start_time": "2021-12-02T20:30:53.710Z"
   },
   {
    "duration": 1078,
    "start_time": "2021-12-02T20:30:53.714Z"
   },
   {
    "duration": 7,
    "start_time": "2021-12-02T20:30:54.793Z"
   },
   {
    "duration": 8,
    "start_time": "2021-12-02T20:30:54.801Z"
   },
   {
    "duration": 7,
    "start_time": "2021-12-02T20:30:54.810Z"
   },
   {
    "duration": 10,
    "start_time": "2021-12-02T20:30:54.818Z"
   },
   {
    "duration": 8,
    "start_time": "2021-12-02T20:32:34.514Z"
   },
   {
    "duration": 8,
    "start_time": "2021-12-02T20:32:40.716Z"
   },
   {
    "duration": 2648,
    "start_time": "2021-12-02T20:32:47.979Z"
   },
   {
    "duration": 1197,
    "start_time": "2021-12-02T20:32:50.629Z"
   },
   {
    "duration": 23,
    "start_time": "2021-12-02T20:32:51.830Z"
   },
   {
    "duration": 7,
    "start_time": "2021-12-02T20:32:51.854Z"
   },
   {
    "duration": 2,
    "start_time": "2021-12-02T20:32:51.863Z"
   },
   {
    "duration": 4,
    "start_time": "2021-12-02T20:32:51.866Z"
   },
   {
    "duration": 22,
    "start_time": "2021-12-02T20:32:51.872Z"
   },
   {
    "duration": 2,
    "start_time": "2021-12-02T20:32:51.896Z"
   },
   {
    "duration": 1366,
    "start_time": "2021-12-02T20:32:51.899Z"
   },
   {
    "duration": 7,
    "start_time": "2021-12-02T20:32:53.267Z"
   },
   {
    "duration": 15,
    "start_time": "2021-12-02T20:32:53.276Z"
   },
   {
    "duration": 6,
    "start_time": "2021-12-02T20:32:53.293Z"
   },
   {
    "duration": 10,
    "start_time": "2021-12-02T20:32:53.300Z"
   },
   {
    "duration": 7,
    "start_time": "2021-12-02T20:38:40.594Z"
   },
   {
    "duration": 12,
    "start_time": "2021-12-02T20:38:54.566Z"
   },
   {
    "duration": 6,
    "start_time": "2021-12-02T20:40:01.114Z"
   },
   {
    "duration": 13,
    "start_time": "2021-12-02T20:40:12.255Z"
   },
   {
    "duration": 6,
    "start_time": "2021-12-02T20:40:53.700Z"
   },
   {
    "duration": 2604,
    "start_time": "2021-12-02T20:41:01.778Z"
   },
   {
    "duration": 1440,
    "start_time": "2021-12-02T20:41:04.385Z"
   },
   {
    "duration": 32,
    "start_time": "2021-12-02T20:41:05.827Z"
   },
   {
    "duration": 5,
    "start_time": "2021-12-02T20:41:05.861Z"
   },
   {
    "duration": 3,
    "start_time": "2021-12-02T20:41:05.868Z"
   },
   {
    "duration": 7,
    "start_time": "2021-12-02T20:41:05.872Z"
   },
   {
    "duration": 11,
    "start_time": "2021-12-02T20:41:05.888Z"
   },
   {
    "duration": 2,
    "start_time": "2021-12-02T20:41:05.902Z"
   },
   {
    "duration": 1174,
    "start_time": "2021-12-02T20:41:05.906Z"
   },
   {
    "duration": 6,
    "start_time": "2021-12-02T20:41:07.082Z"
   },
   {
    "duration": 5,
    "start_time": "2021-12-02T20:41:07.089Z"
   },
   {
    "duration": 14,
    "start_time": "2021-12-02T20:41:07.095Z"
   },
   {
    "duration": 351,
    "start_time": "2021-12-02T21:03:15.993Z"
   },
   {
    "duration": 6,
    "start_time": "2021-12-02T21:03:22.545Z"
   },
   {
    "duration": 14,
    "start_time": "2021-12-02T21:03:26.869Z"
   },
   {
    "duration": 2971,
    "start_time": "2021-12-02T21:03:51.700Z"
   },
   {
    "duration": 1536,
    "start_time": "2021-12-02T21:03:54.673Z"
   },
   {
    "duration": 29,
    "start_time": "2021-12-02T21:03:56.212Z"
   },
   {
    "duration": 7,
    "start_time": "2021-12-02T21:03:56.243Z"
   },
   {
    "duration": 4,
    "start_time": "2021-12-02T21:03:56.287Z"
   },
   {
    "duration": 5,
    "start_time": "2021-12-02T21:03:56.293Z"
   },
   {
    "duration": 13,
    "start_time": "2021-12-02T21:03:56.300Z"
   },
   {
    "duration": 3,
    "start_time": "2021-12-02T21:03:56.316Z"
   },
   {
    "duration": 1229,
    "start_time": "2021-12-02T21:03:56.321Z"
   },
   {
    "duration": 7,
    "start_time": "2021-12-02T21:03:57.552Z"
   },
   {
    "duration": 6,
    "start_time": "2021-12-02T21:03:57.561Z"
   },
   {
    "duration": 30,
    "start_time": "2021-12-02T21:03:57.568Z"
   },
   {
    "duration": 2384,
    "start_time": "2021-12-02T21:07:59.805Z"
   },
   {
    "duration": 1205,
    "start_time": "2021-12-02T21:08:02.191Z"
   },
   {
    "duration": 22,
    "start_time": "2021-12-02T21:08:03.398Z"
   },
   {
    "duration": 5,
    "start_time": "2021-12-02T21:08:03.422Z"
   },
   {
    "duration": 3,
    "start_time": "2021-12-02T21:08:03.429Z"
   },
   {
    "duration": 5,
    "start_time": "2021-12-02T21:08:03.433Z"
   },
   {
    "duration": 10,
    "start_time": "2021-12-02T21:08:03.439Z"
   },
   {
    "duration": 2,
    "start_time": "2021-12-02T21:08:03.451Z"
   },
   {
    "duration": 1256,
    "start_time": "2021-12-02T21:08:03.456Z"
   },
   {
    "duration": 2560,
    "start_time": "2021-12-02T21:08:09.400Z"
   },
   {
    "duration": 1257,
    "start_time": "2021-12-02T21:08:11.961Z"
   },
   {
    "duration": 35,
    "start_time": "2021-12-02T21:08:13.220Z"
   },
   {
    "duration": 6,
    "start_time": "2021-12-02T21:08:13.257Z"
   },
   {
    "duration": 3,
    "start_time": "2021-12-02T21:08:13.264Z"
   },
   {
    "duration": 18,
    "start_time": "2021-12-02T21:08:13.269Z"
   },
   {
    "duration": 12,
    "start_time": "2021-12-02T21:08:13.289Z"
   },
   {
    "duration": 2,
    "start_time": "2021-12-02T21:08:13.302Z"
   },
   {
    "duration": 1185,
    "start_time": "2021-12-02T21:08:13.306Z"
   },
   {
    "duration": 6,
    "start_time": "2021-12-02T21:08:14.493Z"
   },
   {
    "duration": 6,
    "start_time": "2021-12-02T21:08:14.500Z"
   },
   {
    "duration": 15,
    "start_time": "2021-12-02T21:08:14.507Z"
   },
   {
    "duration": 2834,
    "start_time": "2021-12-02T21:10:21.851Z"
   },
   {
    "duration": 1039,
    "start_time": "2021-12-02T21:10:24.687Z"
   },
   {
    "duration": 22,
    "start_time": "2021-12-02T21:10:25.728Z"
   },
   {
    "duration": 5,
    "start_time": "2021-12-02T21:10:25.751Z"
   },
   {
    "duration": 3,
    "start_time": "2021-12-02T21:10:25.757Z"
   },
   {
    "duration": 6,
    "start_time": "2021-12-02T21:10:25.761Z"
   },
   {
    "duration": 10,
    "start_time": "2021-12-02T21:10:25.768Z"
   },
   {
    "duration": 8,
    "start_time": "2021-12-02T21:10:25.780Z"
   },
   {
    "duration": 1206,
    "start_time": "2021-12-02T21:10:25.790Z"
   },
   {
    "duration": 6,
    "start_time": "2021-12-02T21:10:26.997Z"
   },
   {
    "duration": 4,
    "start_time": "2021-12-02T21:10:27.005Z"
   },
   {
    "duration": 12,
    "start_time": "2021-12-02T21:10:27.011Z"
   },
   {
    "duration": 14,
    "start_time": "2021-12-02T21:11:01.204Z"
   },
   {
    "duration": 22,
    "start_time": "2021-12-02T21:12:19.497Z"
   },
   {
    "duration": 2927,
    "start_time": "2021-12-02T21:12:48.087Z"
   },
   {
    "duration": 1303,
    "start_time": "2021-12-02T21:12:51.017Z"
   },
   {
    "duration": 24,
    "start_time": "2021-12-02T21:12:52.323Z"
   },
   {
    "duration": 6,
    "start_time": "2021-12-02T21:12:52.349Z"
   },
   {
    "duration": 3,
    "start_time": "2021-12-02T21:12:52.356Z"
   },
   {
    "duration": 4,
    "start_time": "2021-12-02T21:12:52.361Z"
   },
   {
    "duration": 26,
    "start_time": "2021-12-02T21:12:52.367Z"
   },
   {
    "duration": 3,
    "start_time": "2021-12-02T21:12:52.396Z"
   },
   {
    "duration": 1304,
    "start_time": "2021-12-02T21:12:52.400Z"
   },
   {
    "duration": 6,
    "start_time": "2021-12-02T21:12:53.705Z"
   },
   {
    "duration": 6,
    "start_time": "2021-12-02T21:12:53.713Z"
   },
   {
    "duration": 16,
    "start_time": "2021-12-02T21:12:53.720Z"
   },
   {
    "duration": 8,
    "start_time": "2021-12-02T21:14:23.037Z"
   },
   {
    "duration": 8,
    "start_time": "2021-12-02T21:14:25.865Z"
   },
   {
    "duration": 8,
    "start_time": "2021-12-02T21:14:52.974Z"
   },
   {
    "duration": 6,
    "start_time": "2021-12-02T21:14:57.769Z"
   },
   {
    "duration": 5,
    "start_time": "2021-12-02T21:15:50.025Z"
   },
   {
    "duration": 343,
    "start_time": "2021-12-02T21:16:48.335Z"
   },
   {
    "duration": 23,
    "start_time": "2021-12-02T21:17:05.628Z"
   },
   {
    "duration": 16,
    "start_time": "2021-12-02T21:17:59.923Z"
   },
   {
    "duration": 234,
    "start_time": "2021-12-02T21:21:20.272Z"
   },
   {
    "duration": 12,
    "start_time": "2021-12-02T21:21:29.190Z"
   },
   {
    "duration": 15,
    "start_time": "2021-12-02T21:21:37.963Z"
   },
   {
    "duration": 4,
    "start_time": "2021-12-02T21:22:02.405Z"
   },
   {
    "duration": 7,
    "start_time": "2021-12-02T21:22:56.546Z"
   },
   {
    "duration": 6,
    "start_time": "2021-12-02T21:24:17.505Z"
   },
   {
    "duration": 9,
    "start_time": "2021-12-02T21:24:32.899Z"
   },
   {
    "duration": 6,
    "start_time": "2021-12-02T21:25:16.604Z"
   },
   {
    "duration": 5,
    "start_time": "2021-12-02T21:33:35.008Z"
   },
   {
    "duration": 14,
    "start_time": "2021-12-02T21:34:04.809Z"
   },
   {
    "duration": 231,
    "start_time": "2021-12-02T21:35:38.086Z"
   },
   {
    "duration": 13,
    "start_time": "2021-12-02T21:35:59.702Z"
   },
   {
    "duration": 7,
    "start_time": "2021-12-02T21:36:12.437Z"
   },
   {
    "duration": 9,
    "start_time": "2021-12-02T21:36:47.944Z"
   },
   {
    "duration": 2362,
    "start_time": "2021-12-03T08:47:13.450Z"
   },
   {
    "duration": 1004,
    "start_time": "2021-12-03T08:47:15.814Z"
   },
   {
    "duration": 21,
    "start_time": "2021-12-03T08:47:16.820Z"
   },
   {
    "duration": 9,
    "start_time": "2021-12-03T08:47:16.843Z"
   },
   {
    "duration": 10,
    "start_time": "2021-12-03T08:47:16.853Z"
   },
   {
    "duration": 17,
    "start_time": "2021-12-03T08:47:16.864Z"
   },
   {
    "duration": 14,
    "start_time": "2021-12-03T08:47:16.882Z"
   },
   {
    "duration": 11,
    "start_time": "2021-12-03T08:47:16.898Z"
   },
   {
    "duration": 1084,
    "start_time": "2021-12-03T08:47:16.910Z"
   },
   {
    "duration": 5,
    "start_time": "2021-12-03T08:47:17.996Z"
   },
   {
    "duration": 21,
    "start_time": "2021-12-03T08:47:18.003Z"
   },
   {
    "duration": 13,
    "start_time": "2021-12-03T08:47:18.025Z"
   },
   {
    "duration": 17,
    "start_time": "2021-12-03T08:47:18.039Z"
   },
   {
    "duration": 9,
    "start_time": "2021-12-03T08:47:18.057Z"
   },
   {
    "duration": 11,
    "start_time": "2021-12-03T08:47:18.067Z"
   },
   {
    "duration": 25,
    "start_time": "2021-12-03T08:47:18.079Z"
   },
   {
    "duration": 11,
    "start_time": "2021-12-03T08:47:18.105Z"
   },
   {
    "duration": 20,
    "start_time": "2021-12-03T08:47:18.117Z"
   },
   {
    "duration": 7,
    "start_time": "2021-12-03T08:48:02.651Z"
   },
   {
    "duration": 6576,
    "start_time": "2021-12-03T21:13:47.480Z"
   },
   {
    "duration": 1177,
    "start_time": "2021-12-03T21:13:54.058Z"
   },
   {
    "duration": 26,
    "start_time": "2021-12-03T21:13:55.238Z"
   },
   {
    "duration": 6,
    "start_time": "2021-12-03T21:13:55.266Z"
   },
   {
    "duration": 4,
    "start_time": "2021-12-03T21:13:55.273Z"
   },
   {
    "duration": 5,
    "start_time": "2021-12-03T21:13:55.278Z"
   },
   {
    "duration": 11,
    "start_time": "2021-12-03T21:13:55.284Z"
   },
   {
    "duration": 7,
    "start_time": "2021-12-03T21:13:55.297Z"
   },
   {
    "duration": 1223,
    "start_time": "2021-12-03T21:13:55.307Z"
   },
   {
    "duration": 6,
    "start_time": "2021-12-03T21:13:56.532Z"
   },
   {
    "duration": 31,
    "start_time": "2021-12-03T21:13:56.540Z"
   },
   {
    "duration": 26,
    "start_time": "2021-12-03T21:13:56.573Z"
   },
   {
    "duration": 34,
    "start_time": "2021-12-03T21:13:56.601Z"
   },
   {
    "duration": 35,
    "start_time": "2021-12-03T21:13:56.637Z"
   },
   {
    "duration": 26,
    "start_time": "2021-12-03T21:13:56.674Z"
   },
   {
    "duration": 26,
    "start_time": "2021-12-03T21:13:56.702Z"
   },
   {
    "duration": 23,
    "start_time": "2021-12-03T21:13:56.730Z"
   },
   {
    "duration": 15,
    "start_time": "2021-12-03T21:13:56.756Z"
   },
   {
    "duration": 33,
    "start_time": "2021-12-03T21:13:56.774Z"
   },
   {
    "duration": 394,
    "start_time": "2021-12-03T21:14:28.079Z"
   },
   {
    "duration": 174,
    "start_time": "2021-12-03T21:16:37.581Z"
   },
   {
    "duration": 198,
    "start_time": "2021-12-03T21:16:54.170Z"
   },
   {
    "duration": 180,
    "start_time": "2021-12-03T21:18:33.535Z"
   },
   {
    "duration": 170,
    "start_time": "2021-12-03T21:18:40.509Z"
   },
   {
    "duration": 205,
    "start_time": "2021-12-03T21:18:48.010Z"
   },
   {
    "duration": 255,
    "start_time": "2021-12-03T21:18:55.851Z"
   },
   {
    "duration": 14,
    "start_time": "2021-12-03T21:23:24.144Z"
   },
   {
    "duration": 277,
    "start_time": "2021-12-03T21:32:34.510Z"
   },
   {
    "duration": 2596,
    "start_time": "2021-12-03T21:32:57.852Z"
   },
   {
    "duration": 1203,
    "start_time": "2021-12-03T21:33:00.451Z"
   },
   {
    "duration": 25,
    "start_time": "2021-12-03T21:33:01.657Z"
   },
   {
    "duration": 52,
    "start_time": "2021-12-03T21:33:01.684Z"
   },
   {
    "duration": 7,
    "start_time": "2021-12-03T21:33:01.738Z"
   },
   {
    "duration": 30,
    "start_time": "2021-12-03T21:33:01.747Z"
   },
   {
    "duration": 160,
    "start_time": "2021-12-03T21:33:01.779Z"
   },
   {
    "duration": 16,
    "start_time": "2021-12-03T21:33:01.942Z"
   },
   {
    "duration": 1459,
    "start_time": "2021-12-03T21:33:01.960Z"
   },
   {
    "duration": 10,
    "start_time": "2021-12-03T21:33:03.421Z"
   },
   {
    "duration": 27,
    "start_time": "2021-12-03T21:33:03.433Z"
   },
   {
    "duration": 37,
    "start_time": "2021-12-03T21:33:03.462Z"
   },
   {
    "duration": 15,
    "start_time": "2021-12-03T21:33:03.501Z"
   },
   {
    "duration": 4,
    "start_time": "2021-12-03T21:33:03.517Z"
   },
   {
    "duration": 15,
    "start_time": "2021-12-03T21:33:03.522Z"
   },
   {
    "duration": 15,
    "start_time": "2021-12-03T21:33:03.538Z"
   },
   {
    "duration": 6,
    "start_time": "2021-12-03T21:33:03.555Z"
   },
   {
    "duration": 20,
    "start_time": "2021-12-03T21:33:03.563Z"
   },
   {
    "duration": 217,
    "start_time": "2021-12-03T21:33:03.586Z"
   },
   {
    "duration": 341,
    "start_time": "2021-12-03T21:33:03.805Z"
   },
   {
    "duration": 13,
    "start_time": "2021-12-03T21:33:28.542Z"
   },
   {
    "duration": 18,
    "start_time": "2021-12-03T21:34:00.083Z"
   },
   {
    "duration": 37,
    "start_time": "2021-12-03T21:40:56.820Z"
   },
   {
    "duration": 74,
    "start_time": "2021-12-03T21:42:18.676Z"
   },
   {
    "duration": 26,
    "start_time": "2021-12-03T21:42:31.720Z"
   },
   {
    "duration": 87,
    "start_time": "2021-12-03T21:44:34.683Z"
   },
   {
    "duration": 172,
    "start_time": "2021-12-03T21:45:10.861Z"
   },
   {
    "duration": 290,
    "start_time": "2021-12-03T21:45:53.745Z"
   },
   {
    "duration": 4,
    "start_time": "2021-12-03T21:45:59.360Z"
   },
   {
    "duration": 4,
    "start_time": "2021-12-03T21:46:09.502Z"
   },
   {
    "duration": 4,
    "start_time": "2021-12-03T21:46:21.353Z"
   },
   {
    "duration": 45,
    "start_time": "2021-12-03T21:52:07.628Z"
   },
   {
    "duration": 7,
    "start_time": "2021-12-03T21:53:42.744Z"
   },
   {
    "duration": 4,
    "start_time": "2021-12-03T21:53:54.767Z"
   },
   {
    "duration": 4,
    "start_time": "2021-12-03T21:55:10.218Z"
   },
   {
    "duration": 2760,
    "start_time": "2021-12-03T21:55:19.835Z"
   },
   {
    "duration": 1128,
    "start_time": "2021-12-03T21:55:22.598Z"
   },
   {
    "duration": 26,
    "start_time": "2021-12-03T21:55:23.729Z"
   },
   {
    "duration": 6,
    "start_time": "2021-12-03T21:55:23.757Z"
   },
   {
    "duration": 6,
    "start_time": "2021-12-03T21:55:23.765Z"
   },
   {
    "duration": 5,
    "start_time": "2021-12-03T21:55:23.773Z"
   },
   {
    "duration": 15,
    "start_time": "2021-12-03T21:55:23.780Z"
   },
   {
    "duration": 4,
    "start_time": "2021-12-03T21:55:23.797Z"
   },
   {
    "duration": 1324,
    "start_time": "2021-12-03T21:55:23.805Z"
   },
   {
    "duration": 6,
    "start_time": "2021-12-03T21:55:25.131Z"
   },
   {
    "duration": 7,
    "start_time": "2021-12-03T21:55:25.139Z"
   },
   {
    "duration": 30,
    "start_time": "2021-12-03T21:55:25.147Z"
   },
   {
    "duration": 16,
    "start_time": "2021-12-03T21:55:25.178Z"
   },
   {
    "duration": 4,
    "start_time": "2021-12-03T21:55:25.196Z"
   },
   {
    "duration": 9,
    "start_time": "2021-12-03T21:55:25.201Z"
   },
   {
    "duration": 12,
    "start_time": "2021-12-03T21:55:25.211Z"
   },
   {
    "duration": 7,
    "start_time": "2021-12-03T21:55:25.264Z"
   },
   {
    "duration": 14,
    "start_time": "2021-12-03T21:55:25.272Z"
   },
   {
    "duration": 218,
    "start_time": "2021-12-03T21:55:25.288Z"
   },
   {
    "duration": 16,
    "start_time": "2021-12-03T21:55:25.508Z"
   },
   {
    "duration": 77,
    "start_time": "2021-12-03T21:55:25.525Z"
   },
   {
    "duration": 173,
    "start_time": "2021-12-03T21:55:25.605Z"
   },
   {
    "duration": 4,
    "start_time": "2021-12-03T21:55:25.780Z"
   },
   {
    "duration": 64,
    "start_time": "2021-12-03T21:55:25.786Z"
   },
   {
    "duration": 3,
    "start_time": "2021-12-03T21:55:25.852Z"
   },
   {
    "duration": 10,
    "start_time": "2021-12-03T21:55:25.863Z"
   },
   {
    "duration": 401,
    "start_time": "2021-12-03T21:56:32.333Z"
   },
   {
    "duration": 271,
    "start_time": "2021-12-03T21:56:37.542Z"
   },
   {
    "duration": 27,
    "start_time": "2021-12-03T21:56:51.411Z"
   },
   {
    "duration": 3,
    "start_time": "2021-12-03T21:57:23.539Z"
   },
   {
    "duration": 305,
    "start_time": "2021-12-03T21:58:06.388Z"
   },
   {
    "duration": 191,
    "start_time": "2021-12-03T21:58:36.074Z"
   },
   {
    "duration": 5,
    "start_time": "2021-12-03T21:58:39.982Z"
   },
   {
    "duration": 484,
    "start_time": "2021-12-03T22:01:15.641Z"
   },
   {
    "duration": 278,
    "start_time": "2021-12-03T22:01:20.008Z"
   },
   {
    "duration": 10405,
    "start_time": "2021-12-06T13:31:43.014Z"
   },
   {
    "duration": 1560,
    "start_time": "2021-12-06T13:31:53.423Z"
   },
   {
    "duration": 42,
    "start_time": "2021-12-06T13:31:54.987Z"
   },
   {
    "duration": 10,
    "start_time": "2021-12-06T13:31:55.032Z"
   },
   {
    "duration": 3,
    "start_time": "2021-12-06T13:31:55.045Z"
   },
   {
    "duration": 6,
    "start_time": "2021-12-06T13:31:55.051Z"
   },
   {
    "duration": 59,
    "start_time": "2021-12-06T13:31:55.060Z"
   },
   {
    "duration": 4,
    "start_time": "2021-12-06T13:31:55.122Z"
   },
   {
    "duration": 1623,
    "start_time": "2021-12-06T13:31:55.130Z"
   },
   {
    "duration": 9,
    "start_time": "2021-12-06T13:31:56.756Z"
   },
   {
    "duration": 32,
    "start_time": "2021-12-06T13:31:56.768Z"
   },
   {
    "duration": 39,
    "start_time": "2021-12-06T13:31:56.803Z"
   },
   {
    "duration": 25,
    "start_time": "2021-12-06T13:31:56.845Z"
   },
   {
    "duration": 8,
    "start_time": "2021-12-06T13:31:56.873Z"
   },
   {
    "duration": 38,
    "start_time": "2021-12-06T13:31:56.884Z"
   },
   {
    "duration": 19,
    "start_time": "2021-12-06T13:31:56.924Z"
   },
   {
    "duration": 12,
    "start_time": "2021-12-06T13:31:56.946Z"
   },
   {
    "duration": 62,
    "start_time": "2021-12-06T13:31:56.961Z"
   },
   {
    "duration": 305,
    "start_time": "2021-12-06T13:31:57.026Z"
   },
   {
    "duration": 28,
    "start_time": "2021-12-06T13:31:57.333Z"
   },
   {
    "duration": 91,
    "start_time": "2021-12-06T13:31:57.364Z"
   },
   {
    "duration": 225,
    "start_time": "2021-12-06T13:31:57.457Z"
   },
   {
    "duration": 5,
    "start_time": "2021-12-06T13:31:57.684Z"
   },
   {
    "duration": 76,
    "start_time": "2021-12-06T13:31:57.692Z"
   },
   {
    "duration": 6,
    "start_time": "2021-12-06T13:31:57.770Z"
   },
   {
    "duration": 9,
    "start_time": "2021-12-06T13:31:57.778Z"
   },
   {
    "duration": 389,
    "start_time": "2021-12-06T13:31:57.819Z"
   },
   {
    "duration": 453,
    "start_time": "2021-12-06T13:31:58.218Z"
   },
   {
    "duration": 16,
    "start_time": "2021-12-06T13:31:58.674Z"
   },
   {
    "duration": 484,
    "start_time": "2021-12-06T13:34:23.241Z"
   },
   {
    "duration": 35,
    "start_time": "2021-12-06T13:34:42.370Z"
   },
   {
    "duration": 5,
    "start_time": "2021-12-06T13:35:26.403Z"
   },
   {
    "duration": 108309,
    "start_time": "2021-12-06T13:37:19.110Z"
   },
   {
    "duration": 56,
    "start_time": "2021-12-06T13:39:45.068Z"
   },
   {
    "duration": 11,
    "start_time": "2021-12-06T13:40:14.719Z"
   },
   {
    "duration": 70,
    "start_time": "2021-12-06T13:40:36.123Z"
   },
   {
    "duration": 444,
    "start_time": "2021-12-06T13:40:58.714Z"
   },
   {
    "duration": 287,
    "start_time": "2021-12-06T13:41:31.797Z"
   },
   {
    "duration": 16,
    "start_time": "2021-12-06T13:42:01.827Z"
   },
   {
    "duration": 457,
    "start_time": "2021-12-06T13:42:02.997Z"
   },
   {
    "duration": 9,
    "start_time": "2021-12-06T13:42:15.967Z"
   },
   {
    "duration": 338,
    "start_time": "2021-12-06T13:42:27.322Z"
   },
   {
    "duration": 6,
    "start_time": "2021-12-06T13:42:58.967Z"
   },
   {
    "duration": 32,
    "start_time": "2021-12-06T13:44:32.564Z"
   },
   {
    "duration": 470,
    "start_time": "2021-12-06T13:45:16.657Z"
   },
   {
    "duration": 3,
    "start_time": "2021-12-06T13:45:22.377Z"
   },
   {
    "duration": 4,
    "start_time": "2021-12-06T13:45:41.789Z"
   },
   {
    "duration": 7214,
    "start_time": "2021-12-06T13:45:43.105Z"
   },
   {
    "duration": 20,
    "start_time": "2021-12-06T13:45:58.538Z"
   },
   {
    "duration": 5,
    "start_time": "2021-12-06T13:45:59.641Z"
   },
   {
    "duration": 322,
    "start_time": "2021-12-06T13:46:05.358Z"
   },
   {
    "duration": 348,
    "start_time": "2021-12-06T13:46:30.274Z"
   },
   {
    "duration": 10,
    "start_time": "2021-12-06T13:46:50.824Z"
   },
   {
    "duration": 7,
    "start_time": "2021-12-06T13:47:57.714Z"
   },
   {
    "duration": 332,
    "start_time": "2021-12-06T13:48:10.760Z"
   },
   {
    "duration": 369,
    "start_time": "2021-12-06T13:48:19.072Z"
   },
   {
    "duration": 321,
    "start_time": "2021-12-06T13:49:53.846Z"
   },
   {
    "duration": 315,
    "start_time": "2021-12-06T13:50:01.835Z"
   },
   {
    "duration": 313,
    "start_time": "2021-12-06T13:50:07.902Z"
   },
   {
    "duration": 427,
    "start_time": "2021-12-06T13:50:16.711Z"
   },
   {
    "duration": 456,
    "start_time": "2021-12-06T13:54:38.030Z"
   },
   {
    "duration": 32,
    "start_time": "2021-12-06T13:55:43.893Z"
   },
   {
    "duration": 12,
    "start_time": "2021-12-06T13:56:31.078Z"
   },
   {
    "duration": 41,
    "start_time": "2021-12-06T13:59:23.141Z"
   },
   {
    "duration": 32,
    "start_time": "2021-12-06T14:07:13.927Z"
   },
   {
    "duration": 117,
    "start_time": "2021-12-06T14:14:24.536Z"
   },
   {
    "duration": 8,
    "start_time": "2021-12-06T14:14:41.679Z"
   },
   {
    "duration": 3,
    "start_time": "2021-12-06T14:18:35.719Z"
   },
   {
    "duration": 6871,
    "start_time": "2021-12-06T14:18:37.448Z"
   },
   {
    "duration": 5,
    "start_time": "2021-12-06T14:19:16.293Z"
   },
   {
    "duration": 4,
    "start_time": "2021-12-06T14:21:00.933Z"
   },
   {
    "duration": 313,
    "start_time": "2021-12-06T14:21:29.426Z"
   },
   {
    "duration": 5,
    "start_time": "2021-12-06T14:21:41.894Z"
   },
   {
    "duration": 39442,
    "start_time": "2021-12-06T14:21:43.487Z"
   },
   {
    "duration": 455,
    "start_time": "2021-12-06T14:22:37.402Z"
   },
   {
    "duration": 321,
    "start_time": "2021-12-06T14:23:43.977Z"
   },
   {
    "duration": 4,
    "start_time": "2021-12-06T14:23:50.983Z"
   },
   {
    "duration": 30990,
    "start_time": "2021-12-06T14:23:52.635Z"
   },
   {
    "duration": 103,
    "start_time": "2021-12-06T14:24:37.625Z"
   },
   {
    "duration": 4,
    "start_time": "2021-12-06T14:24:46.874Z"
   },
   {
    "duration": 4,
    "start_time": "2021-12-06T14:24:55.157Z"
   },
   {
    "duration": 623476,
    "start_time": "2021-12-06T14:25:17.506Z"
   },
   {
    "duration": -80,
    "start_time": "2021-12-06T14:35:41.064Z"
   },
   {
    "duration": 734,
    "start_time": "2021-12-06T14:35:45.996Z"
   },
   {
    "duration": 4,
    "start_time": "2021-12-06T14:35:55.289Z"
   },
   {
    "duration": 292,
    "start_time": "2021-12-06T14:35:57.712Z"
   },
   {
    "duration": 4,
    "start_time": "2021-12-06T14:36:25.237Z"
   },
   {
    "duration": 4,
    "start_time": "2021-12-06T14:36:26.715Z"
   },
   {
    "duration": 14893045,
    "start_time": "2021-12-06T14:36:47.491Z"
   },
   {
    "duration": 6,
    "start_time": "2021-12-06T19:55:35.563Z"
   },
   {
    "duration": 5,
    "start_time": "2021-12-06T19:56:38.253Z"
   },
   {
    "duration": 5,
    "start_time": "2021-12-06T19:57:02.570Z"
   },
   {
    "duration": 4,
    "start_time": "2021-12-06T19:57:32.668Z"
   },
   {
    "duration": 53,
    "start_time": "2021-12-06T19:58:05.827Z"
   },
   {
    "duration": 667,
    "start_time": "2021-12-06T19:59:35.241Z"
   },
   {
    "duration": 4,
    "start_time": "2021-12-06T20:01:10.927Z"
   },
   {
    "duration": 6,
    "start_time": "2021-12-06T20:01:15.630Z"
   },
   {
    "duration": 83,
    "start_time": "2021-12-06T20:03:21.926Z"
   },
   {
    "duration": 12,
    "start_time": "2021-12-06T20:03:46.273Z"
   },
   {
    "duration": 49,
    "start_time": "2021-12-06T20:09:11.930Z"
   },
   {
    "duration": 118,
    "start_time": "2021-12-06T20:10:29.940Z"
   },
   {
    "duration": 301,
    "start_time": "2021-12-06T20:13:02.410Z"
   },
   {
    "duration": 381,
    "start_time": "2021-12-06T20:13:23.404Z"
   },
   {
    "duration": 8,
    "start_time": "2021-12-06T20:14:43.981Z"
   },
   {
    "duration": 154,
    "start_time": "2021-12-06T20:18:31.632Z"
   },
   {
    "duration": 105,
    "start_time": "2021-12-06T20:19:04.797Z"
   },
   {
    "duration": 96,
    "start_time": "2021-12-06T20:19:18.589Z"
   },
   {
    "duration": 4,
    "start_time": "2021-12-06T20:19:37.267Z"
   },
   {
    "duration": 302,
    "start_time": "2021-12-06T20:20:24.647Z"
   },
   {
    "duration": 315,
    "start_time": "2021-12-06T20:21:09.603Z"
   },
   {
    "duration": 4,
    "start_time": "2021-12-06T20:21:39.661Z"
   },
   {
    "duration": 4,
    "start_time": "2021-12-06T20:21:41.006Z"
   },
   {
    "duration": 336,
    "start_time": "2021-12-06T20:22:37.831Z"
   },
   {
    "duration": 325,
    "start_time": "2021-12-06T20:22:59.826Z"
   },
   {
    "duration": 4,
    "start_time": "2021-12-06T20:23:53.088Z"
   },
   {
    "duration": 4,
    "start_time": "2021-12-06T20:24:03.944Z"
   },
   {
    "duration": 4,
    "start_time": "2021-12-06T20:24:04.006Z"
   },
   {
    "duration": 5,
    "start_time": "2021-12-06T20:24:07.138Z"
   },
   {
    "duration": 169804,
    "start_time": "2021-12-06T20:24:08.967Z"
   },
   {
    "duration": 460593,
    "start_time": "2021-12-06T20:28:13.164Z"
   },
   {
    "duration": 5,
    "start_time": "2021-12-06T20:44:23.450Z"
   },
   {
    "duration": 5,
    "start_time": "2021-12-06T20:44:37.075Z"
   },
   {
    "duration": 4,
    "start_time": "2021-12-06T20:46:35.183Z"
   },
   {
    "duration": 4,
    "start_time": "2021-12-06T20:46:42.614Z"
   },
   {
    "duration": 118087,
    "start_time": "2021-12-06T20:46:44.700Z"
   },
   {
    "duration": 6,
    "start_time": "2021-12-06T20:48:53.055Z"
   },
   {
    "duration": 3744,
    "start_time": "2021-12-06T20:49:45.392Z"
   },
   {
    "duration": 1976,
    "start_time": "2021-12-06T20:49:49.140Z"
   },
   {
    "duration": 60,
    "start_time": "2021-12-06T20:49:51.120Z"
   },
   {
    "duration": 33,
    "start_time": "2021-12-06T20:49:51.184Z"
   },
   {
    "duration": 6,
    "start_time": "2021-12-06T20:49:51.221Z"
   },
   {
    "duration": 6,
    "start_time": "2021-12-06T20:49:51.231Z"
   },
   {
    "duration": 22,
    "start_time": "2021-12-06T20:49:51.240Z"
   },
   {
    "duration": 4,
    "start_time": "2021-12-06T20:49:51.266Z"
   },
   {
    "duration": 1946,
    "start_time": "2021-12-06T20:49:51.277Z"
   },
   {
    "duration": 12,
    "start_time": "2021-12-06T20:49:53.228Z"
   },
   {
    "duration": 12,
    "start_time": "2021-12-06T20:49:53.244Z"
   },
   {
    "duration": 59,
    "start_time": "2021-12-06T20:49:53.259Z"
   },
   {
    "duration": 24,
    "start_time": "2021-12-06T20:49:53.321Z"
   },
   {
    "duration": 6,
    "start_time": "2021-12-06T20:49:53.347Z"
   },
   {
    "duration": 10,
    "start_time": "2021-12-06T20:49:53.356Z"
   },
   {
    "duration": 51,
    "start_time": "2021-12-06T20:49:53.369Z"
   },
   {
    "duration": 10,
    "start_time": "2021-12-06T20:49:53.423Z"
   },
   {
    "duration": 30,
    "start_time": "2021-12-06T20:49:53.436Z"
   },
   {
    "duration": 416,
    "start_time": "2021-12-06T20:49:53.469Z"
   },
   {
    "duration": 53,
    "start_time": "2021-12-06T20:49:53.888Z"
   },
   {
    "duration": 80,
    "start_time": "2021-12-06T20:49:53.945Z"
   },
   {
    "duration": 245,
    "start_time": "2021-12-06T20:49:54.028Z"
   },
   {
    "duration": 7,
    "start_time": "2021-12-06T20:49:54.275Z"
   },
   {
    "duration": 81,
    "start_time": "2021-12-06T20:49:54.285Z"
   },
   {
    "duration": 5,
    "start_time": "2021-12-06T20:49:54.368Z"
   },
   {
    "duration": 5,
    "start_time": "2021-12-06T20:49:54.376Z"
   },
   {
    "duration": 397,
    "start_time": "2021-12-06T20:49:54.386Z"
   },
   {
    "duration": 488,
    "start_time": "2021-12-06T20:49:54.787Z"
   },
   {
    "duration": 20,
    "start_time": "2021-12-06T20:49:55.278Z"
   },
   {
    "duration": 16,
    "start_time": "2021-12-06T20:49:55.301Z"
   },
   {
    "duration": 7902,
    "start_time": "2021-12-06T20:49:55.321Z"
   },
   {
    "duration": 192,
    "start_time": "2021-12-06T20:50:03.226Z"
   },
   {
    "duration": 97,
    "start_time": "2021-12-06T20:50:03.421Z"
   },
   {
    "duration": 4,
    "start_time": "2021-12-06T20:50:03.521Z"
   },
   {
    "duration": 7,
    "start_time": "2021-12-06T20:50:03.527Z"
   },
   {
    "duration": 105351,
    "start_time": "2021-12-06T20:50:03.536Z"
   },
   {
    "duration": -43,
    "start_time": "2021-12-06T20:51:48.933Z"
   },
   {
    "duration": -45,
    "start_time": "2021-12-06T20:51:48.936Z"
   },
   {
    "duration": -47,
    "start_time": "2021-12-06T20:51:48.939Z"
   },
   {
    "duration": -48,
    "start_time": "2021-12-06T20:51:48.942Z"
   },
   {
    "duration": -50,
    "start_time": "2021-12-06T20:51:48.945Z"
   },
   {
    "duration": -50,
    "start_time": "2021-12-06T20:51:48.947Z"
   },
   {
    "duration": -51,
    "start_time": "2021-12-06T20:51:48.949Z"
   },
   {
    "duration": -54,
    "start_time": "2021-12-06T20:51:48.953Z"
   },
   {
    "duration": -55,
    "start_time": "2021-12-06T20:51:48.956Z"
   },
   {
    "duration": -56,
    "start_time": "2021-12-06T20:51:48.958Z"
   },
   {
    "duration": -58,
    "start_time": "2021-12-06T20:51:48.961Z"
   },
   {
    "duration": -59,
    "start_time": "2021-12-06T20:51:48.963Z"
   },
   {
    "duration": -60,
    "start_time": "2021-12-06T20:51:48.966Z"
   },
   {
    "duration": 3794,
    "start_time": "2021-12-06T20:53:34.685Z"
   },
   {
    "duration": 2012,
    "start_time": "2021-12-06T20:53:38.483Z"
   },
   {
    "duration": 59,
    "start_time": "2021-12-06T20:53:40.500Z"
   },
   {
    "duration": 11,
    "start_time": "2021-12-06T20:53:40.563Z"
   },
   {
    "duration": 6,
    "start_time": "2021-12-06T20:53:40.577Z"
   },
   {
    "duration": 8,
    "start_time": "2021-12-06T20:53:40.586Z"
   },
   {
    "duration": 16,
    "start_time": "2021-12-06T20:53:40.618Z"
   },
   {
    "duration": 4,
    "start_time": "2021-12-06T20:53:40.637Z"
   },
   {
    "duration": 1563,
    "start_time": "2021-12-06T20:53:40.644Z"
   },
   {
    "duration": 8,
    "start_time": "2021-12-06T20:53:42.209Z"
   },
   {
    "duration": 9,
    "start_time": "2021-12-06T20:53:42.219Z"
   },
   {
    "duration": 24,
    "start_time": "2021-12-06T20:53:42.230Z"
   },
   {
    "duration": 22,
    "start_time": "2021-12-06T20:53:42.256Z"
   },
   {
    "duration": 39,
    "start_time": "2021-12-06T20:53:42.281Z"
   },
   {
    "duration": 9,
    "start_time": "2021-12-06T20:53:42.323Z"
   },
   {
    "duration": 14,
    "start_time": "2021-12-06T20:53:42.334Z"
   },
   {
    "duration": 8,
    "start_time": "2021-12-06T20:53:42.351Z"
   },
   {
    "duration": 61,
    "start_time": "2021-12-06T20:53:42.361Z"
   },
   {
    "duration": 318,
    "start_time": "2021-12-06T20:53:42.425Z"
   },
   {
    "duration": 29,
    "start_time": "2021-12-06T20:53:42.745Z"
   },
   {
    "duration": 91,
    "start_time": "2021-12-06T20:53:42.777Z"
   },
   {
    "duration": 231,
    "start_time": "2021-12-06T20:53:42.871Z"
   },
   {
    "duration": 5,
    "start_time": "2021-12-06T20:53:43.118Z"
   },
   {
    "duration": 62,
    "start_time": "2021-12-06T20:53:43.127Z"
   },
   {
    "duration": 27,
    "start_time": "2021-12-06T20:53:43.192Z"
   },
   {
    "duration": 5,
    "start_time": "2021-12-06T20:53:43.223Z"
   },
   {
    "duration": 508,
    "start_time": "2021-12-06T20:53:43.231Z"
   },
   {
    "duration": 975,
    "start_time": "2021-12-06T20:53:43.742Z"
   },
   {
    "duration": 17,
    "start_time": "2021-12-06T20:53:44.720Z"
   },
   {
    "duration": 4,
    "start_time": "2021-12-06T20:53:44.740Z"
   },
   {
    "duration": 5872,
    "start_time": "2021-12-06T20:53:44.747Z"
   },
   {
    "duration": 99,
    "start_time": "2021-12-06T20:53:50.623Z"
   },
   {
    "duration": 100,
    "start_time": "2021-12-06T20:53:50.819Z"
   },
   {
    "duration": 5,
    "start_time": "2021-12-06T20:53:50.922Z"
   },
   {
    "duration": 7,
    "start_time": "2021-12-06T20:53:50.929Z"
   },
   {
    "duration": 7,
    "start_time": "2021-12-06T20:53:50.938Z"
   },
   {
    "duration": 7,
    "start_time": "2021-12-06T20:53:50.947Z"
   },
   {
    "duration": 5,
    "start_time": "2021-12-06T20:53:50.956Z"
   },
   {
    "duration": 6,
    "start_time": "2021-12-06T20:53:50.963Z"
   },
   {
    "duration": 1569734,
    "start_time": "2021-12-06T20:53:50.971Z"
   },
   {
    "duration": 11,
    "start_time": "2021-12-06T21:20:00.707Z"
   },
   {
    "duration": 5,
    "start_time": "2021-12-06T21:25:38.295Z"
   },
   {
    "duration": 6,
    "start_time": "2021-12-06T21:25:49.823Z"
   },
   {
    "duration": 106,
    "start_time": "2021-12-07T20:19:09.852Z"
   },
   {
    "duration": 4,
    "start_time": "2021-12-07T20:20:06.163Z"
   },
   {
    "duration": 382,
    "start_time": "2021-12-07T20:21:02.504Z"
   },
   {
    "duration": 4,
    "start_time": "2021-12-07T20:21:08.959Z"
   },
   {
    "duration": 7560,
    "start_time": "2021-12-07T20:21:10.713Z"
   },
   {
    "duration": 356,
    "start_time": "2021-12-07T20:21:35.034Z"
   },
   {
    "duration": 20,
    "start_time": "2021-12-07T20:21:54.909Z"
   },
   {
    "duration": 4,
    "start_time": "2021-12-07T20:22:20.898Z"
   },
   {
    "duration": 7800,
    "start_time": "2021-12-07T20:22:28.675Z"
   },
   {
    "duration": 12,
    "start_time": "2021-12-07T20:22:42.306Z"
   },
   {
    "duration": 10,
    "start_time": "2021-12-07T20:22:56.898Z"
   },
   {
    "duration": 5,
    "start_time": "2021-12-07T20:29:34.878Z"
   },
   {
    "duration": 599,
    "start_time": "2021-12-07T20:30:00.584Z"
   },
   {
    "duration": 559,
    "start_time": "2021-12-07T20:30:23.094Z"
   },
   {
    "duration": 14,
    "start_time": "2021-12-07T20:31:36.992Z"
   },
   {
    "duration": 9,
    "start_time": "2021-12-07T20:31:57.499Z"
   },
   {
    "duration": 413,
    "start_time": "2021-12-07T20:42:30.309Z"
   },
   {
    "duration": 4,
    "start_time": "2021-12-07T20:42:48.896Z"
   },
   {
    "duration": 3042729,
    "start_time": "2021-12-07T20:43:28.136Z"
   },
   {
    "duration": 7,
    "start_time": "2021-12-07T21:48:08.644Z"
   },
   {
    "duration": 5,
    "start_time": "2021-12-07T21:48:25.871Z"
   },
   {
    "duration": 5,
    "start_time": "2021-12-07T22:34:36.277Z"
   },
   {
    "duration": 311,
    "start_time": "2021-12-07T22:34:37.581Z"
   },
   {
    "duration": 4,
    "start_time": "2021-12-07T22:35:02.543Z"
   },
   {
    "duration": 4,
    "start_time": "2021-12-07T22:35:04.229Z"
   },
   {
    "duration": 85043,
    "start_time": "2021-12-07T22:35:05.807Z"
   },
   {
    "duration": 4,
    "start_time": "2021-12-07T22:36:48.615Z"
   },
   {
    "duration": 4,
    "start_time": "2021-12-07T22:36:49.984Z"
   },
   {
    "duration": 166521,
    "start_time": "2021-12-07T22:36:51.348Z"
   },
   {
    "duration": -258,
    "start_time": "2021-12-07T22:39:38.131Z"
   },
   {
    "duration": 4,
    "start_time": "2021-12-07T22:39:52.447Z"
   },
   {
    "duration": 5,
    "start_time": "2021-12-07T22:39:53.692Z"
   },
   {
    "duration": 5,
    "start_time": "2021-12-07T22:40:15.520Z"
   },
   {
    "duration": 5,
    "start_time": "2021-12-07T22:40:16.566Z"
   },
   {
    "duration": 127975,
    "start_time": "2021-12-07T22:40:17.299Z"
   },
   {
    "duration": 4,
    "start_time": "2021-12-07T22:43:12.318Z"
   },
   {
    "duration": 5,
    "start_time": "2021-12-07T22:43:13.332Z"
   },
   {
    "duration": 80454,
    "start_time": "2021-12-07T22:43:14.399Z"
   },
   {
    "duration": 4,
    "start_time": "2021-12-07T22:45:39.869Z"
   },
   {
    "duration": 4,
    "start_time": "2021-12-07T22:45:40.902Z"
   },
   {
    "duration": 308,
    "start_time": "2021-12-07T22:45:41.824Z"
   },
   {
    "duration": 4,
    "start_time": "2021-12-07T22:46:14.392Z"
   },
   {
    "duration": 4,
    "start_time": "2021-12-07T22:46:15.227Z"
   },
   {
    "duration": 611274,
    "start_time": "2021-12-07T22:46:15.912Z"
   },
   {
    "duration": 6,
    "start_time": "2021-12-07T22:56:27.190Z"
   },
   {
    "duration": 5,
    "start_time": "2021-12-07T23:16:42.667Z"
   },
   {
    "duration": 6,
    "start_time": "2021-12-07T23:16:53.361Z"
   },
   {
    "duration": 5,
    "start_time": "2021-12-07T23:20:08.207Z"
   },
   {
    "duration": 4,
    "start_time": "2021-12-07T23:21:20.245Z"
   },
   {
    "duration": 502339,
    "start_time": "2021-12-07T23:22:28.153Z"
   },
   {
    "duration": 6,
    "start_time": "2021-12-07T23:30:50.495Z"
   },
   {
    "duration": 6,
    "start_time": "2021-12-07T23:30:50.879Z"
   },
   {
    "duration": 3,
    "start_time": "2021-12-07T23:39:34.972Z"
   },
   {
    "duration": 79,
    "start_time": "2021-12-07T23:40:34.805Z"
   },
   {
    "duration": 39,
    "start_time": "2021-12-07T23:40:42.677Z"
   },
   {
    "duration": 8,
    "start_time": "2021-12-07T23:41:02.197Z"
   },
   {
    "duration": 5,
    "start_time": "2021-12-07T23:42:22.658Z"
   },
   {
    "duration": 4,
    "start_time": "2021-12-07T23:42:22.743Z"
   },
   {
    "duration": 4935,
    "start_time": "2021-12-07T23:42:26.257Z"
   },
   {
    "duration": 5,
    "start_time": "2021-12-07T23:43:40.300Z"
   },
   {
    "duration": 4,
    "start_time": "2021-12-07T23:43:41.697Z"
   },
   {
    "duration": 12496017,
    "start_time": "2021-12-07T23:43:42.531Z"
   },
   {
    "duration": 7,
    "start_time": "2021-12-08T03:11:58.552Z"
   },
   {
    "duration": 5,
    "start_time": "2021-12-08T03:11:58.568Z"
   },
   {
    "duration": 4,
    "start_time": "2021-12-08T03:11:58.576Z"
   },
   {
    "duration": 49,
    "start_time": "2021-12-08T03:11:58.583Z"
   },
   {
    "duration": 8,
    "start_time": "2021-12-08T03:11:58.634Z"
   },
   {
    "duration": 6,
    "start_time": "2021-12-08T07:51:38.461Z"
   },
   {
    "duration": 4,
    "start_time": "2021-12-08T07:52:46.286Z"
   },
   {
    "duration": 7115,
    "start_time": "2021-12-09T15:29:19.956Z"
   },
   {
    "duration": 1289,
    "start_time": "2021-12-09T15:29:35.186Z"
   },
   {
    "duration": 31,
    "start_time": "2021-12-09T15:29:39.165Z"
   },
   {
    "duration": 6,
    "start_time": "2021-12-09T15:29:44.367Z"
   },
   {
    "duration": 3,
    "start_time": "2021-12-09T15:29:45.633Z"
   },
   {
    "duration": 3,
    "start_time": "2021-12-09T15:29:46.482Z"
   },
   {
    "duration": 12,
    "start_time": "2021-12-09T15:29:47.332Z"
   },
   {
    "duration": 3,
    "start_time": "2021-12-09T15:29:50.290Z"
   },
   {
    "duration": 1271,
    "start_time": "2021-12-09T15:29:50.390Z"
   },
   {
    "duration": 6,
    "start_time": "2021-12-09T15:29:51.662Z"
   },
   {
    "duration": 6,
    "start_time": "2021-12-09T15:29:54.625Z"
   },
   {
    "duration": 13,
    "start_time": "2021-12-09T15:29:56.312Z"
   },
   {
    "duration": 14,
    "start_time": "2021-12-09T15:29:57.920Z"
   },
   {
    "duration": 4,
    "start_time": "2021-12-09T15:30:01.289Z"
   },
   {
    "duration": 6,
    "start_time": "2021-12-09T15:30:02.496Z"
   },
   {
    "duration": 7,
    "start_time": "2021-12-09T15:30:06.368Z"
   },
   {
    "duration": 6,
    "start_time": "2021-12-09T15:30:07.437Z"
   },
   {
    "duration": 12,
    "start_time": "2021-12-09T15:30:14.739Z"
   },
   {
    "duration": 190,
    "start_time": "2021-12-09T15:30:16.247Z"
   },
   {
    "duration": 22,
    "start_time": "2021-12-09T15:30:17.468Z"
   },
   {
    "duration": 57,
    "start_time": "2021-12-09T15:30:34.720Z"
   },
   {
    "duration": 153,
    "start_time": "2021-12-09T15:30:50.557Z"
   },
   {
    "duration": 3,
    "start_time": "2021-12-09T15:30:50.711Z"
   },
   {
    "duration": 42,
    "start_time": "2021-12-09T15:30:57.550Z"
   },
   {
    "duration": 3,
    "start_time": "2021-12-09T15:30:58.587Z"
   },
   {
    "duration": 2,
    "start_time": "2021-12-09T15:31:11.272Z"
   },
   {
    "duration": 231,
    "start_time": "2021-12-09T15:31:12.087Z"
   },
   {
    "duration": 246,
    "start_time": "2021-12-09T15:31:16.409Z"
   },
   {
    "duration": 11,
    "start_time": "2021-12-09T15:31:21.248Z"
   },
   {
    "duration": 2,
    "start_time": "2021-12-09T15:31:27.036Z"
   },
   {
    "duration": 5758,
    "start_time": "2021-12-09T15:31:33.831Z"
   },
   {
    "duration": 7,
    "start_time": "2021-12-09T15:31:42.141Z"
   },
   {
    "duration": 6,
    "start_time": "2021-12-09T15:31:44.607Z"
   },
   {
    "duration": 2,
    "start_time": "2021-12-09T15:32:12.927Z"
   },
   {
    "duration": 4,
    "start_time": "2021-12-09T15:33:09.402Z"
   },
   {
    "duration": 3,
    "start_time": "2021-12-09T15:33:29.537Z"
   },
   {
    "duration": 315,
    "start_time": "2021-12-09T15:33:44.911Z"
   },
   {
    "duration": 252,
    "start_time": "2021-12-09T15:33:52.121Z"
   },
   {
    "duration": 3,
    "start_time": "2021-12-09T15:34:11.149Z"
   },
   {
    "duration": 3,
    "start_time": "2021-12-09T15:36:11.907Z"
   },
   {
    "duration": 80,
    "start_time": "2021-12-09T15:37:53.983Z"
   },
   {
    "duration": 3,
    "start_time": "2021-12-09T15:38:32.852Z"
   },
   {
    "duration": 4,
    "start_time": "2021-12-09T15:38:40.202Z"
   },
   {
    "duration": 9238,
    "start_time": "2021-12-09T15:39:25.709Z"
   },
   {
    "duration": 12,
    "start_time": "2021-12-09T15:39:41.719Z"
   },
   {
    "duration": 1594,
    "start_time": "2021-12-09T15:39:54.692Z"
   },
   {
    "duration": 7,
    "start_time": "2021-12-09T15:40:07.949Z"
   },
   {
    "duration": 335,
    "start_time": "2021-12-09T15:40:31.025Z"
   },
   {
    "duration": 6,
    "start_time": "2021-12-09T15:40:35.867Z"
   },
   {
    "duration": 272,
    "start_time": "2021-12-09T16:09:49.582Z"
   },
   {
    "duration": 6,
    "start_time": "2021-12-09T16:10:02.846Z"
   },
   {
    "duration": 8,
    "start_time": "2021-12-09T16:10:13.175Z"
   },
   {
    "duration": 5,
    "start_time": "2021-12-09T16:10:22.040Z"
   },
   {
    "duration": 76,
    "start_time": "2021-12-09T16:11:46.507Z"
   },
   {
    "duration": 378,
    "start_time": "2021-12-09T16:12:11.775Z"
   },
   {
    "duration": 233,
    "start_time": "2021-12-09T16:12:37.419Z"
   },
   {
    "duration": 234,
    "start_time": "2021-12-09T16:13:13.006Z"
   },
   {
    "duration": 3,
    "start_time": "2021-12-09T16:13:15.524Z"
   },
   {
    "duration": 4,
    "start_time": "2021-12-09T16:13:24.694Z"
   },
   {
    "duration": 3,
    "start_time": "2021-12-09T16:13:33.467Z"
   },
   {
    "duration": 1101,
    "start_time": "2021-12-09T16:13:40.729Z"
   },
   {
    "duration": 4,
    "start_time": "2021-12-09T16:13:47.283Z"
   },
   {
    "duration": 3,
    "start_time": "2021-12-09T16:14:10.638Z"
   },
   {
    "duration": 3,
    "start_time": "2021-12-09T16:14:14.313Z"
   },
   {
    "duration": 4,
    "start_time": "2021-12-09T16:14:18.701Z"
   },
   {
    "duration": 714,
    "start_time": "2021-12-09T16:14:33.578Z"
   },
   {
    "duration": 3,
    "start_time": "2021-12-09T16:19:20.504Z"
   },
   {
    "duration": 235,
    "start_time": "2021-12-09T16:23:04.647Z"
   },
   {
    "duration": 101,
    "start_time": "2021-12-09T16:23:25.263Z"
   },
   {
    "duration": 235,
    "start_time": "2021-12-09T16:23:31.331Z"
   },
   {
    "duration": 239,
    "start_time": "2021-12-09T16:23:57.841Z"
   },
   {
    "duration": 75,
    "start_time": "2021-12-09T16:24:06.228Z"
   },
   {
    "duration": 3,
    "start_time": "2021-12-09T16:24:11.474Z"
   },
   {
    "duration": 5,
    "start_time": "2021-12-09T16:25:04.898Z"
   },
   {
    "duration": 3,
    "start_time": "2021-12-09T16:25:08.271Z"
   },
   {
    "duration": 5,
    "start_time": "2021-12-09T16:25:32.417Z"
   },
   {
    "duration": 240,
    "start_time": "2021-12-09T16:27:34.352Z"
   },
   {
    "duration": 230,
    "start_time": "2021-12-09T16:28:14.823Z"
   },
   {
    "duration": 272,
    "start_time": "2021-12-09T16:28:35.665Z"
   },
   {
    "duration": 253,
    "start_time": "2021-12-09T16:29:04.345Z"
   },
   {
    "duration": 237,
    "start_time": "2021-12-09T16:29:22.184Z"
   },
   {
    "duration": 243,
    "start_time": "2021-12-09T16:29:55.221Z"
   },
   {
    "duration": 344,
    "start_time": "2021-12-09T16:30:59.290Z"
   },
   {
    "duration": 231,
    "start_time": "2021-12-09T16:31:16.203Z"
   },
   {
    "duration": 2,
    "start_time": "2021-12-09T16:31:52.204Z"
   },
   {
    "duration": 4,
    "start_time": "2021-12-09T16:31:55.614Z"
   },
   {
    "duration": 254,
    "start_time": "2021-12-09T16:32:23.120Z"
   },
   {
    "duration": 3,
    "start_time": "2021-12-09T16:32:29.492Z"
   },
   {
    "duration": 3,
    "start_time": "2021-12-09T16:32:37.866Z"
   },
   {
    "duration": 222,
    "start_time": "2021-12-09T16:33:22.448Z"
   },
   {
    "duration": 4,
    "start_time": "2021-12-09T16:33:27.935Z"
   },
   {
    "duration": 240,
    "start_time": "2021-12-09T16:33:36.004Z"
   },
   {
    "duration": 3,
    "start_time": "2021-12-09T16:33:40.876Z"
   },
   {
    "duration": 26,
    "start_time": "2021-12-09T16:34:02.292Z"
   },
   {
    "duration": 230,
    "start_time": "2021-12-09T16:35:26.757Z"
   },
   {
    "duration": 164,
    "start_time": "2021-12-09T16:36:32.248Z"
   },
   {
    "duration": 5278,
    "start_time": "2021-12-09T16:37:08.211Z"
   },
   {
    "duration": 659,
    "start_time": "2021-12-09T16:39:00.486Z"
   },
   {
    "duration": 37,
    "start_time": "2021-12-09T16:39:09.070Z"
   },
   {
    "duration": 4,
    "start_time": "2021-12-09T16:39:55.977Z"
   },
   {
    "duration": 4,
    "start_time": "2021-12-09T16:40:38.484Z"
   },
   {
    "duration": 9,
    "start_time": "2021-12-09T16:40:42.357Z"
   },
   {
    "duration": 234,
    "start_time": "2021-12-09T16:43:34.438Z"
   },
   {
    "duration": 232,
    "start_time": "2021-12-09T16:43:42.373Z"
   },
   {
    "duration": 4673,
    "start_time": "2021-12-09T16:43:46.222Z"
   },
   {
    "duration": 5,
    "start_time": "2021-12-09T16:44:01.657Z"
   },
   {
    "duration": 17,
    "start_time": "2021-12-09T16:44:20.968Z"
   },
   {
    "duration": 219,
    "start_time": "2021-12-09T16:44:36.176Z"
   },
   {
    "duration": 11,
    "start_time": "2021-12-09T16:44:41.290Z"
   },
   {
    "duration": 7,
    "start_time": "2021-12-09T16:45:38.044Z"
   },
   {
    "duration": 6,
    "start_time": "2021-12-09T16:45:44.823Z"
   },
   {
    "duration": 4,
    "start_time": "2021-12-09T16:45:51.701Z"
   },
   {
    "duration": 224,
    "start_time": "2021-12-09T16:47:21.620Z"
   },
   {
    "duration": 221,
    "start_time": "2021-12-09T16:47:53.067Z"
   },
   {
    "duration": 17,
    "start_time": "2021-12-09T16:48:01.976Z"
   },
   {
    "duration": 22,
    "start_time": "2021-12-09T16:48:13.912Z"
   },
   {
    "duration": 3,
    "start_time": "2021-12-09T16:48:58.894Z"
   },
   {
    "duration": 191,
    "start_time": "2021-12-09T16:50:27.464Z"
   },
   {
    "duration": 5,
    "start_time": "2021-12-09T16:51:29.657Z"
   },
   {
    "duration": 138,
    "start_time": "2021-12-09T16:52:05.167Z"
   },
   {
    "duration": 259,
    "start_time": "2021-12-09T16:52:40.540Z"
   },
   {
    "duration": 6,
    "start_time": "2021-12-09T16:53:56.376Z"
   },
   {
    "duration": 18,
    "start_time": "2021-12-09T16:53:59.026Z"
   },
   {
    "duration": 4,
    "start_time": "2021-12-09T16:54:03.313Z"
   },
   {
    "duration": 262,
    "start_time": "2021-12-09T16:54:28.315Z"
   },
   {
    "duration": 4,
    "start_time": "2021-12-09T16:54:40.003Z"
   },
   {
    "duration": 30,
    "start_time": "2021-12-09T16:55:21.194Z"
   },
   {
    "duration": 5,
    "start_time": "2021-12-09T16:55:23.134Z"
   },
   {
    "duration": 4,
    "start_time": "2021-12-09T16:55:26.682Z"
   },
   {
    "duration": 199,
    "start_time": "2021-12-09T16:55:31.674Z"
   },
   {
    "duration": 143,
    "start_time": "2021-12-09T16:55:33.563Z"
   },
   {
    "duration": 35,
    "start_time": "2021-12-09T16:55:37.075Z"
   },
   {
    "duration": 5426,
    "start_time": "2021-12-09T16:56:25.063Z"
   },
   {
    "duration": 6,
    "start_time": "2021-12-09T16:57:06.664Z"
   },
   {
    "duration": 6,
    "start_time": "2021-12-09T16:57:33.960Z"
   },
   {
    "duration": 9219,
    "start_time": "2021-12-09T20:29:20.264Z"
   },
   {
    "duration": 1421,
    "start_time": "2021-12-09T20:29:29.487Z"
   },
   {
    "duration": 39,
    "start_time": "2021-12-09T20:29:30.911Z"
   },
   {
    "duration": 9,
    "start_time": "2021-12-09T20:29:30.952Z"
   },
   {
    "duration": 6,
    "start_time": "2021-12-09T20:29:30.963Z"
   },
   {
    "duration": 15,
    "start_time": "2021-12-09T20:29:30.971Z"
   },
   {
    "duration": 39,
    "start_time": "2021-12-09T20:29:30.988Z"
   },
   {
    "duration": 4,
    "start_time": "2021-12-09T20:29:31.031Z"
   },
   {
    "duration": 1491,
    "start_time": "2021-12-09T20:29:31.038Z"
   },
   {
    "duration": 8,
    "start_time": "2021-12-09T20:29:32.532Z"
   },
   {
    "duration": 8,
    "start_time": "2021-12-09T20:29:32.543Z"
   },
   {
    "duration": 23,
    "start_time": "2021-12-09T20:29:32.553Z"
   },
   {
    "duration": 51,
    "start_time": "2021-12-09T20:29:32.579Z"
   },
   {
    "duration": 5,
    "start_time": "2021-12-09T20:29:32.633Z"
   },
   {
    "duration": 18,
    "start_time": "2021-12-09T20:29:32.641Z"
   },
   {
    "duration": 25,
    "start_time": "2021-12-09T20:29:32.661Z"
   },
   {
    "duration": 31,
    "start_time": "2021-12-09T20:29:32.689Z"
   },
   {
    "duration": 40,
    "start_time": "2021-12-09T20:29:32.722Z"
   },
   {
    "duration": 354,
    "start_time": "2021-12-09T20:29:32.765Z"
   },
   {
    "duration": 27,
    "start_time": "2021-12-09T20:29:33.121Z"
   },
   {
    "duration": 167,
    "start_time": "2021-12-09T20:29:33.150Z"
   },
   {
    "duration": 408,
    "start_time": "2021-12-09T20:29:33.319Z"
   },
   {
    "duration": 5,
    "start_time": "2021-12-09T20:29:33.733Z"
   },
   {
    "duration": 113,
    "start_time": "2021-12-09T20:29:33.742Z"
   },
   {
    "duration": 4,
    "start_time": "2021-12-09T20:29:33.857Z"
   },
   {
    "duration": 6,
    "start_time": "2021-12-09T20:29:33.863Z"
   },
   {
    "duration": 380,
    "start_time": "2021-12-09T20:29:33.872Z"
   },
   {
    "duration": 385,
    "start_time": "2021-12-09T20:29:34.255Z"
   },
   {
    "duration": 14,
    "start_time": "2021-12-09T20:29:34.643Z"
   },
   {
    "duration": 4,
    "start_time": "2021-12-09T20:29:34.659Z"
   },
   {
    "duration": 6254,
    "start_time": "2021-12-09T20:29:34.665Z"
   },
   {
    "duration": 100,
    "start_time": "2021-12-09T20:29:40.923Z"
   },
   {
    "duration": 94,
    "start_time": "2021-12-09T20:29:41.026Z"
   },
   {
    "duration": 6,
    "start_time": "2021-12-09T20:29:41.122Z"
   },
   {
    "duration": 1522,
    "start_time": "2021-12-09T20:29:41.131Z"
   },
   {
    "duration": 5,
    "start_time": "2021-12-09T20:29:42.661Z"
   },
   {
    "duration": 7,
    "start_time": "2021-12-09T20:29:42.668Z"
   },
   {
    "duration": 41,
    "start_time": "2021-12-09T20:29:42.677Z"
   },
   {
    "duration": 7,
    "start_time": "2021-12-09T20:29:42.721Z"
   },
   {
    "duration": 17,
    "start_time": "2021-12-09T20:29:42.731Z"
   },
   {
    "duration": 69,
    "start_time": "2021-12-09T20:29:42.751Z"
   },
   {
    "duration": 359,
    "start_time": "2021-12-09T20:29:42.823Z"
   },
   {
    "duration": 269,
    "start_time": "2021-12-09T20:29:43.184Z"
   },
   {
    "duration": 6965,
    "start_time": "2021-12-09T20:29:43.455Z"
   },
   {
    "duration": 1145,
    "start_time": "2021-12-09T20:29:50.424Z"
   },
   {
    "duration": 5,
    "start_time": "2021-12-09T20:29:51.571Z"
   },
   {
    "duration": 44,
    "start_time": "2021-12-09T20:29:51.579Z"
   },
   {
    "duration": 11,
    "start_time": "2021-12-09T20:29:51.626Z"
   },
   {
    "duration": 41,
    "start_time": "2021-12-09T20:29:51.639Z"
   },
   {
    "duration": 7,
    "start_time": "2021-12-09T20:29:51.682Z"
   },
   {
    "duration": 6,
    "start_time": "2021-12-09T20:29:51.717Z"
   },
   {
    "duration": 8,
    "start_time": "2021-12-09T20:29:51.725Z"
   },
   {
    "duration": 320,
    "start_time": "2021-12-09T20:29:51.735Z"
   },
   {
    "duration": 232,
    "start_time": "2021-12-09T20:29:52.057Z"
   },
   {
    "duration": 68,
    "start_time": "2021-12-09T20:29:52.292Z"
   },
   {
    "duration": 6655,
    "start_time": "2021-12-09T20:29:52.363Z"
   },
   {
    "duration": 9,
    "start_time": "2021-12-09T20:29:59.116Z"
   },
   {
    "duration": 91,
    "start_time": "2021-12-09T20:29:59.129Z"
   },
   {
    "duration": 93,
    "start_time": "2021-12-09T20:29:59.225Z"
   },
   {
    "duration": 6,
    "start_time": "2021-12-09T20:29:59.320Z"
   },
   {
    "duration": 95542,
    "start_time": "2021-12-09T20:29:59.328Z"
   },
   {
    "duration": -192,
    "start_time": "2021-12-09T20:31:35.068Z"
   },
   {
    "duration": -197,
    "start_time": "2021-12-09T20:31:35.074Z"
   },
   {
    "duration": -199,
    "start_time": "2021-12-09T20:31:35.079Z"
   },
   {
    "duration": -201,
    "start_time": "2021-12-09T20:31:35.083Z"
   },
   {
    "duration": -214,
    "start_time": "2021-12-09T20:31:35.098Z"
   },
   {
    "duration": -216,
    "start_time": "2021-12-09T20:31:35.102Z"
   },
   {
    "duration": -218,
    "start_time": "2021-12-09T20:31:35.106Z"
   },
   {
    "duration": -220,
    "start_time": "2021-12-09T20:31:35.110Z"
   },
   {
    "duration": -229,
    "start_time": "2021-12-09T20:31:35.121Z"
   },
   {
    "duration": -231,
    "start_time": "2021-12-09T20:31:35.125Z"
   },
   {
    "duration": -231,
    "start_time": "2021-12-09T20:31:35.128Z"
   },
   {
    "duration": -233,
    "start_time": "2021-12-09T20:31:35.132Z"
   },
   {
    "duration": -234,
    "start_time": "2021-12-09T20:31:35.135Z"
   },
   {
    "duration": -235,
    "start_time": "2021-12-09T20:31:35.138Z"
   },
   {
    "duration": -224,
    "start_time": "2021-12-09T20:31:35.141Z"
   },
   {
    "duration": -234,
    "start_time": "2021-12-09T20:31:35.153Z"
   },
   {
    "duration": -236,
    "start_time": "2021-12-09T20:31:35.157Z"
   },
   {
    "duration": -236,
    "start_time": "2021-12-09T20:31:35.160Z"
   },
   {
    "duration": -246,
    "start_time": "2021-12-09T20:31:35.172Z"
   },
   {
    "duration": -247,
    "start_time": "2021-12-09T20:31:35.175Z"
   },
   {
    "duration": -248,
    "start_time": "2021-12-09T20:31:35.178Z"
   },
   {
    "duration": -251,
    "start_time": "2021-12-09T20:31:35.183Z"
   },
   {
    "duration": -253,
    "start_time": "2021-12-09T20:31:35.187Z"
   },
   {
    "duration": -280,
    "start_time": "2021-12-09T20:31:35.216Z"
   },
   {
    "duration": -294,
    "start_time": "2021-12-09T20:31:35.232Z"
   },
   {
    "duration": -296,
    "start_time": "2021-12-09T20:31:35.236Z"
   },
   {
    "duration": -297,
    "start_time": "2021-12-09T20:31:35.239Z"
   },
   {
    "duration": -418,
    "start_time": "2021-12-09T20:31:35.362Z"
   },
   {
    "duration": -456,
    "start_time": "2021-12-09T20:31:35.402Z"
   },
   {
    "duration": -468,
    "start_time": "2021-12-09T20:31:35.416Z"
   },
   {
    "duration": -470,
    "start_time": "2021-12-09T20:31:35.420Z"
   },
   {
    "duration": 5,
    "start_time": "2021-12-09T20:32:14.077Z"
   },
   {
    "duration": 801,
    "start_time": "2021-12-09T20:32:33.364Z"
   },
   {
    "duration": 11,
    "start_time": "2021-12-09T20:34:20.202Z"
   },
   {
    "duration": 340,
    "start_time": "2021-12-09T20:34:23.576Z"
   },
   {
    "duration": 305,
    "start_time": "2021-12-09T20:35:09.430Z"
   },
   {
    "duration": 324,
    "start_time": "2021-12-09T20:35:23.696Z"
   },
   {
    "duration": 7,
    "start_time": "2021-12-09T20:36:03.232Z"
   },
   {
    "duration": 5,
    "start_time": "2021-12-09T20:36:08.607Z"
   },
   {
    "duration": 6,
    "start_time": "2021-12-09T20:36:23.695Z"
   },
   {
    "duration": 130,
    "start_time": "2021-12-09T20:36:30.796Z"
   },
   {
    "duration": 95,
    "start_time": "2021-12-09T20:36:40.265Z"
   },
   {
    "duration": 34,
    "start_time": "2021-12-09T20:36:41.274Z"
   },
   {
    "duration": 3812,
    "start_time": "2021-12-09T20:36:48.806Z"
   },
   {
    "duration": 9,
    "start_time": "2021-12-09T20:36:55.648Z"
   },
   {
    "duration": 13,
    "start_time": "2021-12-09T20:36:56.884Z"
   },
   {
    "duration": 343,
    "start_time": "2021-12-09T21:37:09.740Z"
   },
   {
    "duration": 333,
    "start_time": "2021-12-09T21:37:55.636Z"
   },
   {
    "duration": 329,
    "start_time": "2021-12-09T21:38:18.929Z"
   },
   {
    "duration": 6243,
    "start_time": "2021-12-09T21:39:08.989Z"
   },
   {
    "duration": 325,
    "start_time": "2021-12-09T21:39:49.024Z"
   },
   {
    "duration": 7933,
    "start_time": "2021-12-09T21:40:43.260Z"
   },
   {
    "duration": 340,
    "start_time": "2021-12-09T21:41:06.597Z"
   },
   {
    "duration": 347,
    "start_time": "2021-12-09T21:42:45.860Z"
   },
   {
    "duration": 346,
    "start_time": "2021-12-09T21:42:54.454Z"
   },
   {
    "duration": 796,
    "start_time": "2021-12-09T21:43:14.777Z"
   },
   {
    "duration": 33,
    "start_time": "2021-12-09T21:43:44.318Z"
   },
   {
    "duration": 3834,
    "start_time": "2021-12-09T21:43:53.004Z"
   },
   {
    "duration": 35,
    "start_time": "2021-12-09T21:44:36.729Z"
   },
   {
    "duration": 4,
    "start_time": "2021-12-09T21:47:03.576Z"
   },
   {
    "duration": 4,
    "start_time": "2021-12-09T21:47:15.808Z"
   },
   {
    "duration": 298,
    "start_time": "2021-12-09T21:48:37.940Z"
   },
   {
    "duration": 4,
    "start_time": "2021-12-09T21:49:29.154Z"
   },
   {
    "duration": 9150,
    "start_time": "2021-12-09T21:51:48.351Z"
   },
   {
    "duration": 3829,
    "start_time": "2021-12-09T21:52:37.973Z"
   },
   {
    "duration": 1408,
    "start_time": "2021-12-09T21:52:41.805Z"
   },
   {
    "duration": 37,
    "start_time": "2021-12-09T21:52:43.216Z"
   },
   {
    "duration": 9,
    "start_time": "2021-12-09T21:52:43.255Z"
   },
   {
    "duration": 4,
    "start_time": "2021-12-09T21:52:43.266Z"
   },
   {
    "duration": 4,
    "start_time": "2021-12-09T21:52:43.273Z"
   },
   {
    "duration": 49,
    "start_time": "2021-12-09T21:52:43.280Z"
   },
   {
    "duration": 4,
    "start_time": "2021-12-09T21:52:43.333Z"
   },
   {
    "duration": 1425,
    "start_time": "2021-12-09T21:52:43.341Z"
   },
   {
    "duration": 7,
    "start_time": "2021-12-09T21:52:44.769Z"
   },
   {
    "duration": 11,
    "start_time": "2021-12-09T21:52:44.778Z"
   },
   {
    "duration": 45,
    "start_time": "2021-12-09T21:52:44.792Z"
   },
   {
    "duration": 24,
    "start_time": "2021-12-09T21:52:44.840Z"
   },
   {
    "duration": 6,
    "start_time": "2021-12-09T21:52:44.867Z"
   },
   {
    "duration": 48,
    "start_time": "2021-12-09T21:52:44.876Z"
   },
   {
    "duration": 12,
    "start_time": "2021-12-09T21:52:44.926Z"
   },
   {
    "duration": 8,
    "start_time": "2021-12-09T21:52:44.941Z"
   },
   {
    "duration": 19,
    "start_time": "2021-12-09T21:52:44.951Z"
   },
   {
    "duration": 345,
    "start_time": "2021-12-09T21:52:44.972Z"
   },
   {
    "duration": 28,
    "start_time": "2021-12-09T21:52:45.320Z"
   },
   {
    "duration": 84,
    "start_time": "2021-12-09T21:52:45.351Z"
   },
   {
    "duration": 232,
    "start_time": "2021-12-09T21:52:45.438Z"
   },
   {
    "duration": 5,
    "start_time": "2021-12-09T21:52:45.676Z"
   },
   {
    "duration": 72,
    "start_time": "2021-12-09T21:52:45.685Z"
   },
   {
    "duration": 5,
    "start_time": "2021-12-09T21:52:45.760Z"
   },
   {
    "duration": 4,
    "start_time": "2021-12-09T21:52:45.767Z"
   },
   {
    "duration": 368,
    "start_time": "2021-12-09T21:52:45.774Z"
   },
   {
    "duration": 393,
    "start_time": "2021-12-09T21:52:46.144Z"
   },
   {
    "duration": 16,
    "start_time": "2021-12-09T21:52:46.539Z"
   },
   {
    "duration": 4,
    "start_time": "2021-12-09T21:52:46.557Z"
   },
   {
    "duration": 6157,
    "start_time": "2021-12-09T21:52:46.563Z"
   },
   {
    "duration": 96,
    "start_time": "2021-12-09T21:52:52.723Z"
   },
   {
    "duration": 96,
    "start_time": "2021-12-09T21:52:52.824Z"
   },
   {
    "duration": 9412,
    "start_time": "2021-12-09T21:52:52.925Z"
   },
   {
    "duration": 4,
    "start_time": "2021-12-09T21:53:02.339Z"
   },
   {
    "duration": 5,
    "start_time": "2021-12-09T21:53:02.346Z"
   },
   {
    "duration": 102907,
    "start_time": "2021-12-09T21:53:02.353Z"
   },
   {
    "duration": -233,
    "start_time": "2021-12-09T21:54:45.497Z"
   },
   {
    "duration": -235,
    "start_time": "2021-12-09T21:54:45.501Z"
   },
   {
    "duration": -249,
    "start_time": "2021-12-09T21:54:45.517Z"
   },
   {
    "duration": -334,
    "start_time": "2021-12-09T21:54:45.604Z"
   },
   {
    "duration": -378,
    "start_time": "2021-12-09T21:54:45.650Z"
   },
   {
    "duration": -379,
    "start_time": "2021-12-09T21:54:45.653Z"
   },
   {
    "duration": -380,
    "start_time": "2021-12-09T21:54:45.656Z"
   },
   {
    "duration": -380,
    "start_time": "2021-12-09T21:54:45.658Z"
   },
   {
    "duration": -389,
    "start_time": "2021-12-09T21:54:45.669Z"
   },
   {
    "duration": -390,
    "start_time": "2021-12-09T21:54:45.672Z"
   },
   {
    "duration": -391,
    "start_time": "2021-12-09T21:54:45.675Z"
   },
   {
    "duration": -392,
    "start_time": "2021-12-09T21:54:45.678Z"
   },
   {
    "duration": -392,
    "start_time": "2021-12-09T21:54:45.680Z"
   },
   {
    "duration": -443,
    "start_time": "2021-12-09T21:54:45.734Z"
   },
   {
    "duration": -444,
    "start_time": "2021-12-09T21:54:45.737Z"
   },
   {
    "duration": -446,
    "start_time": "2021-12-09T21:54:45.740Z"
   },
   {
    "duration": -427,
    "start_time": "2021-12-09T21:54:45.744Z"
   },
   {
    "duration": -429,
    "start_time": "2021-12-09T21:54:45.747Z"
   },
   {
    "duration": -462,
    "start_time": "2021-12-09T21:54:45.782Z"
   },
   {
    "duration": -464,
    "start_time": "2021-12-09T21:54:45.785Z"
   },
   {
    "duration": -509,
    "start_time": "2021-12-09T21:54:45.831Z"
   },
   {
    "duration": -508,
    "start_time": "2021-12-09T21:54:45.833Z"
   },
   {
    "duration": -510,
    "start_time": "2021-12-09T21:54:45.836Z"
   },
   {
    "duration": -512,
    "start_time": "2021-12-09T21:54:45.839Z"
   },
   {
    "duration": -542,
    "start_time": "2021-12-09T21:54:45.871Z"
   },
   {
    "duration": -555,
    "start_time": "2021-12-09T21:54:45.885Z"
   },
   {
    "duration": -568,
    "start_time": "2021-12-09T21:54:45.899Z"
   },
   {
    "duration": -570,
    "start_time": "2021-12-09T21:54:45.903Z"
   },
   {
    "duration": -571,
    "start_time": "2021-12-09T21:54:45.905Z"
   },
   {
    "duration": -574,
    "start_time": "2021-12-09T21:54:45.909Z"
   },
   {
    "duration": -600,
    "start_time": "2021-12-09T21:54:45.937Z"
   },
   {
    "duration": 7551,
    "start_time": "2021-12-09T21:55:54.653Z"
   },
   {
    "duration": 7593,
    "start_time": "2021-12-09T21:58:01.375Z"
   },
   {
    "duration": 96,
    "start_time": "2021-12-09T21:58:22.761Z"
   },
   {
    "duration": 7481,
    "start_time": "2021-12-09T21:58:36.037Z"
   },
   {
    "duration": 6,
    "start_time": "2021-12-09T21:58:56.777Z"
   },
   {
    "duration": 32,
    "start_time": "2021-12-09T22:00:10.894Z"
   },
   {
    "duration": 6,
    "start_time": "2021-12-09T22:00:19.241Z"
   },
   {
    "duration": 7610,
    "start_time": "2021-12-09T22:00:22.322Z"
   },
   {
    "duration": 5,
    "start_time": "2021-12-09T22:00:49.932Z"
   },
   {
    "duration": 6,
    "start_time": "2021-12-09T22:00:57.554Z"
   },
   {
    "duration": 33,
    "start_time": "2021-12-09T22:01:06.397Z"
   },
   {
    "duration": 32,
    "start_time": "2021-12-09T22:01:59.482Z"
   },
   {
    "duration": 8685,
    "start_time": "2021-12-09T22:02:08.260Z"
   },
   {
    "duration": 9,
    "start_time": "2021-12-09T22:02:28.615Z"
   },
   {
    "duration": 4,
    "start_time": "2021-12-09T22:04:26.716Z"
   },
   {
    "duration": 4,
    "start_time": "2021-12-09T22:04:29.205Z"
   },
   {
    "duration": 64933,
    "start_time": "2021-12-09T22:04:36.747Z"
   },
   {
    "duration": 4,
    "start_time": "2021-12-09T22:06:26.333Z"
   },
   {
    "duration": 4,
    "start_time": "2021-12-09T22:06:36.666Z"
   },
   {
    "duration": 624397,
    "start_time": "2021-12-09T22:06:40.736Z"
   },
   {
    "duration": -30,
    "start_time": "2021-12-09T22:17:05.166Z"
   },
   {
    "duration": 5,
    "start_time": "2021-12-09T22:17:07.330Z"
   },
   {
    "duration": 128,
    "start_time": "2021-12-09T22:17:16.875Z"
   },
   {
    "duration": 4,
    "start_time": "2021-12-09T22:17:47.432Z"
   },
   {
    "duration": 12545,
    "start_time": "2021-12-09T22:17:49.175Z"
   },
   {
    "duration": 4,
    "start_time": "2021-12-09T22:18:10.519Z"
   },
   {
    "duration": 4,
    "start_time": "2021-12-09T22:18:15.143Z"
   },
   {
    "duration": 226885,
    "start_time": "2021-12-09T22:18:16.339Z"
   },
   {
    "duration": 6,
    "start_time": "2021-12-09T22:24:04.598Z"
   },
   {
    "duration": 5,
    "start_time": "2021-12-09T22:25:40.202Z"
   },
   {
    "duration": 4,
    "start_time": "2021-12-09T22:25:41.135Z"
   },
   {
    "duration": 675256,
    "start_time": "2021-12-09T22:25:42.085Z"
   },
   {
    "duration": 5,
    "start_time": "2021-12-09T22:37:03.101Z"
   },
   {
    "duration": 6,
    "start_time": "2021-12-09T22:37:23.953Z"
   },
   {
    "duration": 5,
    "start_time": "2021-12-09T22:38:14.585Z"
   },
   {
    "duration": 4,
    "start_time": "2021-12-09T22:38:17.238Z"
   },
   {
    "duration": 293,
    "start_time": "2021-12-09T22:38:20.389Z"
   },
   {
    "duration": 4,
    "start_time": "2021-12-09T22:38:32.924Z"
   },
   {
    "duration": 1411466,
    "start_time": "2021-12-09T22:38:36.973Z"
   },
   {
    "duration": 6,
    "start_time": "2021-12-09T23:04:38.209Z"
   },
   {
    "duration": 5,
    "start_time": "2021-12-09T23:04:41.597Z"
   },
   {
    "duration": 153,
    "start_time": "2021-12-09T23:06:18.775Z"
   },
   {
    "duration": 120,
    "start_time": "2021-12-09T23:06:31.736Z"
   },
   {
    "duration": 5,
    "start_time": "2021-12-09T23:06:57.714Z"
   },
   {
    "duration": 5,
    "start_time": "2021-12-09T23:06:59.054Z"
   },
   {
    "duration": 329517,
    "start_time": "2021-12-09T23:07:00.812Z"
   },
   {
    "duration": 5,
    "start_time": "2021-12-09T23:12:54.951Z"
   },
   {
    "duration": 5,
    "start_time": "2021-12-09T23:13:00.009Z"
   },
   {
    "duration": 223,
    "start_time": "2021-12-09T23:13:01.707Z"
   },
   {
    "duration": 5,
    "start_time": "2021-12-09T23:13:27.430Z"
   },
   {
    "duration": 3,
    "start_time": "2021-12-09T23:13:28.205Z"
   },
   {
    "duration": 490422,
    "start_time": "2021-12-09T23:13:28.907Z"
   },
   {
    "duration": 5,
    "start_time": "2021-12-09T23:22:22.041Z"
   },
   {
    "duration": 5,
    "start_time": "2021-12-09T23:22:30.605Z"
   },
   {
    "duration": 120,
    "start_time": "2021-12-09T23:22:37.937Z"
   },
   {
    "duration": 6,
    "start_time": "2021-12-09T23:24:09.447Z"
   },
   {
    "duration": 3,
    "start_time": "2021-12-09T23:24:10.386Z"
   },
   {
    "duration": 291673,
    "start_time": "2021-12-09T23:24:11.261Z"
   },
   {
    "duration": 5,
    "start_time": "2021-12-09T23:29:49.815Z"
   },
   {
    "duration": 5,
    "start_time": "2021-12-09T23:29:52.961Z"
   },
   {
    "duration": 233,
    "start_time": "2021-12-09T23:29:57.690Z"
   },
   {
    "duration": 5,
    "start_time": "2021-12-09T23:30:31.326Z"
   },
   {
    "duration": 4,
    "start_time": "2021-12-09T23:30:33.464Z"
   },
   {
    "duration": 293116,
    "start_time": "2021-12-09T23:30:34.918Z"
   },
   {
    "duration": 5,
    "start_time": "2021-12-09T23:36:09.748Z"
   },
   {
    "duration": 5,
    "start_time": "2021-12-09T23:36:12.654Z"
   },
   {
    "duration": 151,
    "start_time": "2021-12-09T23:36:21.368Z"
   },
   {
    "duration": 5,
    "start_time": "2021-12-09T23:37:02.900Z"
   },
   {
    "duration": 4,
    "start_time": "2021-12-09T23:37:04.244Z"
   },
   {
    "duration": 769449,
    "start_time": "2021-12-09T23:37:04.978Z"
   },
   {
    "duration": 4,
    "start_time": "2021-12-09T23:50:00.101Z"
   },
   {
    "duration": 7,
    "start_time": "2021-12-09T23:50:03.280Z"
   },
   {
    "duration": 141,
    "start_time": "2021-12-09T23:50:13.580Z"
   },
   {
    "duration": 150,
    "start_time": "2021-12-09T23:51:47.727Z"
   },
   {
    "duration": 5,
    "start_time": "2021-12-09T23:51:55.655Z"
   },
   {
    "duration": 4,
    "start_time": "2021-12-09T23:51:57.031Z"
   },
   {
    "duration": 141499,
    "start_time": "2021-12-09T23:51:58.239Z"
   },
   {
    "duration": 5,
    "start_time": "2021-12-09T23:55:19.198Z"
   },
   {
    "duration": 5,
    "start_time": "2021-12-09T23:55:20.550Z"
   },
   {
    "duration": 120,
    "start_time": "2021-12-09T23:55:22.452Z"
   },
   {
    "duration": 5,
    "start_time": "2021-12-09T23:55:59.900Z"
   },
   {
    "duration": 4,
    "start_time": "2021-12-09T23:56:00.713Z"
   },
   {
    "duration": 94781,
    "start_time": "2021-12-09T23:56:01.356Z"
   },
   {
    "duration": 5,
    "start_time": "2021-12-09T23:58:20.709Z"
   },
   {
    "duration": 5,
    "start_time": "2021-12-09T23:58:22.826Z"
   },
   {
    "duration": 120,
    "start_time": "2021-12-09T23:58:24.839Z"
   },
   {
    "duration": 6,
    "start_time": "2021-12-09T23:59:23.702Z"
   },
   {
    "duration": 4,
    "start_time": "2021-12-09T23:59:25.111Z"
   },
   {
    "duration": 459947,
    "start_time": "2021-12-09T23:59:27.684Z"
   },
   {
    "duration": 5,
    "start_time": "2021-12-10T00:07:24.023Z"
   },
   {
    "duration": 5,
    "start_time": "2021-12-10T00:07:27.976Z"
   },
   {
    "duration": 320,
    "start_time": "2021-12-10T00:07:36.029Z"
   },
   {
    "duration": 5,
    "start_time": "2021-12-10T00:08:11.430Z"
   },
   {
    "duration": 4,
    "start_time": "2021-12-10T00:08:12.618Z"
   },
   {
    "duration": 645893,
    "start_time": "2021-12-10T00:08:13.647Z"
   },
   {
    "duration": 6,
    "start_time": "2021-12-10T00:21:01.460Z"
   },
   {
    "duration": 5,
    "start_time": "2021-12-10T00:21:03.029Z"
   },
   {
    "duration": 330,
    "start_time": "2021-12-10T00:21:07.594Z"
   },
   {
    "duration": 5,
    "start_time": "2021-12-10T00:22:02.287Z"
   },
   {
    "duration": 4,
    "start_time": "2021-12-10T00:22:03.254Z"
   },
   {
    "duration": 183396,
    "start_time": "2021-12-10T00:22:04.244Z"
   },
   {
    "duration": 5,
    "start_time": "2021-12-10T00:30:57.239Z"
   },
   {
    "duration": 5,
    "start_time": "2021-12-10T00:31:00.644Z"
   },
   {
    "duration": 260,
    "start_time": "2021-12-10T00:31:05.263Z"
   },
   {
    "duration": 104,
    "start_time": "2021-12-10T00:31:23.848Z"
   },
   {
    "duration": 4,
    "start_time": "2021-12-10T00:31:32.270Z"
   },
   {
    "duration": 4,
    "start_time": "2021-12-10T00:31:34.717Z"
   },
   {
    "duration": 138681,
    "start_time": "2021-12-10T00:31:37.051Z"
   },
   {
    "duration": 6,
    "start_time": "2021-12-10T00:34:22.219Z"
   },
   {
    "duration": 6,
    "start_time": "2021-12-10T00:34:25.702Z"
   },
   {
    "duration": 250,
    "start_time": "2021-12-10T00:34:29.374Z"
   },
   {
    "duration": 4,
    "start_time": "2021-12-10T00:34:32.880Z"
   },
   {
    "duration": 7009,
    "start_time": "2021-12-10T00:34:34.917Z"
   },
   {
    "duration": 10,
    "start_time": "2021-12-10T00:34:48.786Z"
   },
   {
    "duration": 10,
    "start_time": "2021-12-10T00:34:51.876Z"
   },
   {
    "duration": 4,
    "start_time": "2021-12-10T00:35:24.269Z"
   },
   {
    "duration": 700,
    "start_time": "2021-12-10T00:35:25.995Z"
   },
   {
    "duration": 14,
    "start_time": "2021-12-10T00:35:28.434Z"
   },
   {
    "duration": 9,
    "start_time": "2021-12-10T00:35:29.737Z"
   },
   {
    "duration": 4,
    "start_time": "2021-12-10T00:37:56.067Z"
   },
   {
    "duration": 3,
    "start_time": "2021-12-10T00:38:13.417Z"
   },
   {
    "duration": 4,
    "start_time": "2021-12-10T00:38:28.117Z"
   },
   {
    "duration": 21939,
    "start_time": "2021-12-10T00:38:30.923Z"
   },
   {
    "duration": 4,
    "start_time": "2021-12-10T00:39:06.042Z"
   },
   {
    "duration": 4,
    "start_time": "2021-12-10T00:39:08.299Z"
   },
   {
    "duration": 37766,
    "start_time": "2021-12-10T00:39:11.799Z"
   },
   {
    "duration": 5,
    "start_time": "2021-12-10T00:40:35.990Z"
   },
   {
    "duration": 6,
    "start_time": "2021-12-10T00:40:44.926Z"
   },
   {
    "duration": 4,
    "start_time": "2021-12-10T00:42:11.681Z"
   },
   {
    "duration": 4,
    "start_time": "2021-12-10T00:42:12.386Z"
   },
   {
    "duration": 22070,
    "start_time": "2021-12-10T00:42:13.124Z"
   },
   {
    "duration": 6,
    "start_time": "2021-12-10T00:42:40.128Z"
   },
   {
    "duration": 5,
    "start_time": "2021-12-10T00:42:43.594Z"
   },
   {
    "duration": 94,
    "start_time": "2021-12-10T00:44:12.244Z"
   },
   {
    "duration": 4,
    "start_time": "2021-12-10T00:44:18.528Z"
   },
   {
    "duration": 4,
    "start_time": "2021-12-10T00:44:31.691Z"
   },
   {
    "duration": 130553,
    "start_time": "2021-12-10T00:44:33.300Z"
   },
   {
    "duration": 6,
    "start_time": "2021-12-10T00:47:42.630Z"
   },
   {
    "duration": 5,
    "start_time": "2021-12-10T00:47:46.474Z"
   },
   {
    "duration": 5,
    "start_time": "2021-12-10T00:49:23.459Z"
   },
   {
    "duration": 47,
    "start_time": "2021-12-10T00:50:17.845Z"
   },
   {
    "duration": 13,
    "start_time": "2021-12-10T00:50:35.911Z"
   },
   {
    "duration": 8,
    "start_time": "2021-12-10T00:50:37.605Z"
   },
   {
    "duration": 3,
    "start_time": "2021-12-10T08:44:54.323Z"
   },
   {
    "duration": 7406,
    "start_time": "2021-12-10T08:53:39.336Z"
   },
   {
    "duration": 1012,
    "start_time": "2021-12-10T08:53:46.744Z"
   },
   {
    "duration": 22,
    "start_time": "2021-12-10T08:53:47.757Z"
   },
   {
    "duration": 8,
    "start_time": "2021-12-10T08:53:47.780Z"
   },
   {
    "duration": 4,
    "start_time": "2021-12-10T08:53:47.790Z"
   },
   {
    "duration": 5,
    "start_time": "2021-12-10T08:53:47.796Z"
   },
   {
    "duration": 10,
    "start_time": "2021-12-10T08:53:47.802Z"
   },
   {
    "duration": 3,
    "start_time": "2021-12-10T08:53:47.813Z"
   },
   {
    "duration": 1087,
    "start_time": "2021-12-10T08:53:47.819Z"
   },
   {
    "duration": 6,
    "start_time": "2021-12-10T08:53:48.908Z"
   },
   {
    "duration": 5,
    "start_time": "2021-12-10T08:53:48.915Z"
   },
   {
    "duration": 14,
    "start_time": "2021-12-10T08:53:48.921Z"
   },
   {
    "duration": 13,
    "start_time": "2021-12-10T08:53:48.937Z"
   },
   {
    "duration": 4,
    "start_time": "2021-12-10T08:53:48.951Z"
   },
   {
    "duration": 34,
    "start_time": "2021-12-10T08:53:48.956Z"
   },
   {
    "duration": 12,
    "start_time": "2021-12-10T08:53:48.992Z"
   },
   {
    "duration": 6,
    "start_time": "2021-12-10T08:53:49.005Z"
   },
   {
    "duration": 11,
    "start_time": "2021-12-10T08:53:49.013Z"
   },
   {
    "duration": 211,
    "start_time": "2021-12-10T08:53:49.025Z"
   },
   {
    "duration": 16,
    "start_time": "2021-12-10T08:53:49.238Z"
   },
   {
    "duration": 65,
    "start_time": "2021-12-10T08:53:49.256Z"
   },
   {
    "duration": 173,
    "start_time": "2021-12-10T08:53:49.323Z"
   },
   {
    "duration": 5,
    "start_time": "2021-12-10T08:53:49.498Z"
   },
   {
    "duration": 44,
    "start_time": "2021-12-10T08:53:49.505Z"
   },
   {
    "duration": 4,
    "start_time": "2021-12-10T08:53:49.550Z"
   },
   {
    "duration": 5,
    "start_time": "2021-12-10T08:53:49.556Z"
   },
   {
    "duration": 280,
    "start_time": "2021-12-10T08:53:49.565Z"
   },
   {
    "duration": 271,
    "start_time": "2021-12-10T08:53:49.847Z"
   },
   {
    "duration": 10,
    "start_time": "2021-12-10T08:53:50.120Z"
   },
   {
    "duration": 2,
    "start_time": "2021-12-10T08:53:50.131Z"
   },
   {
    "duration": 4353,
    "start_time": "2021-12-10T08:53:50.135Z"
   },
   {
    "duration": 91,
    "start_time": "2021-12-10T08:53:54.497Z"
   },
   {
    "duration": 15,
    "start_time": "2021-12-10T08:53:54.590Z"
   },
   {
    "duration": 6289,
    "start_time": "2021-12-10T08:53:54.613Z"
   },
   {
    "duration": 4,
    "start_time": "2021-12-10T08:54:00.904Z"
   },
   {
    "duration": 9,
    "start_time": "2021-12-10T08:54:00.909Z"
   },
   {
    "duration": 7,
    "start_time": "2021-12-10T08:54:00.919Z"
   },
   {
    "duration": 89788,
    "start_time": "2021-12-10T08:54:00.928Z"
   },
   {
    "duration": 4,
    "start_time": "2021-12-10T08:55:30.718Z"
   },
   {
    "duration": 9,
    "start_time": "2021-12-10T08:55:30.723Z"
   },
   {
    "duration": 261,
    "start_time": "2021-12-10T08:55:30.733Z"
   },
   {
    "duration": 3,
    "start_time": "2021-12-10T08:55:30.996Z"
   },
   {
    "duration": 5088,
    "start_time": "2021-12-10T08:55:31.001Z"
   },
   {
    "duration": 13,
    "start_time": "2021-12-10T08:55:36.091Z"
   },
   {
    "duration": 95,
    "start_time": "2021-12-10T08:55:36.109Z"
   },
   {
    "duration": 7,
    "start_time": "2021-12-10T08:55:36.287Z"
   },
   {
    "duration": 410,
    "start_time": "2021-12-10T08:55:36.298Z"
   },
   {
    "duration": 8,
    "start_time": "2021-12-10T08:55:36.710Z"
   },
   {
    "duration": 5,
    "start_time": "2021-12-10T08:55:36.719Z"
   },
   {
    "duration": 3,
    "start_time": "2021-12-10T08:55:36.726Z"
   },
   {
    "duration": 5,
    "start_time": "2021-12-10T08:55:36.731Z"
   },
   {
    "duration": 2892,
    "start_time": "2021-12-10T08:55:36.737Z"
   },
   {
    "duration": 4,
    "start_time": "2021-12-10T08:55:39.631Z"
   },
   {
    "duration": 10,
    "start_time": "2021-12-10T08:55:39.636Z"
   },
   {
    "duration": 9,
    "start_time": "2021-12-10T08:55:39.648Z"
   },
   {
    "duration": 5,
    "start_time": "2021-12-10T08:55:39.659Z"
   },
   {
    "duration": 10,
    "start_time": "2021-12-10T08:55:39.666Z"
   },
   {
    "duration": 9,
    "start_time": "2021-12-10T08:55:39.691Z"
   },
   {
    "duration": 54186,
    "start_time": "2021-12-10T08:55:39.701Z"
   },
   {
    "duration": -68,
    "start_time": "2021-12-10T08:56:33.957Z"
   },
   {
    "duration": -71,
    "start_time": "2021-12-10T08:56:33.962Z"
   },
   {
    "duration": -81,
    "start_time": "2021-12-10T08:56:33.973Z"
   },
   {
    "duration": -84,
    "start_time": "2021-12-10T08:56:33.977Z"
   },
   {
    "duration": -85,
    "start_time": "2021-12-10T08:56:33.980Z"
   },
   {
    "duration": -87,
    "start_time": "2021-12-10T08:56:33.983Z"
   },
   {
    "duration": -89,
    "start_time": "2021-12-10T08:56:33.987Z"
   },
   {
    "duration": 97,
    "start_time": "2021-12-10T08:58:50.149Z"
   },
   {
    "duration": 3,
    "start_time": "2021-12-10T08:58:58.216Z"
   },
   {
    "duration": 3,
    "start_time": "2021-12-10T08:59:11.884Z"
   },
   {
    "duration": 216074,
    "start_time": "2021-12-10T08:59:18.890Z"
   },
   {
    "duration": 5,
    "start_time": "2021-12-10T09:03:49.302Z"
   },
   {
    "duration": 3,
    "start_time": "2021-12-10T09:04:03.957Z"
   },
   {
    "duration": 4,
    "start_time": "2021-12-10T09:04:24.436Z"
   },
   {
    "duration": 49,
    "start_time": "2021-12-10T09:04:25.526Z"
   },
   {
    "duration": 6,
    "start_time": "2021-12-10T09:04:26.975Z"
   },
   {
    "duration": 3,
    "start_time": "2021-12-10T09:10:27.179Z"
   },
   {
    "duration": 3,
    "start_time": "2021-12-10T09:10:28.744Z"
   },
   {
    "duration": 416860,
    "start_time": "2021-12-10T09:10:29.738Z"
   },
   {
    "duration": 4,
    "start_time": "2021-12-10T09:19:46.572Z"
   },
   {
    "duration": 3,
    "start_time": "2021-12-10T09:19:56.455Z"
   },
   {
    "duration": 3,
    "start_time": "2021-12-10T09:20:05.128Z"
   },
   {
    "duration": 53,
    "start_time": "2021-12-10T09:20:05.845Z"
   },
   {
    "duration": 7,
    "start_time": "2021-12-10T09:20:06.623Z"
   },
   {
    "duration": 4,
    "start_time": "2021-12-10T09:21:52.602Z"
   },
   {
    "duration": 3,
    "start_time": "2021-12-10T09:21:53.481Z"
   },
   {
    "duration": 58579,
    "start_time": "2021-12-10T09:21:54.194Z"
   },
   {
    "duration": 4,
    "start_time": "2021-12-10T09:30:38.774Z"
   },
   {
    "duration": 3,
    "start_time": "2021-12-10T09:30:54.068Z"
   },
   {
    "duration": 4,
    "start_time": "2021-12-10T09:31:24.582Z"
   },
   {
    "duration": 4,
    "start_time": "2021-12-10T09:31:54.692Z"
   },
   {
    "duration": 56,
    "start_time": "2021-12-10T09:32:16.659Z"
   },
   {
    "duration": 6,
    "start_time": "2021-12-10T09:32:55.272Z"
   },
   {
    "duration": 4,
    "start_time": "2021-12-10T09:33:24.346Z"
   },
   {
    "duration": 105,
    "start_time": "2021-12-10T09:34:21.208Z"
   },
   {
    "duration": 3,
    "start_time": "2021-12-10T09:34:25.731Z"
   },
   {
    "duration": 3,
    "start_time": "2021-12-10T09:34:27.346Z"
   },
   {
    "duration": 201233,
    "start_time": "2021-12-10T09:34:29.232Z"
   },
   {
    "duration": 5,
    "start_time": "2021-12-10T09:37:50.468Z"
   },
   {
    "duration": 16,
    "start_time": "2021-12-10T09:37:50.475Z"
   },
   {
    "duration": 5,
    "start_time": "2021-12-10T09:39:19.090Z"
   },
   {
    "duration": 2,
    "start_time": "2021-12-10T09:39:20.171Z"
   },
   {
    "duration": 74,
    "start_time": "2021-12-10T09:39:21.104Z"
   },
   {
    "duration": 6,
    "start_time": "2021-12-10T09:39:21.862Z"
   },
   {
    "duration": 4,
    "start_time": "2021-12-10T09:40:12.109Z"
   },
   {
    "duration": 3,
    "start_time": "2021-12-10T09:40:12.782Z"
   },
   {
    "duration": 272032,
    "start_time": "2021-12-10T09:40:13.568Z"
   },
   {
    "duration": 5,
    "start_time": "2021-12-10T09:44:45.602Z"
   },
   {
    "duration": 10,
    "start_time": "2021-12-10T09:44:45.609Z"
   },
   {
    "duration": 6,
    "start_time": "2021-12-10T09:44:45.620Z"
   },
   {
    "duration": 108,
    "start_time": "2021-12-10T09:44:45.627Z"
   },
   {
    "duration": 7,
    "start_time": "2021-12-10T09:44:45.737Z"
   },
   {
    "duration": 4,
    "start_time": "2021-12-10T09:46:18.909Z"
   },
   {
    "duration": 3,
    "start_time": "2021-12-10T09:46:19.604Z"
   },
   {
    "duration": 318022,
    "start_time": "2021-12-10T09:46:20.044Z"
   },
   {
    "duration": 4,
    "start_time": "2021-12-10T09:51:38.067Z"
   },
   {
    "duration": 16,
    "start_time": "2021-12-10T09:51:38.073Z"
   },
   {
    "duration": 4,
    "start_time": "2021-12-10T09:51:38.101Z"
   },
   {
    "duration": 132,
    "start_time": "2021-12-10T09:51:38.106Z"
   },
   {
    "duration": 7,
    "start_time": "2021-12-10T09:51:38.240Z"
   },
   {
    "duration": 3,
    "start_time": "2021-12-10T09:51:38.249Z"
   },
   {
    "duration": 4,
    "start_time": "2021-12-10T09:52:54.220Z"
   },
   {
    "duration": 3,
    "start_time": "2021-12-10T09:52:55.260Z"
   },
   {
    "duration": 449726,
    "start_time": "2021-12-10T09:52:55.806Z"
   },
   {
    "duration": 4,
    "start_time": "2021-12-10T10:00:25.534Z"
   },
   {
    "duration": 5,
    "start_time": "2021-12-10T10:00:25.540Z"
   },
   {
    "duration": 6,
    "start_time": "2021-12-10T10:00:25.546Z"
   },
   {
    "duration": 118,
    "start_time": "2021-12-10T10:00:25.553Z"
   },
   {
    "duration": 7,
    "start_time": "2021-12-10T10:00:25.673Z"
   },
   {
    "duration": 4,
    "start_time": "2021-12-10T10:02:37.931Z"
   },
   {
    "duration": 3,
    "start_time": "2021-12-10T10:03:29.086Z"
   },
   {
    "duration": 1167,
    "start_time": "2021-12-10T10:04:24.852Z"
   },
   {
    "duration": 7576,
    "start_time": "2021-12-10T10:05:04.699Z"
   },
   {
    "duration": 91,
    "start_time": "2021-12-10T10:05:45.783Z"
   },
   {
    "duration": 76,
    "start_time": "2021-12-10T10:05:51.299Z"
   },
   {
    "duration": 6,
    "start_time": "2021-12-10T10:06:50.507Z"
   },
   {
    "duration": 80,
    "start_time": "2021-12-10T10:06:52.816Z"
   },
   {
    "duration": 5,
    "start_time": "2021-12-10T10:06:53.472Z"
   },
   {
    "duration": 3,
    "start_time": "2021-12-10T10:07:34.771Z"
   },
   {
    "duration": 3,
    "start_time": "2021-12-10T10:07:35.573Z"
   },
   {
    "duration": 81,
    "start_time": "2021-12-10T10:07:36.271Z"
   },
   {
    "duration": 8,
    "start_time": "2021-12-10T10:07:36.792Z"
   },
   {
    "duration": 6,
    "start_time": "2021-12-10T10:07:46.593Z"
   },
   {
    "duration": 3,
    "start_time": "2021-12-10T10:07:48.833Z"
   },
   {
    "duration": 77,
    "start_time": "2021-12-10T10:07:55.123Z"
   },
   {
    "duration": 12,
    "start_time": "2021-12-10T10:07:55.890Z"
   },
   {
    "duration": 4,
    "start_time": "2021-12-10T10:11:45.616Z"
   },
   {
    "duration": 2,
    "start_time": "2021-12-10T10:11:47.368Z"
   },
   {
    "duration": 406192,
    "start_time": "2021-12-10T10:11:48.736Z"
   },
   {
    "duration": 4,
    "start_time": "2021-12-10T10:18:34.930Z"
   },
   {
    "duration": 5,
    "start_time": "2021-12-10T10:18:34.936Z"
   },
   {
    "duration": 5,
    "start_time": "2021-12-10T10:18:34.943Z"
   },
   {
    "duration": 95,
    "start_time": "2021-12-10T10:18:34.949Z"
   },
   {
    "duration": 6,
    "start_time": "2021-12-10T10:18:35.045Z"
   },
   {
    "duration": 5,
    "start_time": "2021-12-10T10:18:35.052Z"
   },
   {
    "duration": 93,
    "start_time": "2021-12-10T10:18:35.058Z"
   },
   {
    "duration": 6,
    "start_time": "2021-12-10T10:18:35.152Z"
   },
   {
    "duration": 1236,
    "start_time": "2021-12-11T14:10:55.968Z"
   },
   {
    "duration": 5870,
    "start_time": "2021-12-11T14:11:09.686Z"
   },
   {
    "duration": 234,
    "start_time": "2021-12-11T14:11:19.309Z"
   },
   {
    "duration": 2456,
    "start_time": "2021-12-11T14:11:30.992Z"
   },
   {
    "duration": 2460,
    "start_time": "2021-12-11T14:11:40.446Z"
   },
   {
    "duration": 1548,
    "start_time": "2021-12-11T14:11:42.909Z"
   },
   {
    "duration": 24,
    "start_time": "2021-12-11T14:11:44.459Z"
   },
   {
    "duration": 7,
    "start_time": "2021-12-11T14:11:44.485Z"
   },
   {
    "duration": 3,
    "start_time": "2021-12-11T14:11:44.493Z"
   },
   {
    "duration": 10,
    "start_time": "2021-12-11T14:11:44.498Z"
   },
   {
    "duration": 17,
    "start_time": "2021-12-11T14:11:44.510Z"
   },
   {
    "duration": 5,
    "start_time": "2021-12-11T14:11:44.530Z"
   },
   {
    "duration": 1293,
    "start_time": "2021-12-11T14:11:44.537Z"
   },
   {
    "duration": 6,
    "start_time": "2021-12-11T14:11:45.832Z"
   },
   {
    "duration": 571,
    "start_time": "2021-12-11T14:11:45.840Z"
   },
   {
    "duration": 347,
    "start_time": "2021-12-11T14:11:46.413Z"
   },
   {
    "duration": 44,
    "start_time": "2021-12-11T14:11:46.762Z"
   },
   {
    "duration": 11,
    "start_time": "2021-12-11T14:11:46.808Z"
   },
   {
    "duration": 13,
    "start_time": "2021-12-11T14:11:46.820Z"
   },
   {
    "duration": 18,
    "start_time": "2021-12-11T14:11:46.835Z"
   },
   {
    "duration": 22,
    "start_time": "2021-12-11T14:11:46.855Z"
   },
   {
    "duration": 30,
    "start_time": "2021-12-11T14:11:46.879Z"
   },
   {
    "duration": 226,
    "start_time": "2021-12-11T14:11:46.911Z"
   },
   {
    "duration": 26,
    "start_time": "2021-12-11T14:11:47.139Z"
   },
   {
    "duration": 61,
    "start_time": "2021-12-11T14:11:47.166Z"
   },
   {
    "duration": 176,
    "start_time": "2021-12-11T14:11:47.229Z"
   },
   {
    "duration": 4,
    "start_time": "2021-12-11T14:11:47.408Z"
   },
   {
    "duration": 52,
    "start_time": "2021-12-11T14:11:47.414Z"
   },
   {
    "duration": 4,
    "start_time": "2021-12-11T14:11:47.467Z"
   },
   {
    "duration": 6,
    "start_time": "2021-12-11T14:11:47.472Z"
   },
   {
    "duration": 305,
    "start_time": "2021-12-11T14:11:47.479Z"
   },
   {
    "duration": 283,
    "start_time": "2021-12-11T14:11:47.786Z"
   },
   {
    "duration": 12,
    "start_time": "2021-12-11T14:11:48.071Z"
   },
   {
    "duration": 3,
    "start_time": "2021-12-11T14:11:48.084Z"
   },
   {
    "duration": 6383,
    "start_time": "2021-12-11T14:11:48.089Z"
   },
   {
    "duration": 98,
    "start_time": "2021-12-11T14:11:54.565Z"
   },
   {
    "duration": 104,
    "start_time": "2021-12-11T14:11:54.666Z"
   },
   {
    "duration": 7221,
    "start_time": "2021-12-11T14:11:54.772Z"
   },
   {
    "duration": 5,
    "start_time": "2021-12-11T14:12:01.995Z"
   },
   {
    "duration": 16,
    "start_time": "2021-12-11T14:12:02.001Z"
   },
   {
    "duration": 10,
    "start_time": "2021-12-11T14:12:02.019Z"
   },
   {
    "duration": 93153,
    "start_time": "2021-12-11T14:12:02.031Z"
   },
   {
    "duration": 4,
    "start_time": "2021-12-11T14:13:35.187Z"
   },
   {
    "duration": 7,
    "start_time": "2021-12-11T14:13:35.193Z"
   },
   {
    "duration": 266,
    "start_time": "2021-12-11T14:13:35.202Z"
   },
   {
    "duration": 2,
    "start_time": "2021-12-11T14:13:35.470Z"
   },
   {
    "duration": 7695,
    "start_time": "2021-12-11T14:13:35.474Z"
   },
   {
    "duration": 97,
    "start_time": "2021-12-11T14:13:43.172Z"
   },
   {
    "duration": 93,
    "start_time": "2021-12-11T14:13:43.273Z"
   },
   {
    "duration": 93,
    "start_time": "2021-12-11T14:13:43.371Z"
   },
   {
    "duration": 481,
    "start_time": "2021-12-11T14:13:43.466Z"
   },
   {
    "duration": 20,
    "start_time": "2021-12-11T14:13:43.949Z"
   },
   {
    "duration": 7,
    "start_time": "2021-12-11T14:13:43.971Z"
   },
   {
    "duration": 3,
    "start_time": "2021-12-11T14:13:43.981Z"
   },
   {
    "duration": 5,
    "start_time": "2021-12-11T14:13:43.986Z"
   },
   {
    "duration": 3526,
    "start_time": "2021-12-11T14:13:43.992Z"
   },
   {
    "duration": 4,
    "start_time": "2021-12-11T14:13:47.520Z"
   },
   {
    "duration": 7,
    "start_time": "2021-12-11T14:13:47.525Z"
   },
   {
    "duration": 29,
    "start_time": "2021-12-11T14:13:47.534Z"
   },
   {
    "duration": 6,
    "start_time": "2021-12-11T14:13:47.565Z"
   },
   {
    "duration": 4,
    "start_time": "2021-12-11T14:13:47.573Z"
   },
   {
    "duration": 5,
    "start_time": "2021-12-11T14:13:47.579Z"
   },
   {
    "duration": 398349,
    "start_time": "2021-12-11T14:13:47.586Z"
   },
   {
    "duration": -13,
    "start_time": "2021-12-11T14:20:25.950Z"
   },
   {
    "duration": -17,
    "start_time": "2021-12-11T14:20:25.955Z"
   },
   {
    "duration": -19,
    "start_time": "2021-12-11T14:20:25.959Z"
   },
   {
    "duration": -22,
    "start_time": "2021-12-11T14:20:25.962Z"
   },
   {
    "duration": -26,
    "start_time": "2021-12-11T14:20:25.967Z"
   },
   {
    "duration": -32,
    "start_time": "2021-12-11T14:20:25.974Z"
   },
   {
    "duration": -34,
    "start_time": "2021-12-11T14:20:25.977Z"
   },
   {
    "duration": -35,
    "start_time": "2021-12-11T14:20:25.979Z"
   },
   {
    "duration": -37,
    "start_time": "2021-12-11T14:20:25.982Z"
   },
   {
    "duration": 4,
    "start_time": "2021-12-11T14:20:27.931Z"
   },
   {
    "duration": 3,
    "start_time": "2021-12-11T14:20:28.985Z"
   },
   {
    "duration": 50550,
    "start_time": "2021-12-11T14:20:30.498Z"
   },
   {
    "duration": 4,
    "start_time": "2021-12-11T14:21:33.556Z"
   },
   {
    "duration": 4,
    "start_time": "2021-12-11T14:21:35.417Z"
   },
   {
    "duration": 2,
    "start_time": "2021-12-11T14:21:39.083Z"
   },
   {
    "duration": 85,
    "start_time": "2021-12-11T14:21:40.147Z"
   },
   {
    "duration": 7,
    "start_time": "2021-12-11T14:21:41.210Z"
   },
   {
    "duration": 4,
    "start_time": "2021-12-11T14:21:43.751Z"
   },
   {
    "duration": 3,
    "start_time": "2021-12-11T14:21:46.080Z"
   },
   {
    "duration": 255,
    "start_time": "2021-12-11T14:23:01.354Z"
   },
   {
    "duration": 5,
    "start_time": "2021-12-11T14:23:16.452Z"
   },
   {
    "duration": 24,
    "start_time": "2021-12-11T14:26:05.234Z"
   },
   {
    "duration": 88,
    "start_time": "2021-12-11T14:30:09.874Z"
   },
   {
    "duration": 22,
    "start_time": "2021-12-11T14:30:15.899Z"
   },
   {
    "duration": 4,
    "start_time": "2021-12-11T14:30:50.636Z"
   },
   {
    "duration": 295,
    "start_time": "2021-12-11T14:31:26.852Z"
   },
   {
    "duration": 27,
    "start_time": "2021-12-11T14:31:35.277Z"
   },
   {
    "duration": 4,
    "start_time": "2021-12-11T14:31:44.901Z"
   },
   {
    "duration": 5,
    "start_time": "2021-12-11T14:34:52.682Z"
   },
   {
    "duration": 4,
    "start_time": "2021-12-11T14:36:27.476Z"
   },
   {
    "duration": 1546,
    "start_time": "2021-12-11T14:42:41.970Z"
   },
   {
    "duration": 24,
    "start_time": "2021-12-11T14:44:26.254Z"
   },
   {
    "duration": 200,
    "start_time": "2021-12-11T14:47:21.137Z"
   },
   {
    "duration": 2,
    "start_time": "2021-12-11T14:48:50.274Z"
   },
   {
    "duration": 10370,
    "start_time": "2021-12-11T14:49:15.495Z"
   },
   {
    "duration": 445,
    "start_time": "2021-12-11T14:51:12.882Z"
   },
   {
    "duration": 280,
    "start_time": "2021-12-11T14:52:32.682Z"
   },
   {
    "duration": 9488,
    "start_time": "2021-12-11T14:52:44.784Z"
   },
   {
    "duration": 2442,
    "start_time": "2021-12-11T14:53:58.115Z"
   },
   {
    "duration": 1790,
    "start_time": "2021-12-11T14:54:00.559Z"
   },
   {
    "duration": 23,
    "start_time": "2021-12-11T14:54:02.351Z"
   },
   {
    "duration": 13,
    "start_time": "2021-12-11T14:54:02.376Z"
   },
   {
    "duration": 16,
    "start_time": "2021-12-11T14:54:02.390Z"
   },
   {
    "duration": 20,
    "start_time": "2021-12-11T14:54:02.407Z"
   },
   {
    "duration": 20,
    "start_time": "2021-12-11T14:54:02.428Z"
   },
   {
    "duration": 18,
    "start_time": "2021-12-11T14:54:02.450Z"
   },
   {
    "duration": 1270,
    "start_time": "2021-12-11T14:54:02.469Z"
   },
   {
    "duration": 6,
    "start_time": "2021-12-11T14:54:03.740Z"
   },
   {
    "duration": 6,
    "start_time": "2021-12-11T14:54:03.747Z"
   },
   {
    "duration": 14,
    "start_time": "2021-12-11T14:54:03.763Z"
   },
   {
    "duration": 14,
    "start_time": "2021-12-11T14:54:03.778Z"
   },
   {
    "duration": 3,
    "start_time": "2021-12-11T14:54:03.794Z"
   },
   {
    "duration": 7,
    "start_time": "2021-12-11T14:54:03.799Z"
   },
   {
    "duration": 14,
    "start_time": "2021-12-11T14:54:03.807Z"
   },
   {
    "duration": 5,
    "start_time": "2021-12-11T14:54:03.823Z"
   },
   {
    "duration": 38,
    "start_time": "2021-12-11T14:54:03.829Z"
   },
   {
    "duration": 204,
    "start_time": "2021-12-11T14:54:03.869Z"
   },
   {
    "duration": 19,
    "start_time": "2021-12-11T14:54:04.076Z"
   },
   {
    "duration": 77,
    "start_time": "2021-12-11T14:54:04.097Z"
   },
   {
    "duration": 174,
    "start_time": "2021-12-11T14:54:04.176Z"
   },
   {
    "duration": 3,
    "start_time": "2021-12-11T14:54:04.355Z"
   },
   {
    "duration": 43,
    "start_time": "2021-12-11T14:54:04.365Z"
   },
   {
    "duration": 4,
    "start_time": "2021-12-11T14:54:04.410Z"
   },
   {
    "duration": 5,
    "start_time": "2021-12-11T14:54:04.416Z"
   },
   {
    "duration": 314,
    "start_time": "2021-12-11T14:54:04.423Z"
   },
   {
    "duration": 283,
    "start_time": "2021-12-11T14:54:04.739Z"
   },
   {
    "duration": 11,
    "start_time": "2021-12-11T14:54:05.024Z"
   },
   {
    "duration": 3,
    "start_time": "2021-12-11T14:54:05.036Z"
   },
   {
    "duration": 6324,
    "start_time": "2021-12-11T14:54:05.040Z"
   },
   {
    "duration": 96,
    "start_time": "2021-12-11T14:54:11.367Z"
   },
   {
    "duration": 94,
    "start_time": "2021-12-11T14:54:11.471Z"
   },
   {
    "duration": 7198,
    "start_time": "2021-12-11T14:54:11.567Z"
   },
   {
    "duration": 4,
    "start_time": "2021-12-11T14:54:18.767Z"
   },
   {
    "duration": 5,
    "start_time": "2021-12-11T14:54:18.773Z"
   },
   {
    "duration": 8,
    "start_time": "2021-12-11T14:54:18.779Z"
   },
   {
    "duration": 95293,
    "start_time": "2021-12-11T14:54:18.788Z"
   },
   {
    "duration": 4,
    "start_time": "2021-12-11T14:55:54.083Z"
   },
   {
    "duration": 7,
    "start_time": "2021-12-11T14:55:54.088Z"
   },
   {
    "duration": 270,
    "start_time": "2021-12-11T14:55:54.097Z"
   },
   {
    "duration": 3,
    "start_time": "2021-12-11T14:55:54.369Z"
   },
   {
    "duration": 7691,
    "start_time": "2021-12-11T14:55:54.374Z"
   },
   {
    "duration": 99,
    "start_time": "2021-12-11T14:56:02.067Z"
   },
   {
    "duration": 102,
    "start_time": "2021-12-11T14:56:02.168Z"
   },
   {
    "duration": 8,
    "start_time": "2021-12-11T14:56:02.272Z"
   },
   {
    "duration": 452,
    "start_time": "2021-12-11T14:56:02.364Z"
   },
   {
    "duration": 9,
    "start_time": "2021-12-11T14:56:02.818Z"
   },
   {
    "duration": 6,
    "start_time": "2021-12-11T14:56:02.829Z"
   },
   {
    "duration": 4,
    "start_time": "2021-12-11T14:56:02.836Z"
   },
   {
    "duration": 8,
    "start_time": "2021-12-11T14:56:02.841Z"
   },
   {
    "duration": 3223,
    "start_time": "2021-12-11T14:56:02.863Z"
   },
   {
    "duration": 4,
    "start_time": "2021-12-11T14:56:06.087Z"
   },
   {
    "duration": 16,
    "start_time": "2021-12-11T14:56:06.092Z"
   },
   {
    "duration": 26,
    "start_time": "2021-12-11T14:56:06.109Z"
   },
   {
    "duration": 6,
    "start_time": "2021-12-11T14:56:06.136Z"
   },
   {
    "duration": 18,
    "start_time": "2021-12-11T14:56:06.144Z"
   },
   {
    "duration": 15,
    "start_time": "2021-12-11T14:56:06.164Z"
   },
   {
    "duration": 48429,
    "start_time": "2021-12-11T14:56:06.181Z"
   },
   {
    "duration": 4,
    "start_time": "2021-12-11T14:56:54.612Z"
   },
   {
    "duration": 7,
    "start_time": "2021-12-11T14:56:54.618Z"
   },
   {
    "duration": 8,
    "start_time": "2021-12-11T14:56:54.627Z"
   },
   {
    "duration": 105,
    "start_time": "2021-12-11T14:56:54.636Z"
   },
   {
    "duration": 7,
    "start_time": "2021-12-11T14:56:54.743Z"
   },
   {
    "duration": 14,
    "start_time": "2021-12-11T14:56:54.751Z"
   },
   {
    "duration": 6,
    "start_time": "2021-12-11T14:56:54.767Z"
   },
   {
    "duration": 95,
    "start_time": "2021-12-11T14:56:54.774Z"
   },
   {
    "duration": 26,
    "start_time": "2021-12-11T14:56:54.873Z"
   },
   {
    "duration": 3,
    "start_time": "2021-12-11T14:56:54.901Z"
   },
   {
    "duration": 8,
    "start_time": "2021-12-11T14:56:54.905Z"
   },
   {
    "duration": 25,
    "start_time": "2021-12-11T14:56:54.914Z"
   },
   {
    "duration": 224,
    "start_time": "2021-12-11T14:56:54.940Z"
   },
   {
    "duration": 3,
    "start_time": "2021-12-11T14:56:55.165Z"
   },
   {
    "duration": 294,
    "start_time": "2021-12-11T14:56:55.169Z"
   },
   {
    "duration": 3,
    "start_time": "2021-12-11T14:56:55.465Z"
   },
   {
    "duration": 12702,
    "start_time": "2021-12-11T14:56:55.470Z"
   },
   {
    "duration": 102,
    "start_time": "2021-12-11T14:57:08.264Z"
   },
   {
    "duration": 175,
    "start_time": "2021-12-11T14:57:08.368Z"
   },
   {
    "duration": 19,
    "start_time": "2021-12-11T14:57:08.545Z"
   },
   {
    "duration": 11,
    "start_time": "2021-12-11T14:57:52.656Z"
   },
   {
    "duration": 9,
    "start_time": "2021-12-11T14:58:17.512Z"
   },
   {
    "duration": 6,
    "start_time": "2021-12-11T14:59:02.828Z"
   },
   {
    "duration": 89,
    "start_time": "2021-12-11T15:00:25.943Z"
   },
   {
    "duration": 7,
    "start_time": "2021-12-11T15:00:26.559Z"
   },
   {
    "duration": 3,
    "start_time": "2021-12-11T15:08:02.330Z"
   },
   {
    "duration": 3,
    "start_time": "2021-12-11T15:08:05.659Z"
   },
   {
    "duration": 313,
    "start_time": "2021-12-11T15:09:59.402Z"
   },
   {
    "duration": 3,
    "start_time": "2021-12-11T15:10:15.051Z"
   },
   {
    "duration": 3,
    "start_time": "2021-12-11T15:10:17.225Z"
   },
   {
    "duration": 230,
    "start_time": "2021-12-11T15:10:18.190Z"
   },
   {
    "duration": 18777,
    "start_time": "2021-12-11T15:11:17.935Z"
   },
   {
    "duration": 4,
    "start_time": "2021-12-11T15:11:51.075Z"
   },
   {
    "duration": 3,
    "start_time": "2021-12-11T15:12:31.463Z"
   },
   {
    "duration": 3,
    "start_time": "2021-12-11T15:12:32.681Z"
   },
   {
    "duration": 101061,
    "start_time": "2021-12-11T15:12:34.514Z"
   },
   {
    "duration": 4,
    "start_time": "2021-12-11T15:14:32.533Z"
   },
   {
    "duration": 3,
    "start_time": "2021-12-11T15:15:43.637Z"
   },
   {
    "duration": 3,
    "start_time": "2021-12-11T15:15:44.632Z"
   },
   {
    "duration": 50607,
    "start_time": "2021-12-11T15:15:45.585Z"
   },
   {
    "duration": 3,
    "start_time": "2021-12-11T15:16:36.194Z"
   },
   {
    "duration": 4,
    "start_time": "2021-12-11T15:17:20.606Z"
   },
   {
    "duration": 4,
    "start_time": "2021-12-11T15:18:11.340Z"
   },
   {
    "duration": 228,
    "start_time": "2021-12-11T15:19:45.995Z"
   },
   {
    "duration": 34,
    "start_time": "2021-12-11T15:19:58.345Z"
   },
   {
    "duration": 12,
    "start_time": "2021-12-11T15:20:03.985Z"
   },
   {
    "duration": 12,
    "start_time": "2021-12-11T15:20:17.534Z"
   },
   {
    "duration": 221,
    "start_time": "2021-12-11T15:20:51.816Z"
   },
   {
    "duration": 8,
    "start_time": "2021-12-11T15:20:58.444Z"
   },
   {
    "duration": 4,
    "start_time": "2021-12-11T15:21:28.078Z"
   },
   {
    "duration": 3,
    "start_time": "2021-12-11T15:23:00.071Z"
   },
   {
    "duration": 3704,
    "start_time": "2021-12-11T15:23:01.776Z"
   },
   {
    "duration": 4,
    "start_time": "2021-12-11T15:23:08.493Z"
   },
   {
    "duration": 5,
    "start_time": "2021-12-11T15:23:09.228Z"
   },
   {
    "duration": 10,
    "start_time": "2021-12-11T15:23:09.914Z"
   },
   {
    "duration": 7,
    "start_time": "2021-12-11T15:23:10.351Z"
   },
   {
    "duration": 4,
    "start_time": "2021-12-11T15:23:43.255Z"
   },
   {
    "duration": 4,
    "start_time": "2021-12-11T15:23:44.550Z"
   },
   {
    "duration": 559648,
    "start_time": "2021-12-11T15:23:45.276Z"
   },
   {
    "duration": 4,
    "start_time": "2021-12-11T15:33:10.911Z"
   },
   {
    "duration": 5,
    "start_time": "2021-12-11T15:33:17.045Z"
   },
   {
    "duration": 10,
    "start_time": "2021-12-11T15:33:18.516Z"
   },
   {
    "duration": 6,
    "start_time": "2021-12-11T15:33:20.697Z"
   },
   {
    "duration": 3,
    "start_time": "2021-12-11T15:33:58.036Z"
   },
   {
    "duration": 3,
    "start_time": "2021-12-11T15:33:59.010Z"
   },
   {
    "duration": 121945,
    "start_time": "2021-12-11T15:33:59.868Z"
   },
   {
    "duration": 4,
    "start_time": "2021-12-11T15:36:01.815Z"
   },
   {
    "duration": 64,
    "start_time": "2021-12-11T15:36:01.821Z"
   },
   {
    "duration": 48,
    "start_time": "2021-12-11T15:36:01.887Z"
   },
   {
    "duration": 11,
    "start_time": "2021-12-11T15:36:01.937Z"
   },
   {
    "duration": 4,
    "start_time": "2021-12-11T15:36:52.239Z"
   },
   {
    "duration": 3,
    "start_time": "2021-12-11T15:36:55.008Z"
   },
   {
    "duration": 3551,
    "start_time": "2021-12-11T15:36:55.624Z"
   },
   {
    "duration": 4,
    "start_time": "2021-12-11T15:37:01.027Z"
   },
   {
    "duration": 4,
    "start_time": "2021-12-11T15:37:02.791Z"
   },
   {
    "duration": 10,
    "start_time": "2021-12-11T15:37:07.043Z"
   },
   {
    "duration": 7,
    "start_time": "2021-12-11T15:37:07.662Z"
   },
   {
    "duration": 4,
    "start_time": "2021-12-11T15:42:37.559Z"
   },
   {
    "duration": 3,
    "start_time": "2021-12-11T15:43:39.722Z"
   },
   {
    "duration": 240,
    "start_time": "2021-12-11T15:45:06.995Z"
   },
   {
    "duration": 3,
    "start_time": "2021-12-11T15:45:22.023Z"
   },
   {
    "duration": 3,
    "start_time": "2021-12-11T15:45:29.434Z"
   },
   {
    "duration": 204592,
    "start_time": "2021-12-11T15:45:31.434Z"
   },
   {
    "duration": 4,
    "start_time": "2021-12-11T15:49:40.468Z"
   },
   {
    "duration": 4,
    "start_time": "2021-12-11T15:49:52.164Z"
   },
   {
    "duration": 3,
    "start_time": "2021-12-11T15:50:13.752Z"
   },
   {
    "duration": 3,
    "start_time": "2021-12-11T15:50:14.490Z"
   },
   {
    "duration": 1380011,
    "start_time": "2021-12-11T15:50:15.231Z"
   },
   {
    "duration": -10,
    "start_time": "2021-12-11T16:13:15.255Z"
   },
   {
    "duration": -16,
    "start_time": "2021-12-11T16:13:15.262Z"
   },
   {
    "duration": -18,
    "start_time": "2021-12-11T16:13:15.266Z"
   },
   {
    "duration": 5,
    "start_time": "2021-12-11T16:13:17.062Z"
   },
   {
    "duration": 3,
    "start_time": "2021-12-11T16:13:17.855Z"
   },
   {
    "duration": 168213,
    "start_time": "2021-12-11T16:13:18.485Z"
   },
   {
    "duration": 4,
    "start_time": "2021-12-11T16:16:45.086Z"
   },
   {
    "duration": 4,
    "start_time": "2021-12-11T16:16:48.018Z"
   },
   {
    "duration": 4,
    "start_time": "2021-12-11T16:17:20.770Z"
   },
   {
    "duration": 3,
    "start_time": "2021-12-11T16:17:21.494Z"
   },
   {
    "duration": 236342,
    "start_time": "2021-12-11T16:17:22.410Z"
   },
   {
    "duration": 3,
    "start_time": "2021-12-11T16:21:18.754Z"
   },
   {
    "duration": 6,
    "start_time": "2021-12-11T16:21:18.758Z"
   },
   {
    "duration": 4,
    "start_time": "2021-12-11T16:21:27.317Z"
   },
   {
    "duration": 4,
    "start_time": "2021-12-11T16:21:28.816Z"
   },
   {
    "duration": 3,
    "start_time": "2021-12-11T16:22:02.891Z"
   },
   {
    "duration": 3,
    "start_time": "2021-12-11T16:22:03.606Z"
   },
   {
    "duration": 62973,
    "start_time": "2021-12-11T16:22:04.104Z"
   },
   {
    "duration": 5,
    "start_time": "2021-12-11T16:23:38.985Z"
   },
   {
    "duration": 4,
    "start_time": "2021-12-11T16:23:40.132Z"
   },
   {
    "duration": 4,
    "start_time": "2021-12-11T16:24:30.879Z"
   },
   {
    "duration": 3,
    "start_time": "2021-12-11T16:24:31.610Z"
   },
   {
    "duration": 177058,
    "start_time": "2021-12-11T16:24:32.220Z"
   },
   {
    "duration": 4,
    "start_time": "2021-12-11T16:27:29.281Z"
   },
   {
    "duration": 17,
    "start_time": "2021-12-11T16:27:29.287Z"
   },
   {
    "duration": 3,
    "start_time": "2021-12-11T16:30:26.394Z"
   },
   {
    "duration": 3,
    "start_time": "2021-12-11T16:30:27.083Z"
   },
   {
    "duration": 210964,
    "start_time": "2021-12-11T16:30:27.808Z"
   },
   {
    "duration": 4,
    "start_time": "2021-12-11T16:33:58.774Z"
   },
   {
    "duration": 8,
    "start_time": "2021-12-11T16:33:58.779Z"
   },
   {
    "duration": 121,
    "start_time": "2021-12-11T16:35:58.501Z"
   },
   {
    "duration": 135,
    "start_time": "2021-12-11T16:36:10.553Z"
   },
   {
    "duration": 235,
    "start_time": "2021-12-11T16:36:26.258Z"
   },
   {
    "duration": 6,
    "start_time": "2021-12-11T16:36:29.873Z"
   },
   {
    "duration": 120,
    "start_time": "2021-12-11T16:37:04.477Z"
   },
   {
    "duration": 263,
    "start_time": "2021-12-11T16:37:15.905Z"
   },
   {
    "duration": 7,
    "start_time": "2021-12-11T16:37:30.126Z"
   },
   {
    "duration": 3,
    "start_time": "2021-12-11T16:43:32.426Z"
   },
   {
    "duration": 654,
    "start_time": "2021-12-11T16:47:00.739Z"
   },
   {
    "duration": 1938,
    "start_time": "2021-12-11T16:47:17.005Z"
   },
   {
    "duration": 597870,
    "start_time": "2021-12-11T16:48:13.052Z"
   },
   {
    "duration": 3,
    "start_time": "2021-12-11T16:59:25.352Z"
   },
   {
    "duration": 4,
    "start_time": "2021-12-11T16:59:41.716Z"
   },
   {
    "duration": 700111,
    "start_time": "2021-12-11T17:01:46.636Z"
   },
   {
    "duration": 3,
    "start_time": "2021-12-11T17:13:33.997Z"
   },
   {
    "duration": 4,
    "start_time": "2021-12-11T17:13:37.779Z"
   },
   {
    "duration": 360,
    "start_time": "2021-12-11T17:16:18.883Z"
   },
   {
    "duration": 2367545,
    "start_time": "2021-12-11T17:16:32.765Z"
   },
   {
    "duration": 10386,
    "start_time": "2021-12-11T17:56:12.150Z"
   },
   {
    "duration": 3,
    "start_time": "2021-12-11T17:56:25.312Z"
   },
   {
    "duration": 3,
    "start_time": "2021-12-11T17:56:25.936Z"
   },
   {
    "duration": 39031,
    "start_time": "2021-12-11T17:59:14.295Z"
   },
   {
    "duration": 45628,
    "start_time": "2021-12-11T18:00:09.670Z"
   },
   {
    "duration": 518929,
    "start_time": "2021-12-11T18:02:15.002Z"
   },
   {
    "duration": 5,
    "start_time": "2021-12-11T18:12:04.051Z"
   },
   {
    "duration": 352,
    "start_time": "2021-12-11T18:12:47.968Z"
   },
   {
    "duration": 320,
    "start_time": "2021-12-11T18:13:12.660Z"
   },
   {
    "duration": 70,
    "start_time": "2021-12-11T18:13:30.701Z"
   },
   {
    "duration": 6,
    "start_time": "2021-12-11T18:13:31.802Z"
   },
   {
    "duration": 461,
    "start_time": "2021-12-11T19:49:41.071Z"
   },
   {
    "duration": 3204,
    "start_time": "2021-12-11T19:52:27.269Z"
   },
   {
    "duration": 4,
    "start_time": "2021-12-11T19:54:15.091Z"
   },
   {
    "duration": 3,
    "start_time": "2021-12-11T19:55:23.870Z"
   },
   {
    "duration": 51032,
    "start_time": "2021-12-11T19:56:51.738Z"
   },
   {
    "duration": 47805,
    "start_time": "2021-12-11T19:58:05.392Z"
   },
   {
    "duration": 53520,
    "start_time": "2021-12-11T19:59:17.773Z"
   },
   {
    "duration": 4,
    "start_time": "2021-12-11T20:02:10.800Z"
   },
   {
    "duration": 100184,
    "start_time": "2021-12-11T20:06:23.605Z"
   },
   {
    "duration": 4,
    "start_time": "2021-12-11T20:08:59.331Z"
   },
   {
    "duration": 7443,
    "start_time": "2021-12-11T20:09:42.322Z"
   },
   {
    "duration": 454,
    "start_time": "2021-12-11T20:10:17.518Z"
   },
   {
    "duration": 114,
    "start_time": "2021-12-11T20:11:09.103Z"
   },
   {
    "duration": 26,
    "start_time": "2021-12-11T20:11:10.792Z"
   },
   {
    "duration": 207,
    "start_time": "2021-12-11T20:11:38.358Z"
   },
   {
    "duration": 287,
    "start_time": "2021-12-11T20:11:39.932Z"
   },
   {
    "duration": 13026,
    "start_time": "2021-12-11T20:12:13.844Z"
   },
   {
    "duration": 3603,
    "start_time": "2021-12-11T20:14:43.482Z"
   },
   {
    "duration": 3641,
    "start_time": "2021-12-11T20:15:17.865Z"
   },
   {
    "duration": 4,
    "start_time": "2021-12-11T20:17:13.024Z"
   },
   {
    "duration": 45459,
    "start_time": "2021-12-11T20:22:47.876Z"
   },
   {
    "duration": 45670,
    "start_time": "2021-12-11T20:24:58.487Z"
   },
   {
    "duration": 5,
    "start_time": "2021-12-11T20:35:02.988Z"
   },
   {
    "duration": 66,
    "start_time": "2021-12-11T20:39:08.718Z"
   },
   {
    "duration": 65,
    "start_time": "2021-12-11T20:39:13.041Z"
   },
   {
    "duration": 20927,
    "start_time": "2021-12-11T20:39:31.694Z"
   },
   {
    "duration": 4,
    "start_time": "2021-12-11T20:39:59.624Z"
   },
   {
    "duration": 76,
    "start_time": "2021-12-11T20:40:03.073Z"
   },
   {
    "duration": 3,
    "start_time": "2021-12-11T20:40:51.847Z"
   },
   {
    "duration": 4,
    "start_time": "2021-12-11T20:41:01.448Z"
   },
   {
    "duration": 3,
    "start_time": "2021-12-11T20:42:22.098Z"
   },
   {
    "duration": 2,
    "start_time": "2021-12-11T20:42:46.730Z"
   },
   {
    "duration": 3,
    "start_time": "2021-12-11T20:43:25.963Z"
   },
   {
    "duration": 3,
    "start_time": "2021-12-11T20:43:58.015Z"
   },
   {
    "duration": 4,
    "start_time": "2021-12-11T20:44:02.051Z"
   },
   {
    "duration": 3,
    "start_time": "2021-12-11T20:45:41.719Z"
   },
   {
    "duration": 2,
    "start_time": "2021-12-11T20:47:00.877Z"
   },
   {
    "duration": 3,
    "start_time": "2021-12-11T20:49:44.257Z"
   },
   {
    "duration": 3,
    "start_time": "2021-12-11T20:50:45.700Z"
   },
   {
    "duration": 3,
    "start_time": "2021-12-11T20:53:53.319Z"
   },
   {
    "duration": 3,
    "start_time": "2021-12-11T20:55:12.035Z"
   },
   {
    "duration": 3,
    "start_time": "2021-12-11T20:56:02.151Z"
   },
   {
    "duration": 4,
    "start_time": "2021-12-11T20:57:29.016Z"
   },
   {
    "duration": 3,
    "start_time": "2021-12-11T20:58:54.151Z"
   },
   {
    "duration": 9,
    "start_time": "2021-12-11T20:58:59.304Z"
   },
   {
    "duration": 3,
    "start_time": "2021-12-11T21:12:53.049Z"
   },
   {
    "duration": 3,
    "start_time": "2021-12-11T21:13:06.349Z"
   },
   {
    "duration": 3,
    "start_time": "2021-12-11T21:13:36.124Z"
   },
   {
    "duration": 7,
    "start_time": "2021-12-11T21:13:36.769Z"
   },
   {
    "duration": 3,
    "start_time": "2021-12-11T21:13:55.208Z"
   },
   {
    "duration": 3,
    "start_time": "2021-12-11T21:13:56.872Z"
   },
   {
    "duration": 3,
    "start_time": "2021-12-11T21:14:16.855Z"
   },
   {
    "duration": 3,
    "start_time": "2021-12-11T21:14:17.949Z"
   },
   {
    "duration": 3,
    "start_time": "2021-12-11T21:14:34.039Z"
   },
   {
    "duration": 5,
    "start_time": "2021-12-11T21:14:34.702Z"
   },
   {
    "duration": 4,
    "start_time": "2021-12-11T21:15:02.209Z"
   },
   {
    "duration": 4,
    "start_time": "2021-12-11T21:15:03.820Z"
   },
   {
    "duration": 3,
    "start_time": "2021-12-11T21:19:31.649Z"
   },
   {
    "duration": 234,
    "start_time": "2021-12-11T21:19:34.120Z"
   },
   {
    "duration": 479,
    "start_time": "2021-12-11T21:20:13.097Z"
   },
   {
    "duration": 4,
    "start_time": "2021-12-11T21:20:19.412Z"
   },
   {
    "duration": 4,
    "start_time": "2021-12-11T21:20:20.583Z"
   },
   {
    "duration": 5,
    "start_time": "2021-12-11T21:23:20.617Z"
   },
   {
    "duration": 1121,
    "start_time": "2021-12-11T21:23:23.325Z"
   },
   {
    "duration": 3,
    "start_time": "2021-12-11T21:24:19.039Z"
   },
   {
    "duration": 1131,
    "start_time": "2021-12-11T21:24:20.923Z"
   },
   {
    "duration": 5,
    "start_time": "2021-12-11T21:26:58.727Z"
   },
   {
    "duration": 964,
    "start_time": "2021-12-11T21:26:59.782Z"
   },
   {
    "duration": 81,
    "start_time": "2021-12-11T21:27:16.532Z"
   },
   {
    "duration": 5,
    "start_time": "2021-12-11T21:27:20.684Z"
   },
   {
    "duration": 1195,
    "start_time": "2021-12-11T21:27:23.352Z"
   },
   {
    "duration": 79,
    "start_time": "2021-12-11T21:28:36.238Z"
   },
   {
    "duration": 4,
    "start_time": "2021-12-11T21:28:46.134Z"
   },
   {
    "duration": 91,
    "start_time": "2021-12-11T21:28:47.273Z"
   },
   {
    "duration": 4,
    "start_time": "2021-12-11T21:29:09.044Z"
   },
   {
    "duration": 14,
    "start_time": "2021-12-11T21:29:09.960Z"
   },
   {
    "duration": 4,
    "start_time": "2021-12-11T21:29:20.935Z"
   },
   {
    "duration": 50,
    "start_time": "2021-12-11T21:29:21.619Z"
   },
   {
    "duration": 2496,
    "start_time": "2021-12-11T21:30:44.506Z"
   },
   {
    "duration": 1493,
    "start_time": "2021-12-11T21:30:47.005Z"
   },
   {
    "duration": 24,
    "start_time": "2021-12-11T21:30:48.501Z"
   },
   {
    "duration": 6,
    "start_time": "2021-12-11T21:30:48.527Z"
   },
   {
    "duration": 11,
    "start_time": "2021-12-11T21:30:48.535Z"
   },
   {
    "duration": 2,
    "start_time": "2021-12-11T21:30:48.565Z"
   },
   {
    "duration": 15,
    "start_time": "2021-12-11T21:30:48.569Z"
   },
   {
    "duration": 7,
    "start_time": "2021-12-11T21:30:48.586Z"
   },
   {
    "duration": 1852,
    "start_time": "2021-12-11T21:30:48.595Z"
   },
   {
    "duration": 16,
    "start_time": "2021-12-11T21:30:50.449Z"
   },
   {
    "duration": 8,
    "start_time": "2021-12-11T21:30:50.467Z"
   },
   {
    "duration": 18,
    "start_time": "2021-12-11T21:30:50.476Z"
   },
   {
    "duration": 18,
    "start_time": "2021-12-11T21:30:50.496Z"
   },
   {
    "duration": 5,
    "start_time": "2021-12-11T21:30:50.516Z"
   },
   {
    "duration": 49,
    "start_time": "2021-12-11T21:30:50.523Z"
   },
   {
    "duration": 13,
    "start_time": "2021-12-11T21:30:50.573Z"
   },
   {
    "duration": 6,
    "start_time": "2021-12-11T21:30:50.587Z"
   },
   {
    "duration": 15,
    "start_time": "2021-12-11T21:30:50.595Z"
   },
   {
    "duration": 229,
    "start_time": "2021-12-11T21:30:50.612Z"
   },
   {
    "duration": 27,
    "start_time": "2021-12-11T21:30:50.843Z"
   },
   {
    "duration": 64,
    "start_time": "2021-12-11T21:30:50.871Z"
   },
   {
    "duration": 178,
    "start_time": "2021-12-11T21:30:50.937Z"
   },
   {
    "duration": 4,
    "start_time": "2021-12-11T21:30:51.119Z"
   },
   {
    "duration": 63,
    "start_time": "2021-12-11T21:30:51.125Z"
   },
   {
    "duration": 3,
    "start_time": "2021-12-11T21:30:51.190Z"
   },
   {
    "duration": 7,
    "start_time": "2021-12-11T21:30:51.195Z"
   },
   {
    "duration": 314,
    "start_time": "2021-12-11T21:30:51.204Z"
   },
   {
    "duration": 290,
    "start_time": "2021-12-11T21:30:51.520Z"
   },
   {
    "duration": 10,
    "start_time": "2021-12-11T21:30:51.812Z"
   },
   {
    "duration": 2,
    "start_time": "2021-12-11T21:30:51.824Z"
   },
   {
    "duration": 7187,
    "start_time": "2021-12-11T21:30:51.828Z"
   },
   {
    "duration": 22,
    "start_time": "2021-12-11T21:30:59.024Z"
   },
   {
    "duration": 37,
    "start_time": "2021-12-11T21:30:59.049Z"
   },
   {
    "duration": 9,
    "start_time": "2021-12-11T21:30:59.099Z"
   },
   {
    "duration": 5,
    "start_time": "2021-12-11T21:30:59.169Z"
   },
   {
    "duration": 95,
    "start_time": "2021-12-11T21:30:59.179Z"
   },
   {
    "duration": -54,
    "start_time": "2021-12-11T21:30:59.331Z"
   },
   {
    "duration": -56,
    "start_time": "2021-12-11T21:30:59.335Z"
   },
   {
    "duration": -60,
    "start_time": "2021-12-11T21:30:59.340Z"
   },
   {
    "duration": -62,
    "start_time": "2021-12-11T21:30:59.343Z"
   },
   {
    "duration": -64,
    "start_time": "2021-12-11T21:30:59.346Z"
   },
   {
    "duration": -67,
    "start_time": "2021-12-11T21:30:59.351Z"
   },
   {
    "duration": -70,
    "start_time": "2021-12-11T21:30:59.355Z"
   },
   {
    "duration": -72,
    "start_time": "2021-12-11T21:30:59.358Z"
   },
   {
    "duration": -73,
    "start_time": "2021-12-11T21:30:59.361Z"
   },
   {
    "duration": -103,
    "start_time": "2021-12-11T21:30:59.392Z"
   },
   {
    "duration": -105,
    "start_time": "2021-12-11T21:30:59.396Z"
   },
   {
    "duration": -108,
    "start_time": "2021-12-11T21:30:59.400Z"
   },
   {
    "duration": -111,
    "start_time": "2021-12-11T21:30:59.404Z"
   },
   {
    "duration": -112,
    "start_time": "2021-12-11T21:30:59.407Z"
   },
   {
    "duration": -114,
    "start_time": "2021-12-11T21:30:59.410Z"
   },
   {
    "duration": -115,
    "start_time": "2021-12-11T21:30:59.413Z"
   },
   {
    "duration": -117,
    "start_time": "2021-12-11T21:30:59.416Z"
   },
   {
    "duration": -119,
    "start_time": "2021-12-11T21:30:59.419Z"
   },
   {
    "duration": -123,
    "start_time": "2021-12-11T21:30:59.424Z"
   },
   {
    "duration": -128,
    "start_time": "2021-12-11T21:30:59.431Z"
   },
   {
    "duration": -130,
    "start_time": "2021-12-11T21:30:59.434Z"
   },
   {
    "duration": -131,
    "start_time": "2021-12-11T21:30:59.437Z"
   },
   {
    "duration": -133,
    "start_time": "2021-12-11T21:30:59.440Z"
   },
   {
    "duration": -135,
    "start_time": "2021-12-11T21:30:59.443Z"
   },
   {
    "duration": -136,
    "start_time": "2021-12-11T21:30:59.446Z"
   },
   {
    "duration": -88,
    "start_time": "2021-12-11T21:30:59.452Z"
   },
   {
    "duration": -89,
    "start_time": "2021-12-11T21:30:59.454Z"
   },
   {
    "duration": -90,
    "start_time": "2021-12-11T21:30:59.457Z"
   },
   {
    "duration": -92,
    "start_time": "2021-12-11T21:30:59.460Z"
   },
   {
    "duration": -133,
    "start_time": "2021-12-11T21:30:59.502Z"
   },
   {
    "duration": -136,
    "start_time": "2021-12-11T21:30:59.507Z"
   },
   {
    "duration": -138,
    "start_time": "2021-12-11T21:30:59.510Z"
   },
   {
    "duration": -141,
    "start_time": "2021-12-11T21:30:59.514Z"
   },
   {
    "duration": -142,
    "start_time": "2021-12-11T21:30:59.517Z"
   },
   {
    "duration": -143,
    "start_time": "2021-12-11T21:30:59.519Z"
   },
   {
    "duration": -177,
    "start_time": "2021-12-11T21:30:59.554Z"
   },
   {
    "duration": -179,
    "start_time": "2021-12-11T21:30:59.558Z"
   },
   {
    "duration": 2533,
    "start_time": "2021-12-11T21:31:23.479Z"
   },
   {
    "duration": 1396,
    "start_time": "2021-12-11T21:31:26.015Z"
   },
   {
    "duration": 35,
    "start_time": "2021-12-11T21:31:27.414Z"
   },
   {
    "duration": 16,
    "start_time": "2021-12-11T21:31:27.451Z"
   },
   {
    "duration": 11,
    "start_time": "2021-12-11T21:31:27.469Z"
   },
   {
    "duration": 5,
    "start_time": "2021-12-11T21:31:27.482Z"
   },
   {
    "duration": 12,
    "start_time": "2021-12-11T21:31:27.489Z"
   },
   {
    "duration": 3,
    "start_time": "2021-12-11T21:31:27.503Z"
   },
   {
    "duration": 1367,
    "start_time": "2021-12-11T21:31:27.509Z"
   },
   {
    "duration": 6,
    "start_time": "2021-12-11T21:31:28.878Z"
   },
   {
    "duration": 8,
    "start_time": "2021-12-11T21:31:28.886Z"
   },
   {
    "duration": 23,
    "start_time": "2021-12-11T21:31:28.896Z"
   },
   {
    "duration": 42,
    "start_time": "2021-12-11T21:31:28.922Z"
   },
   {
    "duration": 5,
    "start_time": "2021-12-11T21:31:28.966Z"
   },
   {
    "duration": 19,
    "start_time": "2021-12-11T21:31:28.973Z"
   },
   {
    "duration": 20,
    "start_time": "2021-12-11T21:31:28.994Z"
   },
   {
    "duration": 9,
    "start_time": "2021-12-11T21:31:29.017Z"
   },
   {
    "duration": 41,
    "start_time": "2021-12-11T21:31:29.028Z"
   },
   {
    "duration": 244,
    "start_time": "2021-12-11T21:31:29.071Z"
   },
   {
    "duration": 28,
    "start_time": "2021-12-11T21:31:29.317Z"
   },
   {
    "duration": 69,
    "start_time": "2021-12-11T21:31:29.363Z"
   },
   {
    "duration": 274,
    "start_time": "2021-12-11T21:31:29.434Z"
   },
   {
    "duration": 5,
    "start_time": "2021-12-11T21:31:29.710Z"
   },
   {
    "duration": 84,
    "start_time": "2021-12-11T21:31:29.717Z"
   },
   {
    "duration": 5,
    "start_time": "2021-12-11T21:31:29.804Z"
   },
   {
    "duration": 5,
    "start_time": "2021-12-11T21:31:29.811Z"
   },
   {
    "duration": 373,
    "start_time": "2021-12-11T21:31:29.822Z"
   },
   {
    "duration": 377,
    "start_time": "2021-12-11T21:31:30.198Z"
   },
   {
    "duration": 11,
    "start_time": "2021-12-11T21:31:30.577Z"
   },
   {
    "duration": 13,
    "start_time": "2021-12-11T21:31:30.590Z"
   },
   {
    "duration": 8160,
    "start_time": "2021-12-11T21:31:30.605Z"
   },
   {
    "duration": 97,
    "start_time": "2021-12-11T21:31:38.767Z"
   },
   {
    "duration": 96,
    "start_time": "2021-12-11T21:31:38.866Z"
   },
   {
    "duration": 3,
    "start_time": "2021-12-11T21:31:38.965Z"
   },
   {
    "duration": 6,
    "start_time": "2021-12-11T21:31:38.969Z"
   },
   {
    "duration": 5,
    "start_time": "2021-12-11T21:31:38.977Z"
   },
   {
    "duration": 6875,
    "start_time": "2021-12-11T21:31:38.983Z"
   },
   {
    "duration": 5,
    "start_time": "2021-12-11T21:31:45.860Z"
   },
   {
    "duration": 10,
    "start_time": "2021-12-11T21:31:45.867Z"
   },
   {
    "duration": 59996,
    "start_time": "2021-12-11T21:31:45.878Z"
   },
   {
    "duration": -139,
    "start_time": "2021-12-11T21:32:46.016Z"
   },
   {
    "duration": -144,
    "start_time": "2021-12-11T21:32:46.023Z"
   },
   {
    "duration": -149,
    "start_time": "2021-12-11T21:32:46.029Z"
   },
   {
    "duration": -153,
    "start_time": "2021-12-11T21:32:46.035Z"
   },
   {
    "duration": -169,
    "start_time": "2021-12-11T21:32:46.052Z"
   },
   {
    "duration": -171,
    "start_time": "2021-12-11T21:32:46.056Z"
   },
   {
    "duration": -174,
    "start_time": "2021-12-11T21:32:46.060Z"
   },
   {
    "duration": -175,
    "start_time": "2021-12-11T21:32:46.063Z"
   },
   {
    "duration": -178,
    "start_time": "2021-12-11T21:32:46.067Z"
   },
   {
    "duration": -179,
    "start_time": "2021-12-11T21:32:46.070Z"
   },
   {
    "duration": -182,
    "start_time": "2021-12-11T21:32:46.074Z"
   },
   {
    "duration": -183,
    "start_time": "2021-12-11T21:32:46.077Z"
   },
   {
    "duration": -188,
    "start_time": "2021-12-11T21:32:46.083Z"
   },
   {
    "duration": -191,
    "start_time": "2021-12-11T21:32:46.087Z"
   },
   {
    "duration": -192,
    "start_time": "2021-12-11T21:32:46.090Z"
   },
   {
    "duration": -194,
    "start_time": "2021-12-11T21:32:46.093Z"
   },
   {
    "duration": -196,
    "start_time": "2021-12-11T21:32:46.097Z"
   },
   {
    "duration": -199,
    "start_time": "2021-12-11T21:32:46.101Z"
   },
   {
    "duration": -200,
    "start_time": "2021-12-11T21:32:46.104Z"
   },
   {
    "duration": -218,
    "start_time": "2021-12-11T21:32:46.123Z"
   },
   {
    "duration": -221,
    "start_time": "2021-12-11T21:32:46.127Z"
   },
   {
    "duration": -224,
    "start_time": "2021-12-11T21:32:46.132Z"
   },
   {
    "duration": -227,
    "start_time": "2021-12-11T21:32:46.136Z"
   },
   {
    "duration": -229,
    "start_time": "2021-12-11T21:32:46.139Z"
   },
   {
    "duration": -231,
    "start_time": "2021-12-11T21:32:46.142Z"
   },
   {
    "duration": -234,
    "start_time": "2021-12-11T21:32:46.146Z"
   },
   {
    "duration": -236,
    "start_time": "2021-12-11T21:32:46.149Z"
   },
   {
    "duration": -191,
    "start_time": "2021-12-11T21:32:46.154Z"
   },
   {
    "duration": -192,
    "start_time": "2021-12-11T21:32:46.157Z"
   },
   {
    "duration": -195,
    "start_time": "2021-12-11T21:32:46.161Z"
   },
   {
    "duration": -197,
    "start_time": "2021-12-11T21:32:46.164Z"
   },
   {
    "duration": -200,
    "start_time": "2021-12-11T21:32:46.168Z"
   },
   {
    "duration": -201,
    "start_time": "2021-12-11T21:32:46.171Z"
   },
   {
    "duration": 2884,
    "start_time": "2021-12-11T21:32:51.300Z"
   },
   {
    "duration": 1076,
    "start_time": "2021-12-11T21:32:54.187Z"
   },
   {
    "duration": 26,
    "start_time": "2021-12-11T21:32:55.265Z"
   },
   {
    "duration": 6,
    "start_time": "2021-12-11T21:32:55.293Z"
   },
   {
    "duration": 6,
    "start_time": "2021-12-11T21:32:55.301Z"
   },
   {
    "duration": 4,
    "start_time": "2021-12-11T21:32:55.310Z"
   },
   {
    "duration": 13,
    "start_time": "2021-12-11T21:32:55.316Z"
   },
   {
    "duration": 3,
    "start_time": "2021-12-11T21:32:55.363Z"
   },
   {
    "duration": 1340,
    "start_time": "2021-12-11T21:32:55.368Z"
   },
   {
    "duration": 6,
    "start_time": "2021-12-11T21:32:56.710Z"
   },
   {
    "duration": 8,
    "start_time": "2021-12-11T21:32:56.718Z"
   },
   {
    "duration": 15,
    "start_time": "2021-12-11T21:32:56.727Z"
   },
   {
    "duration": 32,
    "start_time": "2021-12-11T21:32:56.744Z"
   },
   {
    "duration": 4,
    "start_time": "2021-12-11T21:32:56.778Z"
   },
   {
    "duration": 9,
    "start_time": "2021-12-11T21:32:56.784Z"
   },
   {
    "duration": 11,
    "start_time": "2021-12-11T21:32:56.795Z"
   },
   {
    "duration": 7,
    "start_time": "2021-12-11T21:32:56.808Z"
   },
   {
    "duration": 55,
    "start_time": "2021-12-11T21:32:56.821Z"
   },
   {
    "duration": 216,
    "start_time": "2021-12-11T21:32:56.879Z"
   },
   {
    "duration": 18,
    "start_time": "2021-12-11T21:32:57.097Z"
   },
   {
    "duration": 87,
    "start_time": "2021-12-11T21:32:57.117Z"
   },
   {
    "duration": 172,
    "start_time": "2021-12-11T21:32:57.205Z"
   },
   {
    "duration": 4,
    "start_time": "2021-12-11T21:32:57.379Z"
   },
   {
    "duration": 51,
    "start_time": "2021-12-11T21:32:57.385Z"
   },
   {
    "duration": 5,
    "start_time": "2021-12-11T21:32:57.438Z"
   },
   {
    "duration": 3,
    "start_time": "2021-12-11T21:32:57.464Z"
   },
   {
    "duration": 314,
    "start_time": "2021-12-11T21:32:57.469Z"
   },
   {
    "duration": 288,
    "start_time": "2021-12-11T21:32:57.784Z"
   },
   {
    "duration": 11,
    "start_time": "2021-12-11T21:32:58.074Z"
   },
   {
    "duration": 3,
    "start_time": "2021-12-11T21:32:58.086Z"
   },
   {
    "duration": 7980,
    "start_time": "2021-12-11T21:32:58.090Z"
   },
   {
    "duration": 96,
    "start_time": "2021-12-11T21:33:06.073Z"
   },
   {
    "duration": 99,
    "start_time": "2021-12-11T21:33:06.171Z"
   },
   {
    "duration": 10,
    "start_time": "2021-12-11T21:33:06.272Z"
   },
   {
    "duration": 4,
    "start_time": "2021-12-11T21:33:06.363Z"
   },
   {
    "duration": 7,
    "start_time": "2021-12-11T21:33:06.369Z"
   },
   {
    "duration": 8940,
    "start_time": "2021-12-11T21:33:06.378Z"
   },
   {
    "duration": 6,
    "start_time": "2021-12-11T21:33:15.320Z"
   },
   {
    "duration": 6,
    "start_time": "2021-12-11T21:33:15.329Z"
   },
   {
    "duration": 108552,
    "start_time": "2021-12-11T21:33:15.337Z"
   },
   {
    "duration": 3,
    "start_time": "2021-12-11T21:35:03.891Z"
   },
   {
    "duration": 24,
    "start_time": "2021-12-11T21:35:03.896Z"
   },
   {
    "duration": 8949,
    "start_time": "2021-12-11T21:35:03.922Z"
   },
   {
    "duration": 91,
    "start_time": "2021-12-11T21:35:12.873Z"
   },
   {
    "duration": 589,
    "start_time": "2021-12-11T21:35:12.967Z"
   },
   {
    "duration": 3219,
    "start_time": "2021-12-11T21:35:13.557Z"
   },
   {
    "duration": 4,
    "start_time": "2021-12-11T21:35:16.778Z"
   },
   {
    "duration": 6,
    "start_time": "2021-12-11T21:35:16.783Z"
   },
   {
    "duration": 52185,
    "start_time": "2021-12-11T21:35:16.790Z"
   },
   {
    "duration": 4,
    "start_time": "2021-12-11T21:36:08.977Z"
   },
   {
    "duration": 36,
    "start_time": "2021-12-11T21:36:08.982Z"
   },
   {
    "duration": 133,
    "start_time": "2021-12-11T21:36:09.020Z"
   },
   {
    "duration": 23,
    "start_time": "2021-12-11T21:36:09.155Z"
   },
   {
    "duration": 207,
    "start_time": "2021-12-11T21:36:09.182Z"
   },
   {
    "duration": 294,
    "start_time": "2021-12-11T21:36:09.391Z"
   },
   {
    "duration": 13878,
    "start_time": "2021-12-11T21:36:09.687Z"
   },
   {
    "duration": 4,
    "start_time": "2021-12-11T21:36:23.567Z"
   },
   {
    "duration": 3824,
    "start_time": "2021-12-11T21:36:23.572Z"
   },
   {
    "duration": 4,
    "start_time": "2021-12-11T21:36:27.398Z"
   },
   {
    "duration": 5,
    "start_time": "2021-12-11T21:36:27.404Z"
   },
   {
    "duration": 54890,
    "start_time": "2021-12-11T21:36:27.411Z"
   },
   {
    "duration": 4,
    "start_time": "2021-12-11T21:37:22.303Z"
   },
   {
    "duration": 8,
    "start_time": "2021-12-11T21:37:22.309Z"
   },
   {
    "duration": 10405,
    "start_time": "2021-12-11T21:37:22.319Z"
   },
   {
    "duration": 4,
    "start_time": "2021-12-11T21:37:32.726Z"
   },
   {
    "duration": 7,
    "start_time": "2021-12-11T21:37:32.731Z"
   },
   {
    "duration": 20813,
    "start_time": "2021-12-11T21:37:32.739Z"
   },
   {
    "duration": 11,
    "start_time": "2021-12-11T21:37:53.553Z"
   },
   {
    "duration": 6,
    "start_time": "2021-12-11T21:37:53.566Z"
   },
   {
    "duration": 5,
    "start_time": "2021-12-11T21:37:53.573Z"
   },
   {
    "duration": 185,
    "start_time": "2021-12-11T21:37:53.579Z"
   },
   {
    "duration": 535,
    "start_time": "2021-12-11T21:37:53.766Z"
   },
   {
    "duration": -12,
    "start_time": "2021-12-11T21:37:54.315Z"
   },
   {
    "duration": 5,
    "start_time": "2021-12-11T21:38:18.411Z"
   },
   {
    "duration": 1108,
    "start_time": "2021-12-11T21:38:19.132Z"
   },
   {
    "duration": 4,
    "start_time": "2021-12-11T21:51:46.602Z"
   },
   {
    "duration": 1824,
    "start_time": "2021-12-11T21:51:48.540Z"
   },
   {
    "duration": 4,
    "start_time": "2021-12-11T21:52:47.230Z"
   },
   {
    "duration": 1728,
    "start_time": "2021-12-11T21:52:48.688Z"
   },
   {
    "duration": 29,
    "start_time": "2021-12-11T21:53:28.671Z"
   },
   {
    "duration": 4,
    "start_time": "2021-12-11T21:54:37.461Z"
   },
   {
    "duration": 1630,
    "start_time": "2021-12-11T21:54:39.088Z"
   },
   {
    "duration": 5,
    "start_time": "2021-12-11T21:54:48.700Z"
   },
   {
    "duration": 2013,
    "start_time": "2021-12-11T21:54:49.527Z"
   },
   {
    "duration": 5,
    "start_time": "2021-12-11T21:55:28.900Z"
   },
   {
    "duration": 1807,
    "start_time": "2021-12-11T21:55:30.044Z"
   },
   {
    "duration": 73,
    "start_time": "2021-12-11T21:57:26.975Z"
   },
   {
    "duration": 104,
    "start_time": "2021-12-11T21:57:40.952Z"
   },
   {
    "duration": 4,
    "start_time": "2021-12-11T21:57:54.077Z"
   },
   {
    "duration": 2173,
    "start_time": "2021-12-11T21:57:56.711Z"
   },
   {
    "duration": 4,
    "start_time": "2021-12-11T21:58:42.788Z"
   },
   {
    "duration": 2175,
    "start_time": "2021-12-11T21:58:44.606Z"
   },
   {
    "duration": 6,
    "start_time": "2021-12-11T21:59:02.873Z"
   },
   {
    "duration": 2681,
    "start_time": "2021-12-11T21:59:03.728Z"
   },
   {
    "duration": 72,
    "start_time": "2021-12-11T22:01:37.318Z"
   },
   {
    "duration": 80,
    "start_time": "2021-12-11T22:01:43.894Z"
   },
   {
    "duration": 5,
    "start_time": "2021-12-11T22:02:03.886Z"
   },
   {
    "duration": 1950,
    "start_time": "2021-12-11T22:02:07.636Z"
   },
   {
    "duration": 77,
    "start_time": "2021-12-11T22:02:57.632Z"
   },
   {
    "duration": 4,
    "start_time": "2021-12-11T22:03:43.629Z"
   },
   {
    "duration": 1695,
    "start_time": "2021-12-11T22:03:44.732Z"
   },
   {
    "duration": 5,
    "start_time": "2021-12-11T22:04:05.307Z"
   },
   {
    "duration": 2791,
    "start_time": "2021-12-11T22:04:11.532Z"
   },
   {
    "duration": 5,
    "start_time": "2021-12-11T22:04:27.797Z"
   },
   {
    "duration": 1742,
    "start_time": "2021-12-11T22:04:28.915Z"
   },
   {
    "duration": 1860,
    "start_time": "2021-12-11T22:05:47.376Z"
   },
   {
    "duration": 2038,
    "start_time": "2021-12-11T22:06:04.798Z"
   },
   {
    "duration": 1824,
    "start_time": "2021-12-11T22:12:10.467Z"
   },
   {
    "duration": 235,
    "start_time": "2021-12-11T22:21:13.478Z"
   },
   {
    "duration": 3,
    "start_time": "2021-12-11T22:21:46.722Z"
   },
   {
    "duration": 3,
    "start_time": "2021-12-11T22:22:47.433Z"
   },
   {
    "duration": 3,
    "start_time": "2021-12-11T22:23:42.997Z"
   },
   {
    "duration": 242,
    "start_time": "2021-12-11T22:24:50.736Z"
   },
   {
    "duration": 10,
    "start_time": "2021-12-11T22:26:07.139Z"
   },
   {
    "duration": 239,
    "start_time": "2021-12-11T22:27:22.953Z"
   },
   {
    "duration": 3,
    "start_time": "2021-12-11T22:28:34.059Z"
   },
   {
    "duration": 9,
    "start_time": "2021-12-11T22:28:41.619Z"
   },
   {
    "duration": 234,
    "start_time": "2021-12-11T22:29:04.865Z"
   },
   {
    "duration": 5,
    "start_time": "2021-12-11T22:29:42.634Z"
   },
   {
    "duration": 254,
    "start_time": "2021-12-11T22:30:16.133Z"
   },
   {
    "duration": 5,
    "start_time": "2021-12-11T22:30:46.896Z"
   },
   {
    "duration": 5,
    "start_time": "2021-12-11T22:31:15.043Z"
   },
   {
    "duration": 223,
    "start_time": "2021-12-11T22:31:38.053Z"
   },
   {
    "duration": 235,
    "start_time": "2021-12-11T22:31:42.995Z"
   },
   {
    "duration": 4,
    "start_time": "2021-12-11T22:32:24.867Z"
   },
   {
    "duration": 4,
    "start_time": "2021-12-11T22:33:21.862Z"
   },
   {
    "duration": 4,
    "start_time": "2021-12-11T22:33:38.627Z"
   },
   {
    "duration": 218,
    "start_time": "2021-12-11T22:34:05.338Z"
   },
   {
    "duration": 234,
    "start_time": "2021-12-11T22:36:07.224Z"
   },
   {
    "duration": 4,
    "start_time": "2021-12-11T22:36:14.997Z"
   },
   {
    "duration": 8,
    "start_time": "2021-12-11T22:36:45.136Z"
   },
   {
    "duration": 963,
    "start_time": "2021-12-11T22:37:51.079Z"
   },
   {
    "duration": 461,
    "start_time": "2021-12-11T22:38:14.354Z"
   },
   {
    "duration": 221,
    "start_time": "2021-12-11T22:44:31.445Z"
   },
   {
    "duration": 249,
    "start_time": "2021-12-11T22:44:51.804Z"
   },
   {
    "duration": 330,
    "start_time": "2021-12-11T22:45:26.424Z"
   },
   {
    "duration": 226,
    "start_time": "2021-12-11T22:45:50.102Z"
   },
   {
    "duration": 111,
    "start_time": "2021-12-11T22:46:00.405Z"
   },
   {
    "duration": 5,
    "start_time": "2021-12-11T22:46:10.079Z"
   },
   {
    "duration": 232,
    "start_time": "2021-12-11T22:46:45.479Z"
   },
   {
    "duration": 4,
    "start_time": "2021-12-11T22:46:56.352Z"
   },
   {
    "duration": 1161,
    "start_time": "2021-12-11T22:46:58.913Z"
   },
   {
    "duration": 132414,
    "start_time": "2021-12-11T22:47:01.298Z"
   },
   {
    "duration": 2614,
    "start_time": "2021-12-11T22:54:03.449Z"
   },
   {
    "duration": 1075,
    "start_time": "2021-12-11T22:54:06.065Z"
   },
   {
    "duration": 24,
    "start_time": "2021-12-11T22:54:07.142Z"
   },
   {
    "duration": 6,
    "start_time": "2021-12-11T22:54:07.167Z"
   },
   {
    "duration": 3,
    "start_time": "2021-12-11T22:54:07.174Z"
   },
   {
    "duration": 6,
    "start_time": "2021-12-11T22:54:07.178Z"
   },
   {
    "duration": 11,
    "start_time": "2021-12-11T22:54:07.185Z"
   },
   {
    "duration": 3,
    "start_time": "2021-12-11T22:54:07.199Z"
   },
   {
    "duration": 1106,
    "start_time": "2021-12-11T22:54:07.203Z"
   },
   {
    "duration": 6,
    "start_time": "2021-12-11T22:54:08.311Z"
   },
   {
    "duration": 15,
    "start_time": "2021-12-11T22:54:08.319Z"
   },
   {
    "duration": 28,
    "start_time": "2021-12-11T22:54:08.336Z"
   },
   {
    "duration": 14,
    "start_time": "2021-12-11T22:54:08.365Z"
   },
   {
    "duration": 9,
    "start_time": "2021-12-11T22:54:08.381Z"
   },
   {
    "duration": 10,
    "start_time": "2021-12-11T22:54:08.392Z"
   },
   {
    "duration": 8,
    "start_time": "2021-12-11T22:54:08.404Z"
   },
   {
    "duration": 6,
    "start_time": "2021-12-11T22:54:08.414Z"
   },
   {
    "duration": 49,
    "start_time": "2021-12-11T22:54:08.422Z"
   },
   {
    "duration": 206,
    "start_time": "2021-12-11T22:54:08.473Z"
   },
   {
    "duration": 19,
    "start_time": "2021-12-11T22:54:08.681Z"
   },
   {
    "duration": 87,
    "start_time": "2021-12-11T22:54:08.702Z"
   },
   {
    "duration": 173,
    "start_time": "2021-12-11T22:54:08.791Z"
   },
   {
    "duration": 4,
    "start_time": "2021-12-11T22:54:08.968Z"
   },
   {
    "duration": 45,
    "start_time": "2021-12-11T22:54:08.975Z"
   },
   {
    "duration": 4,
    "start_time": "2021-12-11T22:54:09.021Z"
   },
   {
    "duration": 36,
    "start_time": "2021-12-11T22:54:09.027Z"
   },
   {
    "duration": 305,
    "start_time": "2021-12-11T22:54:09.065Z"
   },
   {
    "duration": 288,
    "start_time": "2021-12-11T22:54:09.372Z"
   },
   {
    "duration": 11,
    "start_time": "2021-12-11T22:54:09.661Z"
   },
   {
    "duration": 3,
    "start_time": "2021-12-11T22:54:09.673Z"
   },
   {
    "duration": 5987,
    "start_time": "2021-12-11T22:54:09.677Z"
   },
   {
    "duration": 102,
    "start_time": "2021-12-11T22:54:15.667Z"
   },
   {
    "duration": 93,
    "start_time": "2021-12-11T22:54:15.772Z"
   },
   {
    "duration": 6,
    "start_time": "2021-12-11T22:54:15.867Z"
   },
   {
    "duration": 8,
    "start_time": "2021-12-11T22:54:15.875Z"
   },
   {
    "duration": 7,
    "start_time": "2021-12-11T22:54:15.885Z"
   },
   {
    "duration": 6767,
    "start_time": "2021-12-11T22:54:15.964Z"
   },
   {
    "duration": 4,
    "start_time": "2021-12-11T22:54:22.733Z"
   },
   {
    "duration": 24,
    "start_time": "2021-12-11T22:54:22.739Z"
   },
   {
    "duration": 101216,
    "start_time": "2021-12-11T22:54:22.766Z"
   },
   {
    "duration": 5,
    "start_time": "2021-12-11T22:56:03.984Z"
   },
   {
    "duration": 9,
    "start_time": "2021-12-11T22:56:03.991Z"
   },
   {
    "duration": 7368,
    "start_time": "2021-12-11T22:56:04.001Z"
   },
   {
    "duration": 92,
    "start_time": "2021-12-11T22:56:11.371Z"
   },
   {
    "duration": 467,
    "start_time": "2021-12-11T22:56:11.465Z"
   },
   {
    "duration": 3161,
    "start_time": "2021-12-11T22:56:11.933Z"
   },
   {
    "duration": 4,
    "start_time": "2021-12-11T22:56:15.095Z"
   },
   {
    "duration": 8,
    "start_time": "2021-12-11T22:56:15.100Z"
   },
   {
    "duration": 46595,
    "start_time": "2021-12-11T22:56:15.109Z"
   },
   {
    "duration": 4,
    "start_time": "2021-12-11T22:57:01.705Z"
   },
   {
    "duration": 11,
    "start_time": "2021-12-11T22:57:01.711Z"
   },
   {
    "duration": 117,
    "start_time": "2021-12-11T22:57:01.724Z"
   },
   {
    "duration": 31,
    "start_time": "2021-12-11T22:57:01.843Z"
   },
   {
    "duration": 199,
    "start_time": "2021-12-11T22:57:01.876Z"
   },
   {
    "duration": 291,
    "start_time": "2021-12-11T22:57:02.077Z"
   },
   {
    "duration": 12800,
    "start_time": "2021-12-11T22:57:02.370Z"
   },
   {
    "duration": 92,
    "start_time": "2021-12-11T22:57:15.172Z"
   },
   {
    "duration": 3666,
    "start_time": "2021-12-11T22:57:15.267Z"
   },
   {
    "duration": 3,
    "start_time": "2021-12-11T22:57:18.935Z"
   },
   {
    "duration": 7,
    "start_time": "2021-12-11T22:57:18.940Z"
   },
   {
    "duration": 44491,
    "start_time": "2021-12-11T22:57:18.949Z"
   },
   {
    "duration": 3,
    "start_time": "2021-12-11T22:58:03.442Z"
   },
   {
    "duration": 17,
    "start_time": "2021-12-11T22:58:03.447Z"
   },
   {
    "duration": 9898,
    "start_time": "2021-12-11T22:58:03.465Z"
   },
   {
    "duration": 3,
    "start_time": "2021-12-11T22:58:13.365Z"
   },
   {
    "duration": 6,
    "start_time": "2021-12-11T22:58:13.369Z"
   },
   {
    "duration": 20879,
    "start_time": "2021-12-11T22:58:13.377Z"
   },
   {
    "duration": 4,
    "start_time": "2021-12-11T22:58:34.260Z"
   },
   {
    "duration": 7,
    "start_time": "2021-12-11T22:58:34.265Z"
   },
   {
    "duration": 4,
    "start_time": "2021-12-11T22:58:34.274Z"
   },
   {
    "duration": 1744,
    "start_time": "2021-12-11T22:58:34.280Z"
   },
   {
    "duration": 1680,
    "start_time": "2021-12-11T22:58:36.025Z"
   },
   {
    "duration": 117,
    "start_time": "2021-12-11T22:58:37.707Z"
   },
   {
    "duration": 3,
    "start_time": "2021-12-11T22:58:37.825Z"
   },
   {
    "duration": 1168,
    "start_time": "2021-12-11T22:58:37.830Z"
   },
   {
    "duration": 215612,
    "start_time": "2021-12-11T22:58:39.000Z"
   },
   {
    "duration": 1738,
    "start_time": "2021-12-11T23:02:14.615Z"
   },
   {
    "duration": 80,
    "start_time": "2021-12-11T23:25:54.519Z"
   },
   {
    "duration": 2630,
    "start_time": "2021-12-11T23:27:27.726Z"
   },
   {
    "duration": 1184,
    "start_time": "2021-12-11T23:27:30.359Z"
   },
   {
    "duration": 26,
    "start_time": "2021-12-11T23:27:31.546Z"
   },
   {
    "duration": 11,
    "start_time": "2021-12-11T23:27:31.573Z"
   },
   {
    "duration": 32,
    "start_time": "2021-12-11T23:27:31.586Z"
   },
   {
    "duration": 31,
    "start_time": "2021-12-11T23:27:31.621Z"
   },
   {
    "duration": 38,
    "start_time": "2021-12-11T23:27:31.654Z"
   },
   {
    "duration": 16,
    "start_time": "2021-12-11T23:27:31.696Z"
   },
   {
    "duration": 1302,
    "start_time": "2021-12-11T23:27:31.714Z"
   },
   {
    "duration": 8,
    "start_time": "2021-12-11T23:27:33.017Z"
   },
   {
    "duration": 33,
    "start_time": "2021-12-11T23:27:33.027Z"
   },
   {
    "duration": 40,
    "start_time": "2021-12-11T23:27:33.061Z"
   },
   {
    "duration": 35,
    "start_time": "2021-12-11T23:27:33.103Z"
   },
   {
    "duration": 17,
    "start_time": "2021-12-11T23:27:33.140Z"
   },
   {
    "duration": 32,
    "start_time": "2021-12-11T23:27:33.159Z"
   },
   {
    "duration": 32,
    "start_time": "2021-12-11T23:27:33.192Z"
   },
   {
    "duration": 22,
    "start_time": "2021-12-11T23:27:33.226Z"
   },
   {
    "duration": 37,
    "start_time": "2021-12-11T23:27:33.251Z"
   },
   {
    "duration": 271,
    "start_time": "2021-12-11T23:27:33.290Z"
   },
   {
    "duration": 17,
    "start_time": "2021-12-11T23:27:33.562Z"
   },
   {
    "duration": 71,
    "start_time": "2021-12-11T23:27:33.581Z"
   },
   {
    "duration": 177,
    "start_time": "2021-12-11T23:27:33.654Z"
   },
   {
    "duration": 4,
    "start_time": "2021-12-11T23:27:33.834Z"
   },
   {
    "duration": 71,
    "start_time": "2021-12-11T23:27:33.841Z"
   },
   {
    "duration": 3,
    "start_time": "2021-12-11T23:27:33.914Z"
   },
   {
    "duration": 25,
    "start_time": "2021-12-11T23:27:33.919Z"
   },
   {
    "duration": 387,
    "start_time": "2021-12-11T23:27:33.946Z"
   },
   {
    "duration": 373,
    "start_time": "2021-12-11T23:27:34.335Z"
   },
   {
    "duration": 12,
    "start_time": "2021-12-11T23:27:34.710Z"
   },
   {
    "duration": 37,
    "start_time": "2021-12-11T23:27:34.724Z"
   },
   {
    "duration": 7109,
    "start_time": "2021-12-11T23:27:34.763Z"
   },
   {
    "duration": 102,
    "start_time": "2021-12-11T23:27:41.874Z"
   },
   {
    "duration": 188,
    "start_time": "2021-12-11T23:27:41.980Z"
   },
   {
    "duration": 17,
    "start_time": "2021-12-11T23:27:42.170Z"
   },
   {
    "duration": 33,
    "start_time": "2021-12-11T23:27:42.189Z"
   },
   {
    "duration": 25,
    "start_time": "2021-12-11T23:27:42.224Z"
   },
   {
    "duration": 6570,
    "start_time": "2021-12-11T23:27:42.251Z"
   },
   {
    "duration": 4,
    "start_time": "2021-12-11T23:27:48.823Z"
   },
   {
    "duration": 8,
    "start_time": "2021-12-11T23:27:48.828Z"
   },
   {
    "duration": 108130,
    "start_time": "2021-12-11T23:27:48.837Z"
   },
   {
    "duration": 4,
    "start_time": "2021-12-11T23:29:36.969Z"
   },
   {
    "duration": 6,
    "start_time": "2021-12-11T23:29:36.975Z"
   },
   {
    "duration": 8690,
    "start_time": "2021-12-11T23:29:36.983Z"
   },
   {
    "duration": 4,
    "start_time": "2021-12-11T23:29:45.764Z"
   },
   {
    "duration": 564,
    "start_time": "2021-12-11T23:29:45.771Z"
   },
   {
    "duration": 4254,
    "start_time": "2021-12-11T23:29:46.337Z"
   },
   {
    "duration": 3,
    "start_time": "2021-12-11T23:29:50.593Z"
   },
   {
    "duration": 8,
    "start_time": "2021-12-11T23:29:50.598Z"
   },
   {
    "duration": 56910,
    "start_time": "2021-12-11T23:29:50.607Z"
   },
   {
    "duration": 3,
    "start_time": "2021-12-11T23:30:47.519Z"
   },
   {
    "duration": 10,
    "start_time": "2021-12-11T23:30:47.524Z"
   },
   {
    "duration": 135,
    "start_time": "2021-12-11T23:30:47.535Z"
   },
   {
    "duration": 25,
    "start_time": "2021-12-11T23:30:47.672Z"
   },
   {
    "duration": 221,
    "start_time": "2021-12-11T23:30:47.698Z"
   },
   {
    "duration": 289,
    "start_time": "2021-12-11T23:30:47.921Z"
   },
   {
    "duration": 14352,
    "start_time": "2021-12-11T23:30:48.212Z"
   },
   {
    "duration": 5,
    "start_time": "2021-12-11T23:31:02.566Z"
   },
   {
    "duration": 3753,
    "start_time": "2021-12-11T23:31:02.574Z"
   },
   {
    "duration": 4,
    "start_time": "2021-12-11T23:31:06.329Z"
   },
   {
    "duration": 8,
    "start_time": "2021-12-11T23:31:06.334Z"
   },
   {
    "duration": 45699,
    "start_time": "2021-12-11T23:31:06.344Z"
   },
   {
    "duration": 4,
    "start_time": "2021-12-11T23:31:52.045Z"
   },
   {
    "duration": 21,
    "start_time": "2021-12-11T23:31:52.051Z"
   },
   {
    "duration": 10373,
    "start_time": "2021-12-11T23:31:52.074Z"
   },
   {
    "duration": 3,
    "start_time": "2021-12-11T23:32:02.449Z"
   },
   {
    "duration": 17,
    "start_time": "2021-12-11T23:32:02.454Z"
   },
   {
    "duration": 31628,
    "start_time": "2021-12-11T23:32:02.473Z"
   },
   {
    "duration": 5,
    "start_time": "2021-12-11T23:32:34.107Z"
   },
   {
    "duration": 5,
    "start_time": "2021-12-11T23:32:34.113Z"
   },
   {
    "duration": 6,
    "start_time": "2021-12-11T23:32:34.120Z"
   },
   {
    "duration": 1973,
    "start_time": "2021-12-11T23:32:34.128Z"
   },
   {
    "duration": 1718,
    "start_time": "2021-12-11T23:32:36.103Z"
   },
   {
    "duration": 10037,
    "start_time": "2021-12-12T20:48:15.629Z"
   },
   {
    "duration": 1717,
    "start_time": "2021-12-12T20:48:25.670Z"
   },
   {
    "duration": 34,
    "start_time": "2021-12-12T20:48:27.390Z"
   },
   {
    "duration": 10,
    "start_time": "2021-12-12T20:48:27.427Z"
   },
   {
    "duration": 22,
    "start_time": "2021-12-12T20:48:27.439Z"
   },
   {
    "duration": 33,
    "start_time": "2021-12-12T20:48:27.463Z"
   },
   {
    "duration": 23,
    "start_time": "2021-12-12T20:48:27.498Z"
   },
   {
    "duration": 32,
    "start_time": "2021-12-12T20:48:27.524Z"
   },
   {
    "duration": 1359,
    "start_time": "2021-12-12T20:48:27.559Z"
   },
   {
    "duration": 8,
    "start_time": "2021-12-12T20:48:28.920Z"
   },
   {
    "duration": 19,
    "start_time": "2021-12-12T20:48:28.930Z"
   },
   {
    "duration": 23,
    "start_time": "2021-12-12T20:48:28.951Z"
   },
   {
    "duration": 20,
    "start_time": "2021-12-12T20:48:28.977Z"
   },
   {
    "duration": 26,
    "start_time": "2021-12-12T20:48:28.999Z"
   },
   {
    "duration": 37,
    "start_time": "2021-12-12T20:48:29.027Z"
   },
   {
    "duration": 28,
    "start_time": "2021-12-12T20:48:29.066Z"
   },
   {
    "duration": 23,
    "start_time": "2021-12-12T20:48:29.097Z"
   },
   {
    "duration": 41,
    "start_time": "2021-12-12T20:48:29.122Z"
   },
   {
    "duration": 297,
    "start_time": "2021-12-12T20:48:29.166Z"
   },
   {
    "duration": 27,
    "start_time": "2021-12-12T20:48:29.465Z"
   },
   {
    "duration": 86,
    "start_time": "2021-12-12T20:48:29.494Z"
   },
   {
    "duration": 223,
    "start_time": "2021-12-12T20:48:29.583Z"
   },
   {
    "duration": 6,
    "start_time": "2021-12-12T20:48:29.812Z"
   },
   {
    "duration": 72,
    "start_time": "2021-12-12T20:48:29.825Z"
   },
   {
    "duration": 5,
    "start_time": "2021-12-12T20:48:29.899Z"
   },
   {
    "duration": 25,
    "start_time": "2021-12-12T20:48:29.906Z"
   },
   {
    "duration": 355,
    "start_time": "2021-12-12T20:48:29.933Z"
   },
   {
    "duration": 379,
    "start_time": "2021-12-12T20:48:30.291Z"
   },
   {
    "duration": 14,
    "start_time": "2021-12-12T20:48:30.672Z"
   },
   {
    "duration": 23,
    "start_time": "2021-12-12T20:48:30.688Z"
   },
   {
    "duration": 5920,
    "start_time": "2021-12-12T20:48:30.713Z"
   },
   {
    "duration": 103,
    "start_time": "2021-12-12T20:48:36.725Z"
   },
   {
    "duration": 100,
    "start_time": "2021-12-12T20:48:36.832Z"
   },
   {
    "duration": 4,
    "start_time": "2021-12-12T20:48:36.935Z"
   },
   {
    "duration": 6,
    "start_time": "2021-12-12T20:48:36.942Z"
   },
   {
    "duration": 11,
    "start_time": "2021-12-12T20:48:36.951Z"
   },
   {
    "duration": 7563,
    "start_time": "2021-12-12T20:48:36.964Z"
   },
   {
    "duration": 6,
    "start_time": "2021-12-12T20:48:44.529Z"
   },
   {
    "duration": 32,
    "start_time": "2021-12-12T20:48:44.537Z"
   },
   {
    "duration": 148759,
    "start_time": "2021-12-12T20:48:44.571Z"
   },
   {
    "duration": 6,
    "start_time": "2021-12-12T20:51:13.333Z"
   },
   {
    "duration": 15,
    "start_time": "2021-12-12T20:51:13.341Z"
   },
   {
    "duration": 8076,
    "start_time": "2021-12-12T20:51:13.359Z"
   },
   {
    "duration": 5,
    "start_time": "2021-12-12T20:51:21.525Z"
   },
   {
    "duration": 644,
    "start_time": "2021-12-12T20:51:21.533Z"
   },
   {
    "duration": 5639,
    "start_time": "2021-12-12T20:51:22.180Z"
   },
   {
    "duration": 8,
    "start_time": "2021-12-12T20:51:27.824Z"
   },
   {
    "duration": 7,
    "start_time": "2021-12-12T20:51:27.835Z"
   },
   {
    "duration": 66933,
    "start_time": "2021-12-12T20:51:27.845Z"
   },
   {
    "duration": 8,
    "start_time": "2021-12-12T20:52:34.781Z"
   },
   {
    "duration": 6,
    "start_time": "2021-12-12T20:52:34.792Z"
   },
   {
    "duration": 271,
    "start_time": "2021-12-12T20:52:34.801Z"
   },
   {
    "duration": 32,
    "start_time": "2021-12-12T20:52:35.075Z"
   },
   {
    "duration": 286,
    "start_time": "2021-12-12T20:52:35.110Z"
   },
   {
    "duration": 378,
    "start_time": "2021-12-12T20:52:35.398Z"
   },
   {
    "duration": 14747,
    "start_time": "2021-12-12T20:52:35.779Z"
   },
   {
    "duration": 4,
    "start_time": "2021-12-12T20:52:50.530Z"
   },
   {
    "duration": 5,
    "start_time": "2021-12-12T20:52:50.537Z"
   },
   {
    "duration": 7,
    "start_time": "2021-12-12T20:52:50.545Z"
   },
   {
    "duration": 108554,
    "start_time": "2021-12-12T20:52:50.555Z"
   },
   {
    "duration": 559,
    "start_time": "2021-12-12T20:54:39.111Z"
   },
   {
    "duration": -1117,
    "start_time": "2021-12-12T20:54:40.789Z"
   },
   {
    "duration": -1119,
    "start_time": "2021-12-12T20:54:40.793Z"
   },
   {
    "duration": -1123,
    "start_time": "2021-12-12T20:54:40.798Z"
   },
   {
    "duration": -1124,
    "start_time": "2021-12-12T20:54:40.801Z"
   },
   {
    "duration": -1127,
    "start_time": "2021-12-12T20:54:40.805Z"
   },
   {
    "duration": -1130,
    "start_time": "2021-12-12T20:54:40.810Z"
   },
   {
    "duration": -1133,
    "start_time": "2021-12-12T20:54:40.814Z"
   },
   {
    "duration": -1135,
    "start_time": "2021-12-12T20:54:40.818Z"
   },
   {
    "duration": -1138,
    "start_time": "2021-12-12T20:54:40.822Z"
   },
   {
    "duration": -1139,
    "start_time": "2021-12-12T20:54:40.825Z"
   },
   {
    "duration": -1142,
    "start_time": "2021-12-12T20:54:40.829Z"
   },
   {
    "duration": -1148,
    "start_time": "2021-12-12T20:54:40.837Z"
   },
   {
    "duration": 4,
    "start_time": "2021-12-12T20:55:19.734Z"
   },
   {
    "duration": 320,
    "start_time": "2021-12-12T21:00:15.107Z"
   },
   {
    "duration": 1487192,
    "start_time": "2021-12-12T21:00:28.391Z"
   },
   {
    "duration": -67,
    "start_time": "2021-12-12T21:25:15.652Z"
   },
   {
    "duration": 32162,
    "start_time": "2021-12-12T21:26:42.684Z"
   },
   {
    "duration": 315017,
    "start_time": "2021-12-12T21:28:05.669Z"
   },
   {
    "duration": 308572,
    "start_time": "2021-12-12T21:39:50.740Z"
   },
   {
    "duration": 5,
    "start_time": "2021-12-12T21:47:25.186Z"
   },
   {
    "duration": 4,
    "start_time": "2021-12-12T21:48:31.195Z"
   },
   {
    "duration": 12421,
    "start_time": "2021-12-12T21:50:01.913Z"
   },
   {
    "duration": 5,
    "start_time": "2021-12-12T21:50:22.710Z"
   },
   {
    "duration": 5,
    "start_time": "2021-12-12T21:50:23.595Z"
   },
   {
    "duration": 23178,
    "start_time": "2021-12-12T21:50:24.668Z"
   },
   {
    "duration": 4,
    "start_time": "2021-12-12T21:50:50.042Z"
   },
   {
    "duration": 3,
    "start_time": "2021-12-12T21:50:54.120Z"
   },
   {
    "duration": 6,
    "start_time": "2021-12-12T21:50:56.927Z"
   },
   {
    "duration": 1556,
    "start_time": "2021-12-12T21:50:57.631Z"
   },
   {
    "duration": 1546,
    "start_time": "2021-12-12T21:51:24.441Z"
   },
   {
    "duration": 3567,
    "start_time": "2021-12-12T21:54:28.616Z"
   },
   {
    "duration": 1391,
    "start_time": "2021-12-12T21:54:32.186Z"
   },
   {
    "duration": 36,
    "start_time": "2021-12-12T21:54:33.580Z"
   },
   {
    "duration": 8,
    "start_time": "2021-12-12T21:54:33.624Z"
   },
   {
    "duration": 4,
    "start_time": "2021-12-12T21:54:33.634Z"
   },
   {
    "duration": 5,
    "start_time": "2021-12-12T21:54:33.640Z"
   },
   {
    "duration": 14,
    "start_time": "2021-12-12T21:54:33.648Z"
   },
   {
    "duration": 3,
    "start_time": "2021-12-12T21:54:33.666Z"
   },
   {
    "duration": 1446,
    "start_time": "2021-12-12T21:54:33.672Z"
   },
   {
    "duration": 11,
    "start_time": "2021-12-12T21:54:35.121Z"
   },
   {
    "duration": 11,
    "start_time": "2021-12-12T21:54:35.135Z"
   },
   {
    "duration": 27,
    "start_time": "2021-12-12T21:54:35.149Z"
   },
   {
    "duration": 50,
    "start_time": "2021-12-12T21:54:35.178Z"
   },
   {
    "duration": 5,
    "start_time": "2021-12-12T21:54:35.231Z"
   },
   {
    "duration": 10,
    "start_time": "2021-12-12T21:54:35.238Z"
   },
   {
    "duration": 11,
    "start_time": "2021-12-12T21:54:35.251Z"
   },
   {
    "duration": 8,
    "start_time": "2021-12-12T21:54:35.265Z"
   },
   {
    "duration": 62,
    "start_time": "2021-12-12T21:54:35.276Z"
   },
   {
    "duration": 304,
    "start_time": "2021-12-12T21:54:35.340Z"
   },
   {
    "duration": 26,
    "start_time": "2021-12-12T21:54:35.646Z"
   },
   {
    "duration": 88,
    "start_time": "2021-12-12T21:54:35.675Z"
   },
   {
    "duration": 207,
    "start_time": "2021-12-12T21:54:35.765Z"
   },
   {
    "duration": 5,
    "start_time": "2021-12-12T21:54:35.978Z"
   },
   {
    "duration": 74,
    "start_time": "2021-12-12T21:54:35.986Z"
   },
   {
    "duration": 5,
    "start_time": "2021-12-12T21:54:36.062Z"
   },
   {
    "duration": 7,
    "start_time": "2021-12-12T21:54:36.070Z"
   },
   {
    "duration": 351,
    "start_time": "2021-12-12T21:54:36.079Z"
   },
   {
    "duration": 380,
    "start_time": "2021-12-12T21:54:36.432Z"
   },
   {
    "duration": 19,
    "start_time": "2021-12-12T21:54:36.814Z"
   },
   {
    "duration": 3,
    "start_time": "2021-12-12T21:54:36.835Z"
   },
   {
    "duration": 6585,
    "start_time": "2021-12-12T21:54:36.840Z"
   },
   {
    "duration": 9,
    "start_time": "2021-12-12T21:54:43.427Z"
   },
   {
    "duration": 185,
    "start_time": "2021-12-12T21:54:43.441Z"
   },
   {
    "duration": 4,
    "start_time": "2021-12-12T21:54:43.629Z"
   },
   {
    "duration": 7,
    "start_time": "2021-12-12T21:54:43.635Z"
   },
   {
    "duration": 5,
    "start_time": "2021-12-12T21:54:43.645Z"
   },
   {
    "duration": 7378,
    "start_time": "2021-12-12T21:54:43.652Z"
   },
   {
    "duration": 7,
    "start_time": "2021-12-12T21:54:51.033Z"
   },
   {
    "duration": 8,
    "start_time": "2021-12-12T21:54:51.043Z"
   },
   {
    "duration": 133574,
    "start_time": "2021-12-12T21:54:51.054Z"
   },
   {
    "duration": 6,
    "start_time": "2021-12-12T21:57:04.631Z"
   },
   {
    "duration": 6,
    "start_time": "2021-12-12T21:57:04.639Z"
   },
   {
    "duration": 7876,
    "start_time": "2021-12-12T21:57:04.647Z"
   },
   {
    "duration": 4,
    "start_time": "2021-12-12T21:57:12.527Z"
   },
   {
    "duration": 858,
    "start_time": "2021-12-12T21:57:12.534Z"
   },
   {
    "duration": 3628,
    "start_time": "2021-12-12T21:57:13.395Z"
   },
   {
    "duration": 6,
    "start_time": "2021-12-12T21:57:17.026Z"
   },
   {
    "duration": 5,
    "start_time": "2021-12-12T21:57:17.036Z"
   },
   {
    "duration": 55275,
    "start_time": "2021-12-12T21:57:17.044Z"
   },
   {
    "duration": 6,
    "start_time": "2021-12-12T21:58:12.324Z"
   },
   {
    "duration": 8,
    "start_time": "2021-12-12T21:58:12.332Z"
   },
   {
    "duration": 163,
    "start_time": "2021-12-12T21:58:12.343Z"
   },
   {
    "duration": 31,
    "start_time": "2021-12-12T21:58:12.508Z"
   },
   {
    "duration": 268,
    "start_time": "2021-12-12T21:58:12.542Z"
   },
   {
    "duration": 365,
    "start_time": "2021-12-12T21:58:12.813Z"
   },
   {
    "duration": 12744,
    "start_time": "2021-12-12T21:58:13.181Z"
   },
   {
    "duration": 4,
    "start_time": "2021-12-12T21:58:25.928Z"
   },
   {
    "duration": 8,
    "start_time": "2021-12-12T21:58:25.934Z"
   },
   {
    "duration": 10,
    "start_time": "2021-12-12T21:58:25.944Z"
   },
   {
    "duration": 108,
    "start_time": "2021-12-12T21:58:25.957Z"
   },
   {
    "duration": -22,
    "start_time": "2021-12-12T21:58:26.090Z"
   },
   {
    "duration": -24,
    "start_time": "2021-12-12T21:58:26.094Z"
   },
   {
    "duration": -26,
    "start_time": "2021-12-12T21:58:26.097Z"
   },
   {
    "duration": -28,
    "start_time": "2021-12-12T21:58:26.101Z"
   },
   {
    "duration": -30,
    "start_time": "2021-12-12T21:58:26.104Z"
   },
   {
    "duration": -33,
    "start_time": "2021-12-12T21:58:26.109Z"
   },
   {
    "duration": -35,
    "start_time": "2021-12-12T21:58:26.112Z"
   },
   {
    "duration": -38,
    "start_time": "2021-12-12T21:58:26.116Z"
   },
   {
    "duration": -39,
    "start_time": "2021-12-12T21:58:26.119Z"
   },
   {
    "duration": -45,
    "start_time": "2021-12-12T21:58:26.126Z"
   },
   {
    "duration": 530,
    "start_time": "2021-12-12T22:03:27.647Z"
   },
   {
    "duration": 52587,
    "start_time": "2021-12-12T22:03:44.228Z"
   },
   {
    "duration": 3,
    "start_time": "2021-12-12T22:04:57.217Z"
   },
   {
    "duration": 10967,
    "start_time": "2021-12-12T22:05:22.057Z"
   },
   {
    "duration": 5,
    "start_time": "2021-12-12T22:05:33.027Z"
   },
   {
    "duration": 8,
    "start_time": "2021-12-12T22:05:33.036Z"
   },
   {
    "duration": 22271,
    "start_time": "2021-12-12T22:05:33.046Z"
   },
   {
    "duration": 8,
    "start_time": "2021-12-12T22:05:55.319Z"
   },
   {
    "duration": 7,
    "start_time": "2021-12-12T22:05:55.330Z"
   },
   {
    "duration": 9,
    "start_time": "2021-12-12T22:05:55.340Z"
   },
   {
    "duration": 1624,
    "start_time": "2021-12-12T22:05:55.353Z"
   },
   {
    "duration": 1700,
    "start_time": "2021-12-12T22:05:56.980Z"
   },
   {
    "duration": 34,
    "start_time": "2021-12-12T22:27:36.722Z"
   },
   {
    "duration": 3727,
    "start_time": "2021-12-12T22:27:42.376Z"
   },
   {
    "duration": 34,
    "start_time": "2021-12-12T22:27:57.985Z"
   },
   {
    "duration": 5,
    "start_time": "2021-12-12T22:35:09.164Z"
   },
   {
    "duration": 6,
    "start_time": "2021-12-12T22:35:55.608Z"
   },
   {
    "duration": 301,
    "start_time": "2021-12-12T22:36:41.742Z"
   },
   {
    "duration": 317,
    "start_time": "2021-12-12T22:36:56.799Z"
   },
   {
    "duration": 137,
    "start_time": "2021-12-12T22:37:23.506Z"
   },
   {
    "duration": 6,
    "start_time": "2021-12-12T22:37:37.299Z"
   },
   {
    "duration": 3152,
    "start_time": "2021-12-12T22:38:24.343Z"
   },
   {
    "duration": 7,
    "start_time": "2021-12-12T22:39:18.283Z"
   },
   {
    "duration": 3218,
    "start_time": "2021-12-12T22:39:20.093Z"
   },
   {
    "duration": 7,
    "start_time": "2021-12-12T22:40:07.409Z"
   },
   {
    "duration": 833,
    "start_time": "2021-12-12T22:40:08.855Z"
   },
   {
    "duration": 6,
    "start_time": "2021-12-12T22:42:40.630Z"
   },
   {
    "duration": 3912,
    "start_time": "2021-12-12T22:42:44.528Z"
   },
   {
    "duration": 7,
    "start_time": "2021-12-12T22:43:40.611Z"
   },
   {
    "duration": 4225,
    "start_time": "2021-12-12T22:43:42.617Z"
   },
   {
    "duration": 6,
    "start_time": "2021-12-12T22:43:58.895Z"
   },
   {
    "duration": 4069,
    "start_time": "2021-12-12T22:44:00.434Z"
   },
   {
    "duration": 4014,
    "start_time": "2021-12-12T22:45:40.581Z"
   },
   {
    "duration": 3524,
    "start_time": "2021-12-12T22:47:11.878Z"
   },
   {
    "duration": 1585,
    "start_time": "2021-12-12T22:47:15.405Z"
   },
   {
    "duration": 42,
    "start_time": "2021-12-12T22:47:16.993Z"
   },
   {
    "duration": 8,
    "start_time": "2021-12-12T22:47:17.038Z"
   },
   {
    "duration": 16,
    "start_time": "2021-12-12T22:47:17.048Z"
   },
   {
    "duration": 13,
    "start_time": "2021-12-12T22:47:17.066Z"
   },
   {
    "duration": 29,
    "start_time": "2021-12-12T22:47:17.081Z"
   },
   {
    "duration": 9,
    "start_time": "2021-12-12T22:47:17.114Z"
   },
   {
    "duration": 1381,
    "start_time": "2021-12-12T22:47:17.126Z"
   },
   {
    "duration": 8,
    "start_time": "2021-12-12T22:47:18.509Z"
   },
   {
    "duration": 12,
    "start_time": "2021-12-12T22:47:18.524Z"
   },
   {
    "duration": 26,
    "start_time": "2021-12-12T22:47:18.538Z"
   },
   {
    "duration": 20,
    "start_time": "2021-12-12T22:47:18.567Z"
   },
   {
    "duration": 5,
    "start_time": "2021-12-12T22:47:18.589Z"
   },
   {
    "duration": 8,
    "start_time": "2021-12-12T22:47:18.623Z"
   },
   {
    "duration": 22,
    "start_time": "2021-12-12T22:47:18.633Z"
   },
   {
    "duration": 13,
    "start_time": "2021-12-12T22:47:18.657Z"
   },
   {
    "duration": 22,
    "start_time": "2021-12-12T22:47:18.672Z"
   },
   {
    "duration": 294,
    "start_time": "2021-12-12T22:47:18.696Z"
   },
   {
    "duration": 33,
    "start_time": "2021-12-12T22:47:18.992Z"
   },
   {
    "duration": 67,
    "start_time": "2021-12-12T22:47:19.027Z"
   },
   {
    "duration": 214,
    "start_time": "2021-12-12T22:47:19.096Z"
   },
   {
    "duration": 8,
    "start_time": "2021-12-12T22:47:19.316Z"
   },
   {
    "duration": 67,
    "start_time": "2021-12-12T22:47:19.327Z"
   },
   {
    "duration": 5,
    "start_time": "2021-12-12T22:47:19.397Z"
   },
   {
    "duration": 20,
    "start_time": "2021-12-12T22:47:19.404Z"
   },
   {
    "duration": 334,
    "start_time": "2021-12-12T22:47:19.427Z"
   },
   {
    "duration": 407,
    "start_time": "2021-12-12T22:47:19.763Z"
   },
   {
    "duration": 17,
    "start_time": "2021-12-12T22:47:20.173Z"
   },
   {
    "duration": 18,
    "start_time": "2021-12-12T22:47:20.192Z"
   },
   {
    "duration": 5818,
    "start_time": "2021-12-12T22:47:20.212Z"
   },
   {
    "duration": 98,
    "start_time": "2021-12-12T22:47:26.033Z"
   },
   {
    "duration": 111,
    "start_time": "2021-12-12T22:47:26.225Z"
   },
   {
    "duration": 13,
    "start_time": "2021-12-12T22:47:26.338Z"
   },
   {
    "duration": 10,
    "start_time": "2021-12-12T22:47:26.353Z"
   },
   {
    "duration": 17,
    "start_time": "2021-12-12T22:47:26.365Z"
   },
   {
    "duration": 7389,
    "start_time": "2021-12-12T22:47:26.385Z"
   },
   {
    "duration": 5,
    "start_time": "2021-12-12T22:47:33.776Z"
   },
   {
    "duration": 12,
    "start_time": "2021-12-12T22:47:33.784Z"
   },
   {
    "duration": 135260,
    "start_time": "2021-12-12T22:47:33.798Z"
   },
   {
    "duration": 5,
    "start_time": "2021-12-12T22:49:49.061Z"
   },
   {
    "duration": 4,
    "start_time": "2021-12-12T22:49:49.124Z"
   },
   {
    "duration": 7403,
    "start_time": "2021-12-12T22:49:49.130Z"
   },
   {
    "duration": 94,
    "start_time": "2021-12-12T22:49:56.630Z"
   },
   {
    "duration": 541,
    "start_time": "2021-12-12T22:49:56.726Z"
   },
   {
    "duration": 3681,
    "start_time": "2021-12-12T22:49:57.269Z"
   },
   {
    "duration": 7,
    "start_time": "2021-12-12T22:50:00.953Z"
   },
   {
    "duration": 17,
    "start_time": "2021-12-12T22:50:00.962Z"
   },
   {
    "duration": 53431,
    "start_time": "2021-12-12T22:50:00.982Z"
   },
   {
    "duration": 8,
    "start_time": "2021-12-12T22:50:54.416Z"
   },
   {
    "duration": 8,
    "start_time": "2021-12-12T22:50:54.427Z"
   },
   {
    "duration": 172,
    "start_time": "2021-12-12T22:50:54.437Z"
   },
   {
    "duration": 34,
    "start_time": "2021-12-12T22:50:54.612Z"
   },
   {
    "duration": 280,
    "start_time": "2021-12-12T22:50:54.648Z"
   },
   {
    "duration": 373,
    "start_time": "2021-12-12T22:50:54.931Z"
   },
   {
    "duration": 12618,
    "start_time": "2021-12-12T22:50:55.307Z"
   },
   {
    "duration": 95,
    "start_time": "2021-12-12T22:51:07.929Z"
   },
   {
    "duration": 7,
    "start_time": "2021-12-12T22:51:08.026Z"
   },
   {
    "duration": 5,
    "start_time": "2021-12-12T22:51:08.036Z"
   },
   {
    "duration": 52580,
    "start_time": "2021-12-12T22:51:08.043Z"
   },
   {
    "duration": 4,
    "start_time": "2021-12-12T22:52:00.625Z"
   },
   {
    "duration": 11028,
    "start_time": "2021-12-12T22:52:00.631Z"
   },
   {
    "duration": 5,
    "start_time": "2021-12-12T22:52:11.661Z"
   },
   {
    "duration": 22,
    "start_time": "2021-12-12T22:52:11.668Z"
   },
   {
    "duration": 22534,
    "start_time": "2021-12-12T22:52:11.692Z"
   },
   {
    "duration": 5,
    "start_time": "2021-12-12T22:52:34.229Z"
   },
   {
    "duration": 6,
    "start_time": "2021-12-12T22:52:34.237Z"
   },
   {
    "duration": 8,
    "start_time": "2021-12-12T22:52:34.250Z"
   },
   {
    "duration": 1731,
    "start_time": "2021-12-12T22:52:34.260Z"
   },
   {
    "duration": 1597,
    "start_time": "2021-12-12T22:52:35.993Z"
   },
   {
    "duration": 6,
    "start_time": "2021-12-12T22:52:37.592Z"
   },
   {
    "duration": 4400,
    "start_time": "2021-12-12T22:52:37.601Z"
   },
   {
    "duration": 3884,
    "start_time": "2021-12-12T22:55:46.699Z"
   },
   {
    "duration": 1502,
    "start_time": "2021-12-12T22:55:50.586Z"
   },
   {
    "duration": 42,
    "start_time": "2021-12-12T22:55:52.091Z"
   },
   {
    "duration": 7,
    "start_time": "2021-12-12T22:55:52.136Z"
   },
   {
    "duration": 39,
    "start_time": "2021-12-12T22:55:52.145Z"
   },
   {
    "duration": 17,
    "start_time": "2021-12-12T22:55:52.186Z"
   },
   {
    "duration": 43,
    "start_time": "2021-12-12T22:55:52.205Z"
   },
   {
    "duration": 12,
    "start_time": "2021-12-12T22:55:52.252Z"
   },
   {
    "duration": 1386,
    "start_time": "2021-12-12T22:55:52.267Z"
   },
   {
    "duration": 8,
    "start_time": "2021-12-12T22:55:53.656Z"
   },
   {
    "duration": 14,
    "start_time": "2021-12-12T22:55:53.666Z"
   },
   {
    "duration": 26,
    "start_time": "2021-12-12T22:55:53.683Z"
   },
   {
    "duration": 32,
    "start_time": "2021-12-12T22:55:53.711Z"
   },
   {
    "duration": 6,
    "start_time": "2021-12-12T22:55:53.745Z"
   },
   {
    "duration": 10,
    "start_time": "2021-12-12T22:55:53.753Z"
   },
   {
    "duration": 28,
    "start_time": "2021-12-12T22:55:53.766Z"
   },
   {
    "duration": 27,
    "start_time": "2021-12-12T22:55:53.797Z"
   },
   {
    "duration": 30,
    "start_time": "2021-12-12T22:55:53.827Z"
   },
   {
    "duration": 324,
    "start_time": "2021-12-12T22:55:53.859Z"
   },
   {
    "duration": 26,
    "start_time": "2021-12-12T22:55:54.185Z"
   },
   {
    "duration": 67,
    "start_time": "2021-12-12T22:55:54.224Z"
   },
   {
    "duration": 222,
    "start_time": "2021-12-12T22:55:54.293Z"
   },
   {
    "duration": 6,
    "start_time": "2021-12-12T22:55:54.524Z"
   },
   {
    "duration": 61,
    "start_time": "2021-12-12T22:55:54.533Z"
   },
   {
    "duration": 5,
    "start_time": "2021-12-12T22:55:54.597Z"
   },
   {
    "duration": 23,
    "start_time": "2021-12-12T22:55:54.604Z"
   },
   {
    "duration": 363,
    "start_time": "2021-12-12T22:55:54.629Z"
   },
   {
    "duration": 386,
    "start_time": "2021-12-12T22:55:54.995Z"
   },
   {
    "duration": 15,
    "start_time": "2021-12-12T22:55:55.384Z"
   },
   {
    "duration": 3,
    "start_time": "2021-12-12T22:55:55.401Z"
   },
   {
    "duration": 5623,
    "start_time": "2021-12-12T22:55:55.407Z"
   },
   {
    "duration": 94,
    "start_time": "2021-12-12T22:56:01.034Z"
   },
   {
    "duration": 196,
    "start_time": "2021-12-12T22:56:01.132Z"
   },
   {
    "duration": 3,
    "start_time": "2021-12-12T22:56:01.331Z"
   },
   {
    "duration": 12,
    "start_time": "2021-12-12T22:56:01.336Z"
   },
   {
    "duration": 16,
    "start_time": "2021-12-12T22:56:01.351Z"
   },
   {
    "duration": 7844,
    "start_time": "2021-12-12T22:56:01.370Z"
   },
   {
    "duration": 10,
    "start_time": "2021-12-12T22:56:09.216Z"
   },
   {
    "duration": 6,
    "start_time": "2021-12-12T22:56:09.229Z"
   },
   {
    "duration": 140706,
    "start_time": "2021-12-12T22:56:09.237Z"
   },
   {
    "duration": 6,
    "start_time": "2021-12-12T22:58:29.946Z"
   },
   {
    "duration": 9,
    "start_time": "2021-12-12T22:58:29.955Z"
   },
   {
    "duration": 7159,
    "start_time": "2021-12-12T22:58:29.966Z"
   },
   {
    "duration": 95,
    "start_time": "2021-12-12T22:58:37.129Z"
   },
   {
    "duration": 544,
    "start_time": "2021-12-12T22:58:37.226Z"
   },
   {
    "duration": 3867,
    "start_time": "2021-12-12T22:58:37.772Z"
   },
   {
    "duration": 6,
    "start_time": "2021-12-12T22:58:41.641Z"
   },
   {
    "duration": 10,
    "start_time": "2021-12-12T22:58:41.650Z"
   },
   {
    "duration": 51110,
    "start_time": "2021-12-12T22:58:41.662Z"
   },
   {
    "duration": 6,
    "start_time": "2021-12-12T22:59:32.775Z"
   },
   {
    "duration": 6,
    "start_time": "2021-12-12T22:59:32.784Z"
   },
   {
    "duration": 166,
    "start_time": "2021-12-12T22:59:32.792Z"
   },
   {
    "duration": 29,
    "start_time": "2021-12-12T22:59:32.961Z"
   },
   {
    "duration": 270,
    "start_time": "2021-12-12T22:59:32.993Z"
   },
   {
    "duration": 363,
    "start_time": "2021-12-12T22:59:33.266Z"
   },
   {
    "duration": 12103,
    "start_time": "2021-12-12T22:59:33.631Z"
   },
   {
    "duration": 4,
    "start_time": "2021-12-12T22:59:45.825Z"
   },
   {
    "duration": 99,
    "start_time": "2021-12-12T22:59:45.832Z"
   },
   {
    "duration": 5,
    "start_time": "2021-12-12T22:59:45.934Z"
   },
   {
    "duration": 51412,
    "start_time": "2021-12-12T22:59:45.941Z"
   },
   {
    "duration": 4,
    "start_time": "2021-12-12T23:00:37.356Z"
   },
   {
    "duration": 11112,
    "start_time": "2021-12-12T23:00:37.363Z"
   },
   {
    "duration": 5,
    "start_time": "2021-12-12T23:00:48.478Z"
   },
   {
    "duration": 23,
    "start_time": "2021-12-12T23:00:48.485Z"
   },
   {
    "duration": 22235,
    "start_time": "2021-12-12T23:00:48.510Z"
   },
   {
    "duration": 5,
    "start_time": "2021-12-12T23:01:10.747Z"
   },
   {
    "duration": 6,
    "start_time": "2021-12-12T23:01:10.755Z"
   },
   {
    "duration": 6,
    "start_time": "2021-12-12T23:01:10.768Z"
   },
   {
    "duration": 1612,
    "start_time": "2021-12-12T23:01:10.776Z"
   },
   {
    "duration": 1693,
    "start_time": "2021-12-12T23:01:12.391Z"
   },
   {
    "duration": 8,
    "start_time": "2021-12-12T23:01:14.087Z"
   },
   {
    "duration": 4218,
    "start_time": "2021-12-12T23:01:14.097Z"
   }
  ],
  "kernelspec": {
   "display_name": "Python 3",
   "language": "python",
   "name": "python3"
  },
  "language_info": {
   "codemirror_mode": {
    "name": "ipython",
    "version": 3
   },
   "file_extension": ".py",
   "mimetype": "text/x-python",
   "name": "python",
   "nbconvert_exporter": "python",
   "pygments_lexer": "ipython3",
   "version": "3.8.11"
  },
  "toc": {
   "base_numbering": 1,
   "nav_menu": {},
   "number_sections": true,
   "sideBar": true,
   "skip_h1_title": true,
   "title_cell": "Содержание",
   "title_sidebar": "Contents",
   "toc_cell": true,
   "toc_position": {
    "height": "calc(100% - 180px)",
    "left": "10px",
    "top": "150px",
    "width": "271.797px"
   },
   "toc_section_display": true,
   "toc_window_display": false
  }
 },
 "nbformat": 4,
 "nbformat_minor": 2
}
